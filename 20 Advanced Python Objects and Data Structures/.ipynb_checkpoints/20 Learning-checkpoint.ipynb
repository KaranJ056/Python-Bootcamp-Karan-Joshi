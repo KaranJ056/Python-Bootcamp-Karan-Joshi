{
 "cells": [
  {
   "cell_type": "markdown",
   "id": "72a439d7-0d59-4223-b36d-a00b6faf032f",
   "metadata": {},
   "source": [
    "### Advanced Pyhton Objects and Data Structures"
   ]
  },
  {
   "cell_type": "markdown",
   "id": "0bfdf713-4d21-49d3-93ac-04b21a7be5e8",
   "metadata": {
    "jp-MarkdownHeadingCollapsed": true
   },
   "source": [
    "#### Advanced Numbers"
   ]
  },
  {
   "cell_type": "raw",
   "id": "68104746-39eb-4b84-8573-d377510d4a1f",
   "metadata": {},
   "source": [
    "There is built-in methods available in Python for converting numbers into Hexadecimal and Binary format:\n",
    "\n",
    "bin(number) => returns a binary representation of number\n",
    "hex(number) => returns a hexadecimal representation of number"
   ]
  },
  {
   "cell_type": "code",
   "execution_count": 1,
   "id": "bddc4ae1-3f5d-4eee-82c4-dab91461943b",
   "metadata": {},
   "outputs": [],
   "source": [
    "# examples"
   ]
  },
  {
   "cell_type": "code",
   "execution_count": 2,
   "id": "7d91b660-4719-4146-a281-e5d2e4776b15",
   "metadata": {},
   "outputs": [
    {
     "data": {
      "text/plain": [
       "'0xc'"
      ]
     },
     "execution_count": 2,
     "metadata": {},
     "output_type": "execute_result"
    }
   ],
   "source": [
    "hex(12)"
   ]
  },
  {
   "cell_type": "code",
   "execution_count": 3,
   "id": "958687f7-51b4-42ae-b483-d1519ed95ded",
   "metadata": {},
   "outputs": [
    {
     "data": {
      "text/plain": [
       "'0x400'"
      ]
     },
     "execution_count": 3,
     "metadata": {},
     "output_type": "execute_result"
    }
   ],
   "source": [
    "hex(1024)"
   ]
  },
  {
   "cell_type": "code",
   "execution_count": 4,
   "id": "0817580f-6e18-4fe5-9e74-a1e02753d483",
   "metadata": {},
   "outputs": [
    {
     "data": {
      "text/plain": [
       "'0x463'"
      ]
     },
     "execution_count": 4,
     "metadata": {},
     "output_type": "execute_result"
    }
   ],
   "source": [
    "hex(1123)"
   ]
  },
  {
   "cell_type": "code",
   "execution_count": 5,
   "id": "fa51a168-8310-4040-bde2-0aa7062175f2",
   "metadata": {},
   "outputs": [
    {
     "data": {
      "text/plain": [
       "'0b10'"
      ]
     },
     "execution_count": 5,
     "metadata": {},
     "output_type": "execute_result"
    }
   ],
   "source": [
    "bin(2)"
   ]
  },
  {
   "cell_type": "code",
   "execution_count": 6,
   "id": "8b912e5e-8817-4014-9061-ed9275933c45",
   "metadata": {},
   "outputs": [
    {
     "data": {
      "text/plain": [
       "'0b10111'"
      ]
     },
     "execution_count": 6,
     "metadata": {},
     "output_type": "execute_result"
    }
   ],
   "source": [
    "bin(23)"
   ]
  },
  {
   "cell_type": "raw",
   "id": "a057fda1-2aa4-4a63-9d29-20035eac40f1",
   "metadata": {},
   "source": [
    "For power of a number we have two options:\n",
    "\n",
    "1. x**y => x^y\n",
    "2. pow(x, y) => x^y\n",
    "   pow(x, y, z) => (x**y) % z"
   ]
  },
  {
   "cell_type": "code",
   "execution_count": 7,
   "id": "07e072c9-c761-43cd-b8ab-1ed5ff973d66",
   "metadata": {},
   "outputs": [
    {
     "data": {
      "text/plain": [
       "16"
      ]
     },
     "execution_count": 7,
     "metadata": {},
     "output_type": "execute_result"
    }
   ],
   "source": [
    "2 ** 4"
   ]
  },
  {
   "cell_type": "code",
   "execution_count": 8,
   "id": "e3fc38f5-30c7-4edc-bf9e-51c13bce4a89",
   "metadata": {},
   "outputs": [
    {
     "data": {
      "text/plain": [
       "81"
      ]
     },
     "execution_count": 8,
     "metadata": {},
     "output_type": "execute_result"
    }
   ],
   "source": [
    "3 ** 4"
   ]
  },
  {
   "cell_type": "code",
   "execution_count": 9,
   "id": "0f6c47e0-6b7b-458e-a274-f5a3787cf614",
   "metadata": {},
   "outputs": [
    {
     "data": {
      "text/plain": [
       "8"
      ]
     },
     "execution_count": 9,
     "metadata": {},
     "output_type": "execute_result"
    }
   ],
   "source": [
    "pow(2,3)"
   ]
  },
  {
   "cell_type": "code",
   "execution_count": 10,
   "id": "808a29db-0548-4ab7-b1a5-8acf1c23b443",
   "metadata": {},
   "outputs": [
    {
     "data": {
      "text/plain": [
       "1"
      ]
     },
     "execution_count": 10,
     "metadata": {},
     "output_type": "execute_result"
    }
   ],
   "source": [
    "pow(2,4,3)"
   ]
  },
  {
   "cell_type": "raw",
   "id": "cb1d8dff-8faa-4597-9d27-d6e6f4efdc21",
   "metadata": {},
   "source": [
    "abs(num) => gives absolute value of any number or expression passed\n",
    "round(num) => round of the nmnber to a nearest decimal number\n",
    "round(num, decimal_points) => rounds up a nuber upto a given decimal points"
   ]
  },
  {
   "cell_type": "code",
   "execution_count": 16,
   "id": "bd9b7902-5669-4a4c-8369-c392dfb95c4f",
   "metadata": {},
   "outputs": [
    {
     "data": {
      "text/plain": [
       "1"
      ]
     },
     "execution_count": 16,
     "metadata": {},
     "output_type": "execute_result"
    }
   ],
   "source": [
    "abs(-1)"
   ]
  },
  {
   "cell_type": "code",
   "execution_count": 17,
   "id": "2ccf7bc5-7681-47ba-9601-64f8ff5c8a58",
   "metadata": {},
   "outputs": [
    {
     "data": {
      "text/plain": [
       "2323"
      ]
     },
     "execution_count": 17,
     "metadata": {},
     "output_type": "execute_result"
    }
   ],
   "source": [
    "abs(-2323)"
   ]
  },
  {
   "cell_type": "code",
   "execution_count": 18,
   "id": "614e2069-b699-42cb-acfb-5bd1f00022c7",
   "metadata": {},
   "outputs": [
    {
     "data": {
      "text/plain": [
       "3"
      ]
     },
     "execution_count": 18,
     "metadata": {},
     "output_type": "execute_result"
    }
   ],
   "source": [
    "round(3)"
   ]
  },
  {
   "cell_type": "code",
   "execution_count": 19,
   "id": "1a57c958-3bcd-426c-8b0d-49d5bc24dc08",
   "metadata": {},
   "outputs": [
    {
     "data": {
      "text/plain": [
       "4"
      ]
     },
     "execution_count": 19,
     "metadata": {},
     "output_type": "execute_result"
    }
   ],
   "source": [
    "round(3.87)"
   ]
  },
  {
   "cell_type": "code",
   "execution_count": 20,
   "id": "e267c99b-3999-43dc-b356-a37317766c03",
   "metadata": {},
   "outputs": [
    {
     "data": {
      "text/plain": [
       "6"
      ]
     },
     "execution_count": 20,
     "metadata": {},
     "output_type": "execute_result"
    }
   ],
   "source": [
    "round(5.9)"
   ]
  },
  {
   "cell_type": "code",
   "execution_count": 21,
   "id": "e4efaf4d-9aa7-4e04-8e42-c76d88112e26",
   "metadata": {},
   "outputs": [
    {
     "data": {
      "text/plain": [
       "3.142"
      ]
     },
     "execution_count": 21,
     "metadata": {},
     "output_type": "execute_result"
    }
   ],
   "source": [
    "round(3.141592, 3)"
   ]
  },
  {
   "cell_type": "code",
   "execution_count": null,
   "id": "d140fa1a-653e-4126-a363-779e97e64524",
   "metadata": {},
   "outputs": [],
   "source": []
  },
  {
   "cell_type": "markdown",
   "id": "68e4e540-e8ef-4dad-87e0-c0e4bfbe531c",
   "metadata": {
    "jp-MarkdownHeadingCollapsed": true
   },
   "source": [
    "#### Advanced Strings"
   ]
  },
  {
   "cell_type": "code",
   "execution_count": 40,
   "id": "09ae8e26-b6a3-4e25-999c-5a1f5eecc81c",
   "metadata": {},
   "outputs": [],
   "source": [
    "s = \"asdaklnklad asddmlasd\""
   ]
  },
  {
   "cell_type": "code",
   "execution_count": 23,
   "id": "0e44f45a-8314-45f0-8198-31225ed10d8e",
   "metadata": {},
   "outputs": [
    {
     "data": {
      "text/plain": [
       "'Asdaklnklad asddml;asd'"
      ]
     },
     "execution_count": 23,
     "metadata": {},
     "output_type": "execute_result"
    }
   ],
   "source": [
    "s.capitalize()"
   ]
  },
  {
   "cell_type": "code",
   "execution_count": 25,
   "id": "c572dfdb-0f68-4732-9482-61de3304cd17",
   "metadata": {},
   "outputs": [
    {
     "data": {
      "text/plain": [
       "'ASDAKLNKLAD ASDDML;ASD'"
      ]
     },
     "execution_count": 25,
     "metadata": {},
     "output_type": "execute_result"
    }
   ],
   "source": [
    "s.upper()"
   ]
  },
  {
   "cell_type": "code",
   "execution_count": 26,
   "id": "5ae6f258-354e-4667-b1ff-14b26740c435",
   "metadata": {},
   "outputs": [
    {
     "data": {
      "text/plain": [
       "'asdaklnklad asddml;asd'"
      ]
     },
     "execution_count": 26,
     "metadata": {},
     "output_type": "execute_result"
    }
   ],
   "source": [
    "s.lower()"
   ]
  },
  {
   "cell_type": "code",
   "execution_count": 27,
   "id": "a2ad5ed8-6663-4c47-9e41-124b7bcceb75",
   "metadata": {},
   "outputs": [],
   "source": [
    "# location and counting"
   ]
  },
  {
   "cell_type": "code",
   "execution_count": 28,
   "id": "a6243e38-ade1-41d8-9877-e70300f3d656",
   "metadata": {},
   "outputs": [
    {
     "data": {
      "text/plain": [
       "5"
      ]
     },
     "execution_count": 28,
     "metadata": {},
     "output_type": "execute_result"
    }
   ],
   "source": [
    "s.count('a')"
   ]
  },
  {
   "cell_type": "code",
   "execution_count": 31,
   "id": "e31c7cbc-6c6e-442c-a51e-004c58f94c6b",
   "metadata": {},
   "outputs": [
    {
     "data": {
      "text/plain": [
       "0"
      ]
     },
     "execution_count": 31,
     "metadata": {},
     "output_type": "execute_result"
    }
   ],
   "source": [
    "s.find('a')"
   ]
  },
  {
   "cell_type": "code",
   "execution_count": 34,
   "id": "a92c6137-d77f-46e6-ab02-c753ede0945c",
   "metadata": {},
   "outputs": [
    {
     "data": {
      "text/plain": [
       "3"
      ]
     },
     "execution_count": 34,
     "metadata": {},
     "output_type": "execute_result"
    }
   ],
   "source": [
    "s.find('a',2)"
   ]
  },
  {
   "cell_type": "code",
   "execution_count": 35,
   "id": "fcdf839f-859c-497d-bcae-430be9ddd153",
   "metadata": {},
   "outputs": [
    {
     "data": {
      "text/plain": [
       "'##############asdaklnklad asddml;asd##############'"
      ]
     },
     "execution_count": 35,
     "metadata": {},
     "output_type": "execute_result"
    }
   ],
   "source": [
    "s.center(50, \"#\")"
   ]
  },
  {
   "cell_type": "code",
   "execution_count": 43,
   "id": "45b650af-662b-4a01-a8dc-9da14d18e6d9",
   "metadata": {},
   "outputs": [],
   "source": [
    "s = \"Hello\""
   ]
  },
  {
   "cell_type": "code",
   "execution_count": 44,
   "id": "841cdaf5-77fc-4e66-bddc-dd4d7d9ed855",
   "metadata": {},
   "outputs": [
    {
     "data": {
      "text/plain": [
       "True"
      ]
     },
     "execution_count": 44,
     "metadata": {},
     "output_type": "execute_result"
    }
   ],
   "source": [
    "s.isalnum()"
   ]
  },
  {
   "cell_type": "code",
   "execution_count": 45,
   "id": "5a46e714-6e1a-4a2d-b95a-b3b1928bfb19",
   "metadata": {},
   "outputs": [
    {
     "data": {
      "text/plain": [
       "True"
      ]
     },
     "execution_count": 45,
     "metadata": {},
     "output_type": "execute_result"
    }
   ],
   "source": [
    "s.isalpha()"
   ]
  },
  {
   "cell_type": "code",
   "execution_count": 46,
   "id": "b207c343-3bda-49f2-8e7f-5818e2c3ea8b",
   "metadata": {},
   "outputs": [
    {
     "data": {
      "text/plain": [
       "False"
      ]
     },
     "execution_count": 46,
     "metadata": {},
     "output_type": "execute_result"
    }
   ],
   "source": [
    "s.isdigit()"
   ]
  },
  {
   "cell_type": "code",
   "execution_count": 47,
   "id": "1ce6757f-3d21-4063-8228-b6b67da5feca",
   "metadata": {},
   "outputs": [
    {
     "data": {
      "text/plain": [
       "False"
      ]
     },
     "execution_count": 47,
     "metadata": {},
     "output_type": "execute_result"
    }
   ],
   "source": [
    "s.isspace()"
   ]
  },
  {
   "cell_type": "code",
   "execution_count": 49,
   "id": "7c0c38f5-657d-48e6-b380-723bf1f366f8",
   "metadata": {},
   "outputs": [
    {
     "data": {
      "text/plain": [
       "True"
      ]
     },
     "execution_count": 49,
     "metadata": {},
     "output_type": "execute_result"
    }
   ],
   "source": [
    "s.istitle() # title = Karan Joshi (means all first lettr of a word is capital)"
   ]
  },
  {
   "cell_type": "code",
   "execution_count": 50,
   "id": "f93a4801-2b39-4b79-905c-ef9e82b3bac6",
   "metadata": {},
   "outputs": [
    {
     "data": {
      "text/plain": [
       "False"
      ]
     },
     "execution_count": 50,
     "metadata": {},
     "output_type": "execute_result"
    }
   ],
   "source": [
    "s.isupper()"
   ]
  },
  {
   "cell_type": "code",
   "execution_count": 51,
   "id": "1d3b4c32-e2d4-4e74-b1ca-c68d3b9d0fdc",
   "metadata": {},
   "outputs": [
    {
     "data": {
      "text/plain": [
       "True"
      ]
     },
     "execution_count": 51,
     "metadata": {},
     "output_type": "execute_result"
    }
   ],
   "source": [
    "\"hello\".islower()"
   ]
  },
  {
   "cell_type": "code",
   "execution_count": 54,
   "id": "f41009c1-42b4-439c-b65b-92777ccb5aee",
   "metadata": {},
   "outputs": [
    {
     "data": {
      "text/plain": [
       "True"
      ]
     },
     "execution_count": 54,
     "metadata": {},
     "output_type": "execute_result"
    }
   ],
   "source": [
    "\"hello\".endswith('o')"
   ]
  },
  {
   "cell_type": "code",
   "execution_count": 57,
   "id": "92312669-e30a-4b24-bb7a-0ffc26a79e15",
   "metadata": {},
   "outputs": [
    {
     "data": {
      "text/plain": [
       "['h', 'llo h', 'llo h', 'llo']"
      ]
     },
     "execution_count": 57,
     "metadata": {},
     "output_type": "execute_result"
    }
   ],
   "source": [
    "# split method\n",
    "\n",
    "\"hello hello hello\".split('e')"
   ]
  },
  {
   "cell_type": "code",
   "execution_count": 58,
   "id": "7be94793-3336-440b-881d-de00b5814b05",
   "metadata": {},
   "outputs": [
    {
     "data": {
      "text/plain": [
       "('h', 'i', 'hihihasdhihiii')"
      ]
     },
     "execution_count": 58,
     "metadata": {},
     "output_type": "execute_result"
    }
   ],
   "source": [
    "# partition\n",
    "\n",
    "\"hihihihasdhihiii\".partition('i')"
   ]
  },
  {
   "cell_type": "code",
   "execution_count": null,
   "id": "25a2c50e-19a1-41e2-900c-dff1412bfde4",
   "metadata": {},
   "outputs": [],
   "source": []
  },
  {
   "cell_type": "markdown",
   "id": "8a750812-7fbc-4c1e-bb57-d1a2550deee4",
   "metadata": {
    "jp-MarkdownHeadingCollapsed": true
   },
   "source": [
    "#### Advanced Sets"
   ]
  },
  {
   "cell_type": "code",
   "execution_count": 61,
   "id": "71545eae-d3b0-41e7-bcec-a3a3b304b6ff",
   "metadata": {},
   "outputs": [],
   "source": [
    "s = set()"
   ]
  },
  {
   "cell_type": "code",
   "execution_count": 62,
   "id": "efbecbc7-a162-4026-9584-63b5ae585128",
   "metadata": {},
   "outputs": [
    {
     "data": {
      "text/plain": [
       "set"
      ]
     },
     "execution_count": 62,
     "metadata": {},
     "output_type": "execute_result"
    }
   ],
   "source": [
    "type(s)"
   ]
  },
  {
   "cell_type": "code",
   "execution_count": 63,
   "id": "7b3a746a-81b3-4f89-8ae9-e1392db1ec79",
   "metadata": {},
   "outputs": [],
   "source": [
    "s.add(1)"
   ]
  },
  {
   "cell_type": "code",
   "execution_count": 64,
   "id": "141df642-71fa-4f10-87e5-c51214a890bd",
   "metadata": {},
   "outputs": [],
   "source": [
    "s.add(2)"
   ]
  },
  {
   "cell_type": "code",
   "execution_count": 65,
   "id": "7af350a9-d3ce-4172-931d-79b933fb79a0",
   "metadata": {},
   "outputs": [
    {
     "data": {
      "text/plain": [
       "{1, 2}"
      ]
     },
     "execution_count": 65,
     "metadata": {},
     "output_type": "execute_result"
    }
   ],
   "source": [
    "s"
   ]
  },
  {
   "cell_type": "code",
   "execution_count": 66,
   "id": "15f2a23a-b297-4b75-8f37-a34802ba9fac",
   "metadata": {},
   "outputs": [
    {
     "data": {
      "text/plain": [
       "{1, 2}"
      ]
     },
     "execution_count": 66,
     "metadata": {},
     "output_type": "execute_result"
    }
   ],
   "source": [
    "s.add(2)\n",
    "s"
   ]
  },
  {
   "cell_type": "code",
   "execution_count": 96,
   "id": "6e3bb65c-7f80-4bb2-b459-d5adf94ec607",
   "metadata": {},
   "outputs": [],
   "source": [
    "s.clear()"
   ]
  },
  {
   "cell_type": "code",
   "execution_count": 97,
   "id": "cd97dca3-b7ac-49f3-81a4-d2667bce9b0c",
   "metadata": {},
   "outputs": [
    {
     "data": {
      "text/plain": [
       "set()"
      ]
     },
     "execution_count": 97,
     "metadata": {},
     "output_type": "execute_result"
    }
   ],
   "source": [
    "s"
   ]
  },
  {
   "cell_type": "code",
   "execution_count": 105,
   "id": "7f4991fd-daeb-4c11-ba1b-a3b249a71b9a",
   "metadata": {},
   "outputs": [],
   "source": [
    "s.add(1)\n",
    "s.add(2)\n",
    "s.add(3)"
   ]
  },
  {
   "cell_type": "code",
   "execution_count": 106,
   "id": "3efa3991-7243-4577-bef7-6851a709cde6",
   "metadata": {},
   "outputs": [
    {
     "data": {
      "text/plain": [
       "{1, 2, 3}"
      ]
     },
     "execution_count": 106,
     "metadata": {},
     "output_type": "execute_result"
    }
   ],
   "source": [
    "s"
   ]
  },
  {
   "cell_type": "code",
   "execution_count": 107,
   "id": "a9e206e2-3ac5-47eb-80fe-b8e4e39ff444",
   "metadata": {},
   "outputs": [],
   "source": [
    "sc = s.copy()"
   ]
  },
  {
   "cell_type": "code",
   "execution_count": 108,
   "id": "c26821c7-90c3-4007-8402-db1fb1739d2b",
   "metadata": {},
   "outputs": [
    {
     "data": {
      "text/plain": [
       "{1, 2, 3}"
      ]
     },
     "execution_count": 108,
     "metadata": {},
     "output_type": "execute_result"
    }
   ],
   "source": [
    "sc"
   ]
  },
  {
   "cell_type": "code",
   "execution_count": 109,
   "id": "a08878cc-755f-465d-ba61-bb0e93e3ca90",
   "metadata": {},
   "outputs": [],
   "source": [
    "s.add(4)"
   ]
  },
  {
   "cell_type": "code",
   "execution_count": 110,
   "id": "67e605b2-b765-4a8e-a6fb-664e00be76ea",
   "metadata": {},
   "outputs": [
    {
     "name": "stdout",
     "output_type": "stream",
     "text": [
      "{1, 2, 3, 4}\n",
      "{1, 2, 3}\n"
     ]
    }
   ],
   "source": [
    "print(s)\n",
    "print(sc)"
   ]
  },
  {
   "cell_type": "code",
   "execution_count": null,
   "id": "3c842c5a-1555-4094-82cb-deaa977e2eec",
   "metadata": {},
   "outputs": [],
   "source": []
  },
  {
   "cell_type": "code",
   "execution_count": 111,
   "id": "1c06badb-3d6a-49c4-8b8c-d688182c7eb8",
   "metadata": {},
   "outputs": [
    {
     "data": {
      "text/plain": [
       "{1, 2, 3, 4}"
      ]
     },
     "execution_count": 111,
     "metadata": {},
     "output_type": "execute_result"
    }
   ],
   "source": [
    "s"
   ]
  },
  {
   "cell_type": "code",
   "execution_count": 112,
   "id": "71852fc9-a2ee-4e97-92b5-1bf09f6be8a4",
   "metadata": {},
   "outputs": [
    {
     "data": {
      "text/plain": [
       "{4}"
      ]
     },
     "execution_count": 112,
     "metadata": {},
     "output_type": "execute_result"
    }
   ],
   "source": [
    "s.difference(sc)"
   ]
  },
  {
   "cell_type": "code",
   "execution_count": 113,
   "id": "f9a0dd02-d5f0-4747-bb81-689a24d44100",
   "metadata": {},
   "outputs": [],
   "source": [
    "s1 = {1,2,3,4,5}\n",
    "s2 = {1,2,7,8,9}"
   ]
  },
  {
   "cell_type": "code",
   "execution_count": 115,
   "id": "3ae5bcb9-a5a3-4b8e-988c-cc709288aa3c",
   "metadata": {},
   "outputs": [],
   "source": [
    "s1.difference_update(s2)"
   ]
  },
  {
   "cell_type": "code",
   "execution_count": 116,
   "id": "ba13b430-9a41-43a0-b064-26ec5ec13f4a",
   "metadata": {},
   "outputs": [
    {
     "data": {
      "text/plain": [
       "{3, 4, 5}"
      ]
     },
     "execution_count": 116,
     "metadata": {},
     "output_type": "execute_result"
    }
   ],
   "source": [
    "s1"
   ]
  },
  {
   "cell_type": "code",
   "execution_count": 117,
   "id": "3a18d5b8-195b-498d-ad8c-9c70146cf1fd",
   "metadata": {},
   "outputs": [
    {
     "data": {
      "text/plain": [
       "{1, 2, 3, 4}"
      ]
     },
     "execution_count": 117,
     "metadata": {},
     "output_type": "execute_result"
    }
   ],
   "source": [
    "s"
   ]
  },
  {
   "cell_type": "code",
   "execution_count": 118,
   "id": "16b1ab02-5ff6-4087-bba3-ead3b9720505",
   "metadata": {},
   "outputs": [],
   "source": [
    "s.discard(2)"
   ]
  },
  {
   "cell_type": "code",
   "execution_count": 119,
   "id": "f3e07561-9132-49ab-b33c-4ba68c2f40e3",
   "metadata": {},
   "outputs": [
    {
     "data": {
      "text/plain": [
       "{1, 3, 4}"
      ]
     },
     "execution_count": 119,
     "metadata": {},
     "output_type": "execute_result"
    }
   ],
   "source": [
    "s"
   ]
  },
  {
   "cell_type": "code",
   "execution_count": 122,
   "id": "51eba3e2-9230-47e8-9b30-abdcab26224f",
   "metadata": {},
   "outputs": [
    {
     "data": {
      "text/plain": [
       "{1, 3, 4}"
      ]
     },
     "execution_count": 122,
     "metadata": {},
     "output_type": "execute_result"
    }
   ],
   "source": [
    "# discard doesn't do anything if member is not present in the set\n",
    "s.discard(12)\n",
    "s"
   ]
  },
  {
   "cell_type": "code",
   "execution_count": 125,
   "id": "36143983-e5d5-4565-b7d8-f7818d5a5bf2",
   "metadata": {},
   "outputs": [],
   "source": [
    "s1 = {1,2,3,4,5}"
   ]
  },
  {
   "cell_type": "code",
   "execution_count": 126,
   "id": "8ec6b055-7025-421f-9960-d2f69087ae7c",
   "metadata": {},
   "outputs": [],
   "source": [
    "s2 = {1,2,7,8,9}"
   ]
  },
  {
   "cell_type": "code",
   "execution_count": 128,
   "id": "9cd4ef46-0623-4cb4-b0df-8e7a075fd36b",
   "metadata": {},
   "outputs": [
    {
     "data": {
      "text/plain": [
       "{1, 2}"
      ]
     },
     "execution_count": 128,
     "metadata": {},
     "output_type": "execute_result"
    }
   ],
   "source": [
    "s1.intersection(s2)"
   ]
  },
  {
   "cell_type": "code",
   "execution_count": 130,
   "id": "9314b909-16cc-4c16-8adb-556a3d0603da",
   "metadata": {},
   "outputs": [],
   "source": [
    "s1.intersection_update(s2)"
   ]
  },
  {
   "cell_type": "code",
   "execution_count": 132,
   "id": "781b0ca1-1bfb-4bf5-966b-da62a8ca3905",
   "metadata": {},
   "outputs": [
    {
     "data": {
      "text/plain": [
       "{1, 2}"
      ]
     },
     "execution_count": 132,
     "metadata": {},
     "output_type": "execute_result"
    }
   ],
   "source": [
    "s1"
   ]
  },
  {
   "cell_type": "raw",
   "id": "af89d0f9-81cd-48eb-9ee8-24db27488d66",
   "metadata": {},
   "source": [
    "myset.isdisjoint(another_set) => returns true if there isn't any common elements in sets otherwise false\n",
    "myset.issubset(another_set) => returns true if set 2 is a subset of set 1 otherwise false\n",
    "myset.issuperset(another_set) => returns true if set 2 is a superset of set 1 otherwise false"
   ]
  },
  {
   "cell_type": "raw",
   "id": "6e1278bd-8d94-4023-809a-defff247c0c6",
   "metadata": {},
   "source": [
    "myset.symmetric_difference(another_set) => returns elements that are present in another_set but not in myset\n",
    "myset.union(another_set) => returns elements that are present in either of the set\n",
    "myset.update(another_set) => updates myset with the elements that are present in another_set and not in myset"
   ]
  },
  {
   "cell_type": "code",
   "execution_count": null,
   "id": "623873f1-2178-4817-8c62-6871c7978910",
   "metadata": {},
   "outputs": [],
   "source": []
  },
  {
   "cell_type": "markdown",
   "id": "2daf106c-98be-4fb7-9460-f7484adc783a",
   "metadata": {
    "jp-MarkdownHeadingCollapsed": true
   },
   "source": [
    "#### Advanced Dictionaries"
   ]
  },
  {
   "cell_type": "code",
   "execution_count": 133,
   "id": "13b4c935-3f78-44bc-836c-1d3402965f63",
   "metadata": {},
   "outputs": [],
   "source": [
    "# dictionary comprehension"
   ]
  },
  {
   "cell_type": "code",
   "execution_count": 134,
   "id": "19a4eafe-850e-435d-912d-f7743a717244",
   "metadata": {},
   "outputs": [],
   "source": [
    "# example : \n",
    "dict = {x:x**2 for x in range(5)}"
   ]
  },
  {
   "cell_type": "code",
   "execution_count": 135,
   "id": "0b795c6d-e6f2-472d-8775-ce800eeaf535",
   "metadata": {},
   "outputs": [
    {
     "data": {
      "text/plain": [
       "{0: 0, 1: 1, 2: 4, 3: 9, 4: 16}"
      ]
     },
     "execution_count": 135,
     "metadata": {},
     "output_type": "execute_result"
    }
   ],
   "source": [
    "dict"
   ]
  },
  {
   "cell_type": "raw",
   "id": "0114818d-04d2-44b9-b100-30ae9fa272a6",
   "metadata": {},
   "source": [
    "The zip method in Python can be used to combine two or more iterables into pairs, which is especially useful when creating dictionaries. Here's how it works:\n",
    "\n",
    "dict(zip(keys, values))\n",
    "\n",
    "keys = ['name', 'age', 'city']\n",
    "values = ['Alice', 25, 'New York']\n",
    "\n",
    "result = dict(zip(keys, values))\n",
    "print(result)"
   ]
  },
  {
   "cell_type": "code",
   "execution_count": null,
   "id": "d174691e-8dbe-4f62-bd00-f4ecb2763b3f",
   "metadata": {},
   "outputs": [],
   "source": []
  },
  {
   "cell_type": "code",
   "execution_count": 138,
   "id": "de08ac47-a866-4d19-90b2-f4f527fa1f1d",
   "metadata": {},
   "outputs": [],
   "source": [
    "# example 2 :\n",
    "\n",
    "dict2 = {k:v**2 for k, v in zip(['a','b','c'], range(3))}"
   ]
  },
  {
   "cell_type": "code",
   "execution_count": 139,
   "id": "f3350479-ad8c-4cd0-8aba-bca7bbac68d0",
   "metadata": {},
   "outputs": [
    {
     "data": {
      "text/plain": [
       "{'a': 0, 'b': 1, 'c': 4}"
      ]
     },
     "execution_count": 139,
     "metadata": {},
     "output_type": "execute_result"
    }
   ],
   "source": [
    "dict2"
   ]
  },
  {
   "cell_type": "code",
   "execution_count": null,
   "id": "47ba7f60-abfc-4dc0-9382-52f6a978495a",
   "metadata": {},
   "outputs": [],
   "source": []
  },
  {
   "cell_type": "markdown",
   "id": "83f70490-69e9-4d60-970e-6afc9f77d8aa",
   "metadata": {},
   "source": [
    "#### Advanced Lists"
   ]
  },
  {
   "cell_type": "code",
   "execution_count": 146,
   "id": "1ddbc823-09f4-4a56-bb0a-e37e78b39407",
   "metadata": {},
   "outputs": [],
   "source": [
    "l = [1,2,3,4]\n",
    "\n",
    "l.append(5)"
   ]
  },
  {
   "cell_type": "code",
   "execution_count": 147,
   "id": "03cedfe3-28e1-4300-b920-eabefd6e60b5",
   "metadata": {},
   "outputs": [
    {
     "data": {
      "text/plain": [
       "[1, 2, 3, 4, 5]"
      ]
     },
     "execution_count": 147,
     "metadata": {},
     "output_type": "execute_result"
    }
   ],
   "source": [
    "l"
   ]
  },
  {
   "cell_type": "code",
   "execution_count": 148,
   "id": "38053d2f-cb17-43a1-836c-710a187be462",
   "metadata": {},
   "outputs": [],
   "source": [
    "l.append([1,2,3])"
   ]
  },
  {
   "cell_type": "code",
   "execution_count": 149,
   "id": "a27be231-e29c-4020-b9b6-dd752e8fe88b",
   "metadata": {},
   "outputs": [
    {
     "data": {
      "text/plain": [
       "[1, 2, 3, 4, 5, [1, 2, 3]]"
      ]
     },
     "execution_count": 149,
     "metadata": {},
     "output_type": "execute_result"
    }
   ],
   "source": [
    "l"
   ]
  },
  {
   "cell_type": "code",
   "execution_count": 150,
   "id": "45d53098-9c00-4662-b4a2-2b809f010b6c",
   "metadata": {},
   "outputs": [
    {
     "data": {
      "text/plain": [
       "[1, 2, 3]"
      ]
     },
     "execution_count": 150,
     "metadata": {},
     "output_type": "execute_result"
    }
   ],
   "source": [
    "l.pop()"
   ]
  },
  {
   "cell_type": "code",
   "execution_count": 151,
   "id": "1ede2fe9-efce-49bd-a9ba-1c656c6746c8",
   "metadata": {},
   "outputs": [
    {
     "data": {
      "text/plain": [
       "[1, 2, 3, 4, 5]"
      ]
     },
     "execution_count": 151,
     "metadata": {},
     "output_type": "execute_result"
    }
   ],
   "source": [
    "l"
   ]
  },
  {
   "cell_type": "code",
   "execution_count": 152,
   "id": "1463c11d-02e2-4f82-8177-1aeaf476ca60",
   "metadata": {},
   "outputs": [],
   "source": [
    "l.extend([1,2,3])"
   ]
  },
  {
   "cell_type": "code",
   "execution_count": 156,
   "id": "1c9f9e94-228e-4285-92b3-720885255cea",
   "metadata": {},
   "outputs": [
    {
     "data": {
      "text/plain": [
       "[1, 2, 3, 4, 5, 1, 2, 3]"
      ]
     },
     "execution_count": 156,
     "metadata": {},
     "output_type": "execute_result"
    }
   ],
   "source": [
    "l"
   ]
  },
  {
   "cell_type": "code",
   "execution_count": 160,
   "id": "a6a6a736-2352-4438-a2d6-0af603e598a4",
   "metadata": {},
   "outputs": [],
   "source": [
    "# l.extend(4) # it only takes an iterable whose elemnts we want to insert in the list"
   ]
  },
  {
   "cell_type": "code",
   "execution_count": 161,
   "id": "169d597a-66b9-4d81-a08a-b0c5a50722b8",
   "metadata": {},
   "outputs": [
    {
     "data": {
      "text/plain": [
       "[1, 2, 3, 4, 5, 1, 2, 3]"
      ]
     },
     "execution_count": 161,
     "metadata": {},
     "output_type": "execute_result"
    }
   ],
   "source": [
    "l"
   ]
  },
  {
   "cell_type": "code",
   "execution_count": 162,
   "id": "b8091281-8fe0-431a-b97a-65a6abc2952d",
   "metadata": {},
   "outputs": [
    {
     "data": {
      "text/plain": [
       "2"
      ]
     },
     "execution_count": 162,
     "metadata": {},
     "output_type": "execute_result"
    }
   ],
   "source": [
    "l.count(1)"
   ]
  },
  {
   "cell_type": "code",
   "execution_count": 163,
   "id": "38aa3491-4768-4853-a8a4-2fa59d5d3159",
   "metadata": {},
   "outputs": [
    {
     "data": {
      "text/plain": [
       "1"
      ]
     },
     "execution_count": 163,
     "metadata": {},
     "output_type": "execute_result"
    }
   ],
   "source": [
    "l.count(5)"
   ]
  },
  {
   "cell_type": "code",
   "execution_count": 166,
   "id": "1bf0323f-ba1b-4f1c-a04b-c711252ab2e4",
   "metadata": {},
   "outputs": [
    {
     "data": {
      "text/plain": [
       "0"
      ]
     },
     "execution_count": 166,
     "metadata": {},
     "output_type": "execute_result"
    }
   ],
   "source": [
    "l.index(1)"
   ]
  },
  {
   "cell_type": "code",
   "execution_count": 171,
   "id": "1dd86bdc-fc98-4ef0-ae17-abdabcae9d2f",
   "metadata": {},
   "outputs": [
    {
     "data": {
      "text/plain": [
       "5"
      ]
     },
     "execution_count": 171,
     "metadata": {},
     "output_type": "execute_result"
    }
   ],
   "source": [
    "l.index(1, 2)"
   ]
  },
  {
   "cell_type": "code",
   "execution_count": 173,
   "id": "74b1cb63-2703-4c72-8906-ead94b34de50",
   "metadata": {},
   "outputs": [],
   "source": [
    "# l.index(10) # throws an error"
   ]
  },
  {
   "cell_type": "code",
   "execution_count": 174,
   "id": "37c22261-8c86-47b6-acc3-3f0ae30accef",
   "metadata": {},
   "outputs": [],
   "source": [
    "# insert() used to insert element at a position we want"
   ]
  },
  {
   "cell_type": "code",
   "execution_count": 175,
   "id": "e4f9491f-72c0-4bdd-9623-a8009e27ca49",
   "metadata": {},
   "outputs": [
    {
     "data": {
      "text/plain": [
       "[1, 2, 'Inserted', 3, 4, 5, 1, 2, 3]"
      ]
     },
     "execution_count": 175,
     "metadata": {},
     "output_type": "execute_result"
    }
   ],
   "source": [
    "# l.insert(position, element)\n",
    "\n",
    "l.insert(2, \"Inserted\")\n",
    "l"
   ]
  },
  {
   "cell_type": "code",
   "execution_count": 176,
   "id": "3c471e98-7001-4379-af17-95f6fbe0870b",
   "metadata": {},
   "outputs": [],
   "source": [
    "# l.pop() => removes last element from the list\n",
    "# l.pop(num) => removes element present at the num poeition from the list"
   ]
  },
  {
   "cell_type": "code",
   "execution_count": 177,
   "id": "a9b1ac0e-ecc9-419b-8033-75bca4b445a2",
   "metadata": {},
   "outputs": [
    {
     "data": {
      "text/plain": [
       "3"
      ]
     },
     "execution_count": 177,
     "metadata": {},
     "output_type": "execute_result"
    }
   ],
   "source": [
    "l.pop()"
   ]
  },
  {
   "cell_type": "code",
   "execution_count": 178,
   "id": "0dc23258-a9bf-4051-8782-4ed66468c3e1",
   "metadata": {},
   "outputs": [
    {
     "data": {
      "text/plain": [
       "1"
      ]
     },
     "execution_count": 178,
     "metadata": {},
     "output_type": "execute_result"
    }
   ],
   "source": [
    "l.pop(0)"
   ]
  },
  {
   "cell_type": "code",
   "execution_count": 179,
   "id": "b88b4fa3-1836-4f4a-87ac-354ec66dec4d",
   "metadata": {},
   "outputs": [
    {
     "data": {
      "text/plain": [
       "'Inserted'"
      ]
     },
     "execution_count": 179,
     "metadata": {},
     "output_type": "execute_result"
    }
   ],
   "source": [
    "l.pop(1)"
   ]
  },
  {
   "cell_type": "code",
   "execution_count": 180,
   "id": "36b4e4d3-2398-4642-983b-be8872bd3fd2",
   "metadata": {},
   "outputs": [
    {
     "data": {
      "text/plain": [
       "[2, 3, 4, 5, 1, 2]"
      ]
     },
     "execution_count": 180,
     "metadata": {},
     "output_type": "execute_result"
    }
   ],
   "source": [
    "l"
   ]
  },
  {
   "cell_type": "code",
   "execution_count": 181,
   "id": "6d1b0abd-9b7e-4477-acca-0d92018f7d04",
   "metadata": {},
   "outputs": [],
   "source": [
    "l.remove(2) # removes the first occurence of an element"
   ]
  },
  {
   "cell_type": "code",
   "execution_count": 182,
   "id": "9ab4386f-1eed-4939-8440-0a75638a4aef",
   "metadata": {},
   "outputs": [
    {
     "data": {
      "text/plain": [
       "[3, 4, 5, 1, 2]"
      ]
     },
     "execution_count": 182,
     "metadata": {},
     "output_type": "execute_result"
    }
   ],
   "source": [
    "l"
   ]
  },
  {
   "cell_type": "code",
   "execution_count": 187,
   "id": "24d6bf8f-d346-4a19-aec2-4e2daf4393fc",
   "metadata": {},
   "outputs": [],
   "source": [
    "l.reverse() # reverse the list in place"
   ]
  },
  {
   "cell_type": "code",
   "execution_count": 188,
   "id": "d7c63d1a-439c-4a3a-91c3-4236ad1fe10b",
   "metadata": {},
   "outputs": [
    {
     "data": {
      "text/plain": [
       "[2, 1, 5, 4, 3]"
      ]
     },
     "execution_count": 188,
     "metadata": {},
     "output_type": "execute_result"
    }
   ],
   "source": [
    "l"
   ]
  },
  {
   "cell_type": "code",
   "execution_count": 189,
   "id": "cb6078f7-1663-4e26-b080-5fc1d0e17eb8",
   "metadata": {},
   "outputs": [],
   "source": [
    "l.sort()"
   ]
  },
  {
   "cell_type": "code",
   "execution_count": 190,
   "id": "697b418f-c143-47ad-ad7d-96aeac2be5f0",
   "metadata": {},
   "outputs": [
    {
     "data": {
      "text/plain": [
       "[1, 2, 3, 4, 5]"
      ]
     },
     "execution_count": 190,
     "metadata": {},
     "output_type": "execute_result"
    }
   ],
   "source": [
    "l"
   ]
  },
  {
   "cell_type": "markdown",
   "id": "82955d0d-33ca-4934-adcc-7507ddb83405",
   "metadata": {},
   "source": [
    "sorted(iterable, key=None, reverse=False) <br>\n",
    "\n",
    "iterable: The sequence to be sorted. This can be a list, tuple, set, string, or any other iterable. <br>\n",
    "key (Optional): A function to execute for deciding the order of elements. By default it is None <br>\n",
    "reverse (Optional): If True, sorts in descending order. Defaults value is False (ascending order) <br>\n",
    "\n",
    "Example: <br>\n",
    "Use sorted() to sort the list 'a' based on the 'score' key <br>\n",
    "sorted() returns a new list with dictionaries sorted by the 'score' <br>\n",
    "<code>\n",
    "a = [\n",
    "    {\"name\": \"Alice\", \"score\": 85},\n",
    "    {\"name\": \"Bob\", \"score\": 91},\n",
    "    {\"name\": \"Eve\", \"score\": 78}\n",
    "]\n",
    "\n",
    "b = sorted(a, key=lambda x: x['score'])\n",
    "\n",
    "print(b)\n",
    "<code>"
   ]
  },
  {
   "cell_type": "code",
   "execution_count": 198,
   "id": "98fafb47-ed42-4e39-ba50-58a8a4f09990",
   "metadata": {},
   "outputs": [],
   "source": [
    "lst = [2,4,6,1,2]\n",
    "new_sorted_lst = sorted(lst) # returns a new sorted list instead of doing it in-place"
   ]
  },
  {
   "cell_type": "code",
   "execution_count": 199,
   "id": "4d6ac141-34aa-45a8-804d-a6620c885692",
   "metadata": {},
   "outputs": [
    {
     "data": {
      "text/plain": [
       "[2, 4, 6, 1, 2]"
      ]
     },
     "execution_count": 199,
     "metadata": {},
     "output_type": "execute_result"
    }
   ],
   "source": [
    "lst"
   ]
  },
  {
   "cell_type": "code",
   "execution_count": 200,
   "id": "464d4206-9cc8-4462-aeb3-098bafcdf394",
   "metadata": {},
   "outputs": [
    {
     "data": {
      "text/plain": [
       "[1, 2, 2, 4, 6]"
      ]
     },
     "execution_count": 200,
     "metadata": {},
     "output_type": "execute_result"
    }
   ],
   "source": [
    "new_sorted_lst"
   ]
  },
  {
   "cell_type": "code",
   "execution_count": null,
   "id": "5f3fe9e7-353a-4bea-a029-0362c9919824",
   "metadata": {},
   "outputs": [],
   "source": []
  },
  {
   "cell_type": "code",
   "execution_count": null,
   "id": "28f36d33-79ed-4d8a-b7d4-304e6df58622",
   "metadata": {},
   "outputs": [],
   "source": []
  }
 ],
 "metadata": {
  "kernelspec": {
   "display_name": "Python 3 (ipykernel)",
   "language": "python",
   "name": "python3"
  },
  "language_info": {
   "codemirror_mode": {
    "name": "ipython",
    "version": 3
   },
   "file_extension": ".py",
   "mimetype": "text/x-python",
   "name": "python",
   "nbconvert_exporter": "python",
   "pygments_lexer": "ipython3",
   "version": "3.12.7"
  }
 },
 "nbformat": 4,
 "nbformat_minor": 5
}
