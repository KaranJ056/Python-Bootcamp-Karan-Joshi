{
 "cells": [
  {
   "cell_type": "markdown",
   "id": "d6caa3af-cd0a-47e1-9c35-aeb4e19e2eeb",
   "metadata": {},
   "source": [
    "### Zipping and Unzipping files in Python"
   ]
  },
  {
   "cell_type": "code",
   "execution_count": 4,
   "id": "4390e37e-9d41-43b5-aadf-f9dc221630df",
   "metadata": {},
   "outputs": [],
   "source": [
    "f1 = open(\"file1.txt\", \"w+\")\n",
    "f1.write(\"This is file1.txt file\")\n",
    "f1.close()"
   ]
  },
  {
   "cell_type": "code",
   "execution_count": 5,
   "id": "98dc82de-45bd-4e48-b750-7c01334d8748",
   "metadata": {},
   "outputs": [],
   "source": [
    "f2 = open(\"file2.txt\", \"w+\")\n",
    "f2.write(\"This is file2.txt file\")\n",
    "f2.close()"
   ]
  },
  {
   "cell_type": "code",
   "execution_count": 6,
   "id": "bdc707cc-0d04-4924-9376-6fbbbdf4486c",
   "metadata": {},
   "outputs": [],
   "source": [
    "import zipfile"
   ]
  },
  {
   "cell_type": "code",
   "execution_count": 8,
   "id": "91b66889-59b0-4be1-9d15-73c347a81b34",
   "metadata": {},
   "outputs": [],
   "source": [
    "comp_file = zipfile.ZipFile(\"comp_file.zip\", \"w\")\n",
    "\n",
    "comp_file.write(\"file1.txt\", compress_type=zipfile.ZIP_DEFLATED)\n",
    "comp_file.write(\"file2.txt\", compress_type=zipfile.ZIP_DEFLATED)\n",
    "\n",
    "comp_file.close()"
   ]
  },
  {
   "cell_type": "code",
   "execution_count": 10,
   "id": "e8db8d0b-7dcb-420e-8437-c6c342642eed",
   "metadata": {},
   "outputs": [],
   "source": [
    "zip_obj = zipfile.ZipFile('comp_file.zip', 'r')\n",
    "\n",
    "# zip_obj.extractall(\"C:\\\\Users\\\\KaranJJoshi\\\\\")\n",
    "zip_obj.extractall(\"Extracted_Content\")"
   ]
  },
  {
   "cell_type": "code",
   "execution_count": 15,
   "id": "484d4549-7b62-43b3-8ba4-154bc5dedac0",
   "metadata": {},
   "outputs": [],
   "source": [
    "# 2nd wayu to zipping and unzipping inPython using shutil module\n",
    "\n",
    "import shutil\n",
    "import os\n",
    "\n",
    "dir_path = os.getcwd() + \"\\\\Extracted_Content\""
   ]
  },
  {
   "cell_type": "code",
   "execution_count": 17,
   "id": "22cb1e34-8175-492a-9162-ddfceb9d88eb",
   "metadata": {},
   "outputs": [
    {
     "data": {
      "text/plain": [
       "'C:\\\\Users\\\\KaranJJoshi\\\\Python Bootcamp Karan Joshi\\\\14 Advanced Python Modules\\\\Example.zip'"
      ]
     },
     "execution_count": 17,
     "metadata": {},
     "output_type": "execute_result"
    }
   ],
   "source": [
    "output_file_name = \"Example\"\n",
    "\n",
    "shutil.make_archive(output_file_name, 'zip', dir_path)"
   ]
  },
  {
   "cell_type": "code",
   "execution_count": 18,
   "id": "50513d34-0743-4bd1-a0bc-f6ce462bc2a3",
   "metadata": {},
   "outputs": [],
   "source": [
    "# to unzip do following\n",
    "shutil.unpack_archive(\"Example.zip\", \"Final_Unzip\", \"zip\")"
   ]
  },
  {
   "cell_type": "code",
   "execution_count": null,
   "id": "28614226-c3b9-4c67-b205-4d3a1cb58fb5",
   "metadata": {},
   "outputs": [],
   "source": []
  }
 ],
 "metadata": {
  "kernelspec": {
   "display_name": "Python 3 (ipykernel)",
   "language": "python",
   "name": "python3"
  },
  "language_info": {
   "codemirror_mode": {
    "name": "ipython",
    "version": 3
   },
   "file_extension": ".py",
   "mimetype": "text/x-python",
   "name": "python",
   "nbconvert_exporter": "python",
   "pygments_lexer": "ipython3",
   "version": "3.12.7"
  }
 },
 "nbformat": 4,
 "nbformat_minor": 5
}
