{
 "cells": [
  {
   "cell_type": "markdown",
   "id": "1f5674a7-a038-407e-8fc1-427edbe3f87f",
   "metadata": {},
   "source": [
    "### Advanced Python Modules"
   ]
  },
  {
   "cell_type": "raw",
   "id": "d3364f3b-22c2-4eee-aa79-f20c4f1eb383",
   "metadata": {},
   "source": [
    "Modules covered:\n",
    "\n",
    "Collections\n",
    "OS and Datetime\n",
    "Math and Random\n",
    "Python Debugger\n",
    "Timeit\n",
    "RegExs\n",
    "Unzipping and Zipping Modules"
   ]
  },
  {
   "cell_type": "markdown",
   "id": "cf5cff44-e698-459d-8fc4-3a44d6aaa064",
   "metadata": {},
   "source": [
    "### Collections Module"
   ]
  },
  {
   "cell_type": "markdown",
   "id": "4cb8fba4-32c8-4ed8-93c3-0ad1a239471c",
   "metadata": {
    "jp-MarkdownHeadingCollapsed": true
   },
   "source": [
    "#### 1. Counter in collections"
   ]
  },
  {
   "cell_type": "code",
   "execution_count": 18,
   "id": "f68ebe97-d153-42fb-aee9-40f4fb9acb7b",
   "metadata": {},
   "outputs": [
    {
     "data": {
      "text/plain": [
       "Counter({1: 5, 3: 4, 2: 3, 4: 3, 10: 1})"
      ]
     },
     "execution_count": 18,
     "metadata": {},
     "output_type": "execute_result"
    }
   ],
   "source": [
    "# example\n",
    "from collections import Counter\n",
    "\n",
    "my_list = [1,1,1,1,1,2,2,2,3,3,3,3,4,4,4,10]\n",
    "\n",
    "Counter(my_list)"
   ]
  },
  {
   "cell_type": "code",
   "execution_count": 3,
   "id": "b94111df-510d-4b65-8f68-cc91c1c288b6",
   "metadata": {},
   "outputs": [
    {
     "data": {
      "text/plain": [
       "Counter({'a': 6, 's': 6, 'b': 5, 'd': 2, 'h': 2, 'f': 1, 'x': 1, 'j': 1})"
      ]
     },
     "execution_count": 3,
     "metadata": {},
     "output_type": "execute_result"
    }
   ],
   "source": [
    "Counter(\"asdfasbasdbashbasbxhjasb\")"
   ]
  },
  {
   "cell_type": "code",
   "execution_count": 4,
   "id": "bfc9d2ce-2332-4c70-a35a-f3285af4b6e7",
   "metadata": {},
   "outputs": [],
   "source": [
    "c = Counter(\"aaaaaabbbbbbbbbbbccccccccccddddddddddddddddddd\")"
   ]
  },
  {
   "cell_type": "code",
   "execution_count": 5,
   "id": "b5169c32-8d95-463d-8514-aa2a34bf00ff",
   "metadata": {},
   "outputs": [
    {
     "data": {
      "text/plain": [
       "[('d', 19), ('b', 11), ('c', 10), ('a', 6)]"
      ]
     },
     "execution_count": 5,
     "metadata": {},
     "output_type": "execute_result"
    }
   ],
   "source": [
    "c.most_common()"
   ]
  },
  {
   "cell_type": "code",
   "execution_count": 7,
   "id": "0dfc0bbf-0616-4fca-bf35-7802b08b0053",
   "metadata": {},
   "outputs": [
    {
     "data": {
      "text/plain": [
       "[('d', 19), ('b', 11)]"
      ]
     },
     "execution_count": 7,
     "metadata": {},
     "output_type": "execute_result"
    }
   ],
   "source": [
    "c.most_common(2) #c.most_common(n=(number of most common elements you want))"
   ]
  },
  {
   "cell_type": "markdown",
   "id": "c0ada12e-1042-458e-b283-22d56c8aea98",
   "metadata": {
    "jp-MarkdownHeadingCollapsed": true
   },
   "source": [
    "#### 2. DefaultDict in Collections"
   ]
  },
  {
   "cell_type": "code",
   "execution_count": 8,
   "id": "20baacaf-7da7-415d-9bed-ab94a92f6757",
   "metadata": {},
   "outputs": [],
   "source": [
    "# it is used to assign some default value when there is no key present in the dict\n",
    "# Example:\n",
    "d = {'a':120}"
   ]
  },
  {
   "cell_type": "code",
   "execution_count": 9,
   "id": "0758d12d-024a-4bc0-a36c-4f8d9c4b1aaf",
   "metadata": {},
   "outputs": [
    {
     "data": {
      "text/plain": [
       "{'a': 120}"
      ]
     },
     "execution_count": 9,
     "metadata": {},
     "output_type": "execute_result"
    }
   ],
   "source": [
    "d"
   ]
  },
  {
   "cell_type": "code",
   "execution_count": 10,
   "id": "3304a7ef-2424-4141-9664-88bab6997eeb",
   "metadata": {},
   "outputs": [
    {
     "data": {
      "text/plain": [
       "120"
      ]
     },
     "execution_count": 10,
     "metadata": {},
     "output_type": "execute_result"
    }
   ],
   "source": [
    "d['a']"
   ]
  },
  {
   "cell_type": "code",
   "execution_count": 11,
   "id": "09df34b8-6d83-42b4-b229-5ef74892a5f9",
   "metadata": {},
   "outputs": [
    {
     "ename": "KeyError",
     "evalue": "'xytz'",
     "output_type": "error",
     "traceback": [
      "\u001b[1;31m---------------------------------------------------------------------------\u001b[0m",
      "\u001b[1;31mKeyError\u001b[0m                                  Traceback (most recent call last)",
      "Cell \u001b[1;32mIn[11], line 1\u001b[0m\n\u001b[1;32m----> 1\u001b[0m d[\u001b[38;5;124m'\u001b[39m\u001b[38;5;124mxytz\u001b[39m\u001b[38;5;124m'\u001b[39m]\n",
      "\u001b[1;31mKeyError\u001b[0m: 'xytz'"
     ]
    }
   ],
   "source": [
    "d['xytz']"
   ]
  },
  {
   "cell_type": "code",
   "execution_count": 14,
   "id": "58173376-e3d7-46e4-8f1d-c785436bddfc",
   "metadata": {},
   "outputs": [],
   "source": [
    "from collections import defaultdict\n",
    "\n",
    "d = defaultdict(lambda: 'Default')"
   ]
  },
  {
   "cell_type": "code",
   "execution_count": 15,
   "id": "04ae1be4-1fd6-44e8-9951-8dd25412639d",
   "metadata": {},
   "outputs": [
    {
     "data": {
      "text/plain": [
       "'Default'"
      ]
     },
     "execution_count": 15,
     "metadata": {},
     "output_type": "execute_result"
    }
   ],
   "source": [
    "d['xyz']"
   ]
  },
  {
   "cell_type": "code",
   "execution_count": 16,
   "id": "9ac967b0-480b-4393-a245-7da88c172879",
   "metadata": {},
   "outputs": [],
   "source": [
    "d['a'] = 120"
   ]
  },
  {
   "cell_type": "code",
   "execution_count": 17,
   "id": "60bc980a-de72-4c36-b4f7-fe5b64820019",
   "metadata": {},
   "outputs": [
    {
     "data": {
      "text/plain": [
       "defaultdict(<function __main__.<lambda>()>, {'xyz': 'Default', 'a': 120})"
      ]
     },
     "execution_count": 17,
     "metadata": {},
     "output_type": "execute_result"
    }
   ],
   "source": [
    "d"
   ]
  },
  {
   "cell_type": "markdown",
   "id": "6764f321-9704-432c-9daa-29b77ef1c867",
   "metadata": {},
   "source": [
    "#### 3. namedtuple in collections"
   ]
  },
  {
   "cell_type": "code",
   "execution_count": 24,
   "id": "dfc18e84-b601-41f8-b6dc-7e7e2a7221a7",
   "metadata": {},
   "outputs": [],
   "source": [
    "# example:\n",
    "\n",
    "from collections import namedtuple\n",
    "\n",
    "Dog = namedtuple(\"Dog\", ['name','age','breed'])"
   ]
  },
  {
   "cell_type": "code",
   "execution_count": 25,
   "id": "ac876060-88fb-4d39-bcf3-b6e4e88edc35",
   "metadata": {},
   "outputs": [],
   "source": [
    "coco = Dog(name=\"Coco\", age=8, breed=\"Huskie\")"
   ]
  },
  {
   "cell_type": "code",
   "execution_count": 26,
   "id": "cc85ec8e-bd43-4916-836b-a0da30f93246",
   "metadata": {},
   "outputs": [
    {
     "data": {
      "text/plain": [
       "'Coco'"
      ]
     },
     "execution_count": 26,
     "metadata": {},
     "output_type": "execute_result"
    }
   ],
   "source": [
    "coco.name"
   ]
  },
  {
   "cell_type": "code",
   "execution_count": 27,
   "id": "ede6d2cf-867c-45b8-9856-90c8b24b1a61",
   "metadata": {},
   "outputs": [
    {
     "data": {
      "text/plain": [
       "8"
      ]
     },
     "execution_count": 27,
     "metadata": {},
     "output_type": "execute_result"
    }
   ],
   "source": [
    "coco.age"
   ]
  },
  {
   "cell_type": "code",
   "execution_count": 28,
   "id": "5e645c0d-0ced-415f-aee9-9d7222ab7d32",
   "metadata": {},
   "outputs": [
    {
     "data": {
      "text/plain": [
       "'Huskie'"
      ]
     },
     "execution_count": 28,
     "metadata": {},
     "output_type": "execute_result"
    }
   ],
   "source": [
    "coco.breed"
   ]
  },
  {
   "cell_type": "code",
   "execution_count": 29,
   "id": "3c9cf20b-787b-4c0b-9711-7f7d5961e794",
   "metadata": {},
   "outputs": [
    {
     "data": {
      "text/plain": [
       "Dog(name='Coco', age=8, breed='Huskie')"
      ]
     },
     "execution_count": 29,
     "metadata": {},
     "output_type": "execute_result"
    }
   ],
   "source": [
    "coco"
   ]
  },
  {
   "cell_type": "markdown",
   "id": "c4337499-efd7-406a-884d-d0968769b991",
   "metadata": {},
   "source": [
    "### OS module"
   ]
  },
  {
   "cell_type": "markdown",
   "id": "e347a2c4-fe0b-48d3-928e-29722acfb467",
   "metadata": {},
   "source": [
    "#### Openeing and Reading from file using module"
   ]
  },
  {
   "cell_type": "code",
   "execution_count": 2,
   "id": "718ba01c-46b1-4401-b077-ae61d97fc818",
   "metadata": {},
   "outputs": [
    {
     "data": {
      "text/plain": [
       "'C:\\\\Users\\\\KaranJJoshi\\\\Python Bootcamp Karan Joshi\\\\14 Advanced Python Modules'"
      ]
     },
     "execution_count": 2,
     "metadata": {},
     "output_type": "execute_result"
    }
   ],
   "source": [
    "pwd # Gives present working directory"
   ]
  },
  {
   "cell_type": "code",
   "execution_count": 3,
   "id": "fe6ddd25-2061-4bbf-884c-47a14289b3f0",
   "metadata": {},
   "outputs": [],
   "source": [
    "with open(\"practice.txt\", \"w+\") as f:\n",
    "    f.write(\"This is a test line in practice.txt\")"
   ]
  },
  {
   "cell_type": "code",
   "execution_count": 4,
   "id": "3005cdad-3d15-4a40-87fc-4dfa3e35f6be",
   "metadata": {},
   "outputs": [],
   "source": [
    "import os"
   ]
  },
  {
   "cell_type": "code",
   "execution_count": 5,
   "id": "b5add565-63b1-4c90-8ed9-8f1e4c9d8e2f",
   "metadata": {},
   "outputs": [
    {
     "data": {
      "text/plain": [
       "'C:\\\\Users\\\\KaranJJoshi\\\\Python Bootcamp Karan Joshi\\\\14 Advanced Python Modules'"
      ]
     },
     "execution_count": 5,
     "metadata": {},
     "output_type": "execute_result"
    }
   ],
   "source": [
    "os.getcwd()"
   ]
  },
  {
   "cell_type": "code",
   "execution_count": 6,
   "id": "53b85ad6-8dcf-42c1-accc-14f333a90ccd",
   "metadata": {},
   "outputs": [
    {
     "data": {
      "text/plain": [
       "['.ipynb_checkpoints',\n",
       " '14 Learning.ipynb',\n",
       " 'Example Top Level',\n",
       " 'practice.txt']"
      ]
     },
     "execution_count": 6,
     "metadata": {},
     "output_type": "execute_result"
    }
   ],
   "source": [
    "os.listdir()"
   ]
  },
  {
   "cell_type": "code",
   "execution_count": 7,
   "id": "0bf508c1-064e-46f0-9a7c-a0c21b8d443e",
   "metadata": {
    "scrolled": true
   },
   "outputs": [
    {
     "data": {
      "text/plain": [
       "['All Users',\n",
       " 'CrestAdmin',\n",
       " 'Default',\n",
       " 'Default User',\n",
       " 'desktop.ini',\n",
       " 'KaranJJoshi',\n",
       " 'Public']"
      ]
     },
     "execution_count": 7,
     "metadata": {},
     "output_type": "execute_result"
    }
   ],
   "source": [
    "os.listdir(\"C:\\\\Users\")\n"
   ]
  },
  {
   "cell_type": "code",
   "execution_count": 9,
   "id": "07dc9125-c244-4805-b603-ae03dd6c4a84",
   "metadata": {},
   "outputs": [],
   "source": [
    "import shutil\n",
    "\n",
    "# shutil.move(\"practice.txt\", \"C:\\\\Users\\\\KaranJJoshi\")"
   ]
  },
  {
   "cell_type": "code",
   "execution_count": 10,
   "id": "a7b588f6-ecaa-4220-b956-77e8e13a12b5",
   "metadata": {},
   "outputs": [
    {
     "data": {
      "text/plain": [
       "'C:\\\\Users\\\\KaranJJoshi\\\\Python Bootcamp Karan Joshi\\\\14 Advanced Python Modules'"
      ]
     },
     "execution_count": 10,
     "metadata": {},
     "output_type": "execute_result"
    }
   ],
   "source": [
    "# os.walk()\n",
    "\n",
    "file_path = os.getcwd()\n",
    "\n",
    "file_path"
   ]
  },
  {
   "cell_type": "code",
   "execution_count": 102,
   "id": "0e6f0687-7d85-4d43-9b9f-14993db290cd",
   "metadata": {
    "scrolled": true
   },
   "outputs": [
    {
     "name": "stdout",
     "output_type": "stream",
     "text": [
      "Currently looking at folderC:\\Users\\KaranJJoshi\\Python Bootcamp Karan Joshi\\14 Advanced Python Modules \n",
      "\n",
      "Sub Folders are : \n",
      "\n",
      "\t .ipynb_checkpoints\n",
      "\t Example Top Level\n",
      "\n",
      "The Files are: \n",
      "\n",
      "\t 14 Learning.ipynb\n",
      "\t practice.txt\n",
      "Currently looking at folderC:\\Users\\KaranJJoshi\\Python Bootcamp Karan Joshi\\14 Advanced Python Modules\\.ipynb_checkpoints \n",
      "\n",
      "Sub Folders are : \n",
      "\n",
      "\n",
      "The Files are: \n",
      "\n",
      "\t 14 Learning-checkpoint.ipynb\n",
      "\t practice-checkpoint.txt\n",
      "Currently looking at folderC:\\Users\\KaranJJoshi\\Python Bootcamp Karan Joshi\\14 Advanced Python Modules\\Example Top Level \n",
      "\n",
      "Sub Folders are : \n",
      "\n",
      "\t Mid Example One\n",
      "\n",
      "The Files are: \n",
      "\n",
      "\t mid_example.txt.txt\n",
      "Currently looking at folderC:\\Users\\KaranJJoshi\\Python Bootcamp Karan Joshi\\14 Advanced Python Modules\\Example Top Level\\Mid Example One \n",
      "\n",
      "Sub Folders are : \n",
      "\n",
      "\t Bottom Level One\n",
      "\t Bottom Level Two\n",
      "\n",
      "The Files are: \n",
      "\n",
      "\t mid_one.txt.txt\n",
      "Currently looking at folderC:\\Users\\KaranJJoshi\\Python Bootcamp Karan Joshi\\14 Advanced Python Modules\\Example Top Level\\Mid Example One\\Bottom Level One \n",
      "\n",
      "Sub Folders are : \n",
      "\n",
      "\n",
      "The Files are: \n",
      "\n",
      "\t bottom_one.txt.txt\n",
      "Currently looking at folderC:\\Users\\KaranJJoshi\\Python Bootcamp Karan Joshi\\14 Advanced Python Modules\\Example Top Level\\Mid Example One\\Bottom Level Two \n",
      "\n",
      "Sub Folders are : \n",
      "\n",
      "\n",
      "The Files are: \n",
      "\n"
     ]
    }
   ],
   "source": [
    "for folder, sub_folders, files in os.walk(file_path):\n",
    "    print(f\"Currently looking at folder{folder} \\n\")\n",
    "    print(f\"Sub Folders are : \\n\")\n",
    "    for sub_folder in sub_folders:\n",
    "        print(f\"\\t {sub_folder}\")\n",
    "    print(f\"\\nThe Files are: \\n\")\n",
    "    for file in files:\n",
    "        print(f\"\\t {file}\")"
   ]
  },
  {
   "cell_type": "raw",
   "id": "b746f09c-8e3f-455e-a14d-51b7fd36f141",
   "metadata": {},
   "source": [
    "Deleting Files\n",
    "NOTE: The os module provides 3 methods for deleting files:\n",
    "\n",
    "os.unlink(path) which deletes a file at the path your provide\n",
    "os.rmdir(path) which deletes a folder (folder must be empty) at the path your provide\n",
    "shutil.rmtree(path) this is the most dangerous, as it will remove all files and folders contained in the path. All of these methods can not be reversed! Which means if you make a mistake you won't be able to recover the file. Instead we will use the send2trash module. A safer alternative that sends deleted files to the trash bin instead of permanent removal.\n",
    "Install the send2trash module with:\n",
    "\n",
    "pip install send2trash\n",
    "at your command line."
   ]
  },
  {
   "cell_type": "markdown",
   "id": "6a7ba4b4-b1a6-41e2-9b30-be0c2fa4df5e",
   "metadata": {
    "jp-MarkdownHeadingCollapsed": true
   },
   "source": [
    "### Datetime module"
   ]
  },
  {
   "cell_type": "code",
   "execution_count": 13,
   "id": "fb210fc3-fb26-42de-b245-4ca28547add1",
   "metadata": {},
   "outputs": [],
   "source": [
    "import datetime"
   ]
  },
  {
   "cell_type": "code",
   "execution_count": 14,
   "id": "9e751389-d041-4a6a-9046-10cfc8b8d378",
   "metadata": {},
   "outputs": [],
   "source": [
    "mytime = datetime.time(2, 20)"
   ]
  },
  {
   "cell_type": "code",
   "execution_count": 18,
   "id": "be2c74ed-3e57-469d-89c4-b5bf3f04837b",
   "metadata": {},
   "outputs": [
    {
     "data": {
      "text/plain": [
       "datetime.time(2, 20)"
      ]
     },
     "execution_count": 18,
     "metadata": {},
     "output_type": "execute_result"
    }
   ],
   "source": [
    "mytime"
   ]
  },
  {
   "cell_type": "code",
   "execution_count": 19,
   "id": "ac3f3423-48a6-45d4-9f02-37bd99dd3ad4",
   "metadata": {},
   "outputs": [
    {
     "data": {
      "text/plain": [
       "20"
      ]
     },
     "execution_count": 19,
     "metadata": {},
     "output_type": "execute_result"
    }
   ],
   "source": [
    "mytime.minute"
   ]
  },
  {
   "cell_type": "code",
   "execution_count": 20,
   "id": "ec970359-2fb8-463d-8f0a-60455c68414f",
   "metadata": {},
   "outputs": [
    {
     "data": {
      "text/plain": [
       "2"
      ]
     },
     "execution_count": 20,
     "metadata": {},
     "output_type": "execute_result"
    }
   ],
   "source": [
    "mytime.hour"
   ]
  },
  {
   "cell_type": "code",
   "execution_count": 23,
   "id": "f733870f-6539-40ca-bdf2-934f50fb4f9f",
   "metadata": {},
   "outputs": [
    {
     "data": {
      "text/plain": [
       "0"
      ]
     },
     "execution_count": 23,
     "metadata": {},
     "output_type": "execute_result"
    }
   ],
   "source": [
    "mytime.second"
   ]
  },
  {
   "cell_type": "code",
   "execution_count": 24,
   "id": "00968816-e824-4b71-8dac-af9b85b5b175",
   "metadata": {},
   "outputs": [
    {
     "name": "stdout",
     "output_type": "stream",
     "text": [
      "02:20:00\n"
     ]
    }
   ],
   "source": [
    "print(mytime)"
   ]
  },
  {
   "cell_type": "code",
   "execution_count": 26,
   "id": "f025ffec-4781-4c73-a84d-e7fab5e1a88e",
   "metadata": {},
   "outputs": [],
   "source": [
    "today = datetime.date.today()"
   ]
  },
  {
   "cell_type": "code",
   "execution_count": 27,
   "id": "023726f1-6cc5-4ebe-bd74-f630b5a1eb20",
   "metadata": {},
   "outputs": [
    {
     "data": {
      "text/plain": [
       "datetime.date(2025, 1, 13)"
      ]
     },
     "execution_count": 27,
     "metadata": {},
     "output_type": "execute_result"
    }
   ],
   "source": [
    "today"
   ]
  },
  {
   "cell_type": "code",
   "execution_count": 28,
   "id": "db4c47a6-50b7-4f2b-b71f-a134dc5c82b2",
   "metadata": {},
   "outputs": [
    {
     "name": "stdout",
     "output_type": "stream",
     "text": [
      "2025-01-13\n"
     ]
    }
   ],
   "source": [
    "print(today)"
   ]
  },
  {
   "cell_type": "code",
   "execution_count": 29,
   "id": "127d32fd-7b20-4566-900f-a5d1d3c48f89",
   "metadata": {},
   "outputs": [
    {
     "name": "stdout",
     "output_type": "stream",
     "text": [
      "Mon Jan 13 00:00:00 2025\n"
     ]
    }
   ],
   "source": [
    "print(today.ctime())"
   ]
  },
  {
   "cell_type": "code",
   "execution_count": 31,
   "id": "07f176bd-4476-45ea-9f19-ae2b3cb5d73f",
   "metadata": {},
   "outputs": [],
   "source": [
    "# both date and time\n",
    "\n",
    "from datetime import datetime\n",
    "\n",
    "mydatetime = datetime(2025, 1, 13, 12, 42, 1)"
   ]
  },
  {
   "cell_type": "code",
   "execution_count": 32,
   "id": "8ebc412e-5d9c-4855-8ac9-f10488f9cb71",
   "metadata": {},
   "outputs": [
    {
     "data": {
      "text/plain": [
       "datetime.datetime(2025, 1, 13, 12, 42, 1)"
      ]
     },
     "execution_count": 32,
     "metadata": {},
     "output_type": "execute_result"
    }
   ],
   "source": [
    "mydatetime"
   ]
  },
  {
   "cell_type": "code",
   "execution_count": 33,
   "id": "61eaacf3-e39b-417d-ba79-83994c5302fd",
   "metadata": {},
   "outputs": [
    {
     "name": "stdout",
     "output_type": "stream",
     "text": [
      "2025-01-13 12:42:01\n"
     ]
    }
   ],
   "source": [
    "print(mydatetime)"
   ]
  },
  {
   "cell_type": "code",
   "execution_count": 35,
   "id": "a34d1dcc-637f-4de1-9d1c-a825f0f5c174",
   "metadata": {},
   "outputs": [
    {
     "data": {
      "text/plain": [
       "datetime.timedelta(days=366)"
      ]
     },
     "execution_count": 35,
     "metadata": {},
     "output_type": "execute_result"
    }
   ],
   "source": [
    "from datetime import date\n",
    "\n",
    "date1 = date(2024, 1, 13)\n",
    "date2 = date.today()\n",
    "\n",
    "date2 - date1"
   ]
  },
  {
   "cell_type": "code",
   "execution_count": 36,
   "id": "21eb9daa-b7af-4946-85b9-f8d820560093",
   "metadata": {},
   "outputs": [
    {
     "name": "stdout",
     "output_type": "stream",
     "text": [
      "366 days, 0:00:00\n"
     ]
    }
   ],
   "source": [
    "print(date2-date1)"
   ]
  },
  {
   "cell_type": "code",
   "execution_count": 38,
   "id": "774ae2b8-53fe-4ed3-abee-697c84c88001",
   "metadata": {},
   "outputs": [
    {
     "data": {
      "text/plain": [
       "datetime.timedelta(days=365, seconds=50400)"
      ]
     },
     "execution_count": 38,
     "metadata": {},
     "output_type": "execute_result"
    }
   ],
   "source": [
    "mydatetime1 = datetime(2024, 1, 13, 22, 0)\n",
    "mydatetime2 = datetime(2025, 1, 13, 12, 0)\n",
    "\n",
    "mydiff = mydatetime2 - mydatetime1\n",
    "mydiff"
   ]
  },
  {
   "cell_type": "code",
   "execution_count": 39,
   "id": "db4f7ee0-a204-4841-8570-2942f565f491",
   "metadata": {},
   "outputs": [
    {
     "name": "stdout",
     "output_type": "stream",
     "text": [
      "365 days, 14:00:00\n"
     ]
    }
   ],
   "source": [
    "print(mydiff)"
   ]
  },
  {
   "cell_type": "code",
   "execution_count": null,
   "id": "c84f7ff5-f963-4d69-9cb4-fea9309c8667",
   "metadata": {},
   "outputs": [],
   "source": []
  },
  {
   "cell_type": "markdown",
   "id": "651b5939-816d-4dc7-8a4e-d8fa504a7cc1",
   "metadata": {
    "jp-MarkdownHeadingCollapsed": true
   },
   "source": [
    "### Math and Random module"
   ]
  },
  {
   "cell_type": "markdown",
   "id": "10f0e104-d714-4460-90e6-00afb4a32435",
   "metadata": {
    "jp-MarkdownHeadingCollapsed": true
   },
   "source": [
    "#### math"
   ]
  },
  {
   "cell_type": "code",
   "execution_count": 40,
   "id": "72a2f988-b2d1-406f-932c-07ac1ad66a6e",
   "metadata": {},
   "outputs": [],
   "source": [
    "import math"
   ]
  },
  {
   "cell_type": "code",
   "execution_count": 41,
   "id": "7cb36d41-0a60-46a2-a9e8-8192e18253fe",
   "metadata": {
    "scrolled": true
   },
   "outputs": [
    {
     "name": "stdout",
     "output_type": "stream",
     "text": [
      "Help on built-in module math:\n",
      "\n",
      "NAME\n",
      "    math\n",
      "\n",
      "DESCRIPTION\n",
      "    This module provides access to the mathematical functions\n",
      "    defined by the C standard.\n",
      "\n",
      "FUNCTIONS\n",
      "    acos(x, /)\n",
      "        Return the arc cosine (measured in radians) of x.\n",
      "\n",
      "        The result is between 0 and pi.\n",
      "\n",
      "    acosh(x, /)\n",
      "        Return the inverse hyperbolic cosine of x.\n",
      "\n",
      "    asin(x, /)\n",
      "        Return the arc sine (measured in radians) of x.\n",
      "\n",
      "        The result is between -pi/2 and pi/2.\n",
      "\n",
      "    asinh(x, /)\n",
      "        Return the inverse hyperbolic sine of x.\n",
      "\n",
      "    atan(x, /)\n",
      "        Return the arc tangent (measured in radians) of x.\n",
      "\n",
      "        The result is between -pi/2 and pi/2.\n",
      "\n",
      "    atan2(y, x, /)\n",
      "        Return the arc tangent (measured in radians) of y/x.\n",
      "\n",
      "        Unlike atan(y/x), the signs of both x and y are considered.\n",
      "\n",
      "    atanh(x, /)\n",
      "        Return the inverse hyperbolic tangent of x.\n",
      "\n",
      "    cbrt(x, /)\n",
      "        Return the cube root of x.\n",
      "\n",
      "    ceil(x, /)\n",
      "        Return the ceiling of x as an Integral.\n",
      "\n",
      "        This is the smallest integer >= x.\n",
      "\n",
      "    comb(n, k, /)\n",
      "        Number of ways to choose k items from n items without repetition and without order.\n",
      "\n",
      "        Evaluates to n! / (k! * (n - k)!) when k <= n and evaluates\n",
      "        to zero when k > n.\n",
      "\n",
      "        Also called the binomial coefficient because it is equivalent\n",
      "        to the coefficient of k-th term in polynomial expansion of the\n",
      "        expression (1 + x)**n.\n",
      "\n",
      "        Raises TypeError if either of the arguments are not integers.\n",
      "        Raises ValueError if either of the arguments are negative.\n",
      "\n",
      "    copysign(x, y, /)\n",
      "        Return a float with the magnitude (absolute value) of x but the sign of y.\n",
      "\n",
      "        On platforms that support signed zeros, copysign(1.0, -0.0)\n",
      "        returns -1.0.\n",
      "\n",
      "    cos(x, /)\n",
      "        Return the cosine of x (measured in radians).\n",
      "\n",
      "    cosh(x, /)\n",
      "        Return the hyperbolic cosine of x.\n",
      "\n",
      "    degrees(x, /)\n",
      "        Convert angle x from radians to degrees.\n",
      "\n",
      "    dist(p, q, /)\n",
      "        Return the Euclidean distance between two points p and q.\n",
      "\n",
      "        The points should be specified as sequences (or iterables) of\n",
      "        coordinates.  Both inputs must have the same dimension.\n",
      "\n",
      "        Roughly equivalent to:\n",
      "            sqrt(sum((px - qx) ** 2.0 for px, qx in zip(p, q)))\n",
      "\n",
      "    erf(x, /)\n",
      "        Error function at x.\n",
      "\n",
      "    erfc(x, /)\n",
      "        Complementary error function at x.\n",
      "\n",
      "    exp(x, /)\n",
      "        Return e raised to the power of x.\n",
      "\n",
      "    exp2(x, /)\n",
      "        Return 2 raised to the power of x.\n",
      "\n",
      "    expm1(x, /)\n",
      "        Return exp(x)-1.\n",
      "\n",
      "        This function avoids the loss of precision involved in the direct evaluation of exp(x)-1 for small x.\n",
      "\n",
      "    fabs(x, /)\n",
      "        Return the absolute value of the float x.\n",
      "\n",
      "    factorial(n, /)\n",
      "        Find n!.\n",
      "\n",
      "        Raise a ValueError if x is negative or non-integral.\n",
      "\n",
      "    floor(x, /)\n",
      "        Return the floor of x as an Integral.\n",
      "\n",
      "        This is the largest integer <= x.\n",
      "\n",
      "    fmod(x, y, /)\n",
      "        Return fmod(x, y), according to platform C.\n",
      "\n",
      "        x % y may differ.\n",
      "\n",
      "    frexp(x, /)\n",
      "        Return the mantissa and exponent of x, as pair (m, e).\n",
      "\n",
      "        m is a float and e is an int, such that x = m * 2.**e.\n",
      "        If x is 0, m and e are both 0.  Else 0.5 <= abs(m) < 1.0.\n",
      "\n",
      "    fsum(seq, /)\n",
      "        Return an accurate floating-point sum of values in the iterable seq.\n",
      "\n",
      "        Assumes IEEE-754 floating-point arithmetic.\n",
      "\n",
      "    gamma(x, /)\n",
      "        Gamma function at x.\n",
      "\n",
      "    gcd(*integers)\n",
      "        Greatest Common Divisor.\n",
      "\n",
      "    hypot(...)\n",
      "        hypot(*coordinates) -> value\n",
      "\n",
      "        Multidimensional Euclidean distance from the origin to a point.\n",
      "\n",
      "        Roughly equivalent to:\n",
      "            sqrt(sum(x**2 for x in coordinates))\n",
      "\n",
      "        For a two dimensional point (x, y), gives the hypotenuse\n",
      "        using the Pythagorean theorem:  sqrt(x*x + y*y).\n",
      "\n",
      "        For example, the hypotenuse of a 3/4/5 right triangle is:\n",
      "\n",
      "            >>> hypot(3.0, 4.0)\n",
      "            5.0\n",
      "\n",
      "    isclose(a, b, *, rel_tol=1e-09, abs_tol=0.0)\n",
      "        Determine whether two floating-point numbers are close in value.\n",
      "\n",
      "          rel_tol\n",
      "            maximum difference for being considered \"close\", relative to the\n",
      "            magnitude of the input values\n",
      "          abs_tol\n",
      "            maximum difference for being considered \"close\", regardless of the\n",
      "            magnitude of the input values\n",
      "\n",
      "        Return True if a is close in value to b, and False otherwise.\n",
      "\n",
      "        For the values to be considered close, the difference between them\n",
      "        must be smaller than at least one of the tolerances.\n",
      "\n",
      "        -inf, inf and NaN behave similarly to the IEEE 754 Standard.  That\n",
      "        is, NaN is not close to anything, even itself.  inf and -inf are\n",
      "        only close to themselves.\n",
      "\n",
      "    isfinite(x, /)\n",
      "        Return True if x is neither an infinity nor a NaN, and False otherwise.\n",
      "\n",
      "    isinf(x, /)\n",
      "        Return True if x is a positive or negative infinity, and False otherwise.\n",
      "\n",
      "    isnan(x, /)\n",
      "        Return True if x is a NaN (not a number), and False otherwise.\n",
      "\n",
      "    isqrt(n, /)\n",
      "        Return the integer part of the square root of the input.\n",
      "\n",
      "    lcm(*integers)\n",
      "        Least Common Multiple.\n",
      "\n",
      "    ldexp(x, i, /)\n",
      "        Return x * (2**i).\n",
      "\n",
      "        This is essentially the inverse of frexp().\n",
      "\n",
      "    lgamma(x, /)\n",
      "        Natural logarithm of absolute value of Gamma function at x.\n",
      "\n",
      "    log(...)\n",
      "        log(x, [base=math.e])\n",
      "        Return the logarithm of x to the given base.\n",
      "\n",
      "        If the base is not specified, returns the natural logarithm (base e) of x.\n",
      "\n",
      "    log10(x, /)\n",
      "        Return the base 10 logarithm of x.\n",
      "\n",
      "    log1p(x, /)\n",
      "        Return the natural logarithm of 1+x (base e).\n",
      "\n",
      "        The result is computed in a way which is accurate for x near zero.\n",
      "\n",
      "    log2(x, /)\n",
      "        Return the base 2 logarithm of x.\n",
      "\n",
      "    modf(x, /)\n",
      "        Return the fractional and integer parts of x.\n",
      "\n",
      "        Both results carry the sign of x and are floats.\n",
      "\n",
      "    nextafter(x, y, /, *, steps=None)\n",
      "        Return the floating-point value the given number of steps after x towards y.\n",
      "\n",
      "        If steps is not specified or is None, it defaults to 1.\n",
      "\n",
      "        Raises a TypeError, if x or y is not a double, or if steps is not an integer.\n",
      "        Raises ValueError if steps is negative.\n",
      "\n",
      "    perm(n, k=None, /)\n",
      "        Number of ways to choose k items from n items without repetition and with order.\n",
      "\n",
      "        Evaluates to n! / (n - k)! when k <= n and evaluates\n",
      "        to zero when k > n.\n",
      "\n",
      "        If k is not specified or is None, then k defaults to n\n",
      "        and the function returns n!.\n",
      "\n",
      "        Raises TypeError if either of the arguments are not integers.\n",
      "        Raises ValueError if either of the arguments are negative.\n",
      "\n",
      "    pow(x, y, /)\n",
      "        Return x**y (x to the power of y).\n",
      "\n",
      "    prod(iterable, /, *, start=1)\n",
      "        Calculate the product of all the elements in the input iterable.\n",
      "\n",
      "        The default start value for the product is 1.\n",
      "\n",
      "        When the iterable is empty, return the start value.  This function is\n",
      "        intended specifically for use with numeric values and may reject\n",
      "        non-numeric types.\n",
      "\n",
      "    radians(x, /)\n",
      "        Convert angle x from degrees to radians.\n",
      "\n",
      "    remainder(x, y, /)\n",
      "        Difference between x and the closest integer multiple of y.\n",
      "\n",
      "        Return x - n*y where n*y is the closest integer multiple of y.\n",
      "        In the case where x is exactly halfway between two multiples of\n",
      "        y, the nearest even value of n is used. The result is always exact.\n",
      "\n",
      "    sin(x, /)\n",
      "        Return the sine of x (measured in radians).\n",
      "\n",
      "    sinh(x, /)\n",
      "        Return the hyperbolic sine of x.\n",
      "\n",
      "    sqrt(x, /)\n",
      "        Return the square root of x.\n",
      "\n",
      "    sumprod(p, q, /)\n",
      "        Return the sum of products of values from two iterables p and q.\n",
      "\n",
      "        Roughly equivalent to:\n",
      "\n",
      "            sum(itertools.starmap(operator.mul, zip(p, q, strict=True)))\n",
      "\n",
      "        For float and mixed int/float inputs, the intermediate products\n",
      "        and sums are computed with extended precision.\n",
      "\n",
      "    tan(x, /)\n",
      "        Return the tangent of x (measured in radians).\n",
      "\n",
      "    tanh(x, /)\n",
      "        Return the hyperbolic tangent of x.\n",
      "\n",
      "    trunc(x, /)\n",
      "        Truncates the Real x to the nearest Integral toward 0.\n",
      "\n",
      "        Uses the __trunc__ magic method.\n",
      "\n",
      "    ulp(x, /)\n",
      "        Return the value of the least significant bit of the float x.\n",
      "\n",
      "DATA\n",
      "    e = 2.718281828459045\n",
      "    inf = inf\n",
      "    nan = nan\n",
      "    pi = 3.141592653589793\n",
      "    tau = 6.283185307179586\n",
      "\n",
      "FILE\n",
      "    (built-in)\n",
      "\n",
      "\n"
     ]
    }
   ],
   "source": [
    "help(math)"
   ]
  },
  {
   "cell_type": "code",
   "execution_count": 42,
   "id": "6b82106d-5ae1-4f8e-958f-da708d72eab4",
   "metadata": {},
   "outputs": [],
   "source": [
    "val = 5.46"
   ]
  },
  {
   "cell_type": "code",
   "execution_count": 44,
   "id": "7d3dd1f8-8ada-40e4-89aa-12303fc6d2eb",
   "metadata": {},
   "outputs": [
    {
     "data": {
      "text/plain": [
       "6"
      ]
     },
     "execution_count": 44,
     "metadata": {},
     "output_type": "execute_result"
    }
   ],
   "source": [
    "math.ceil(val)"
   ]
  },
  {
   "cell_type": "code",
   "execution_count": 47,
   "id": "28bfbfb1-c306-40fb-bb77-44c7efd76e9a",
   "metadata": {},
   "outputs": [
    {
     "data": {
      "text/plain": [
       "5"
      ]
     },
     "execution_count": 47,
     "metadata": {},
     "output_type": "execute_result"
    }
   ],
   "source": [
    "math.floor(val)"
   ]
  },
  {
   "cell_type": "code",
   "execution_count": 49,
   "id": "724b67c2-6b9b-4894-bf9d-49ba9887d97e",
   "metadata": {},
   "outputs": [
    {
     "data": {
      "text/plain": [
       "5"
      ]
     },
     "execution_count": 49,
     "metadata": {},
     "output_type": "execute_result"
    }
   ],
   "source": [
    "round(val)"
   ]
  },
  {
   "cell_type": "code",
   "execution_count": 50,
   "id": "34fa12d3-c09e-4b5d-a5f2-8369892eb5de",
   "metadata": {},
   "outputs": [
    {
     "data": {
      "text/plain": [
       "6"
      ]
     },
     "execution_count": 50,
     "metadata": {},
     "output_type": "execute_result"
    }
   ],
   "source": [
    "round(5.5)"
   ]
  },
  {
   "cell_type": "code",
   "execution_count": 51,
   "id": "3c20bd5e-c226-4664-8e1e-186ae5eaac8a",
   "metadata": {},
   "outputs": [
    {
     "data": {
      "text/plain": [
       "3.141592653589793"
      ]
     },
     "execution_count": 51,
     "metadata": {},
     "output_type": "execute_result"
    }
   ],
   "source": [
    "math.pi"
   ]
  },
  {
   "cell_type": "code",
   "execution_count": 52,
   "id": "651bc586-365f-4965-831f-bd4811bfdcc2",
   "metadata": {},
   "outputs": [
    {
     "data": {
      "text/plain": [
       "2.718281828459045"
      ]
     },
     "execution_count": 52,
     "metadata": {},
     "output_type": "execute_result"
    }
   ],
   "source": [
    "math.e"
   ]
  },
  {
   "cell_type": "code",
   "execution_count": 54,
   "id": "8f6ed07f-0594-45dd-88f4-37da007873eb",
   "metadata": {},
   "outputs": [
    {
     "data": {
      "text/plain": [
       "1.0"
      ]
     },
     "execution_count": 54,
     "metadata": {},
     "output_type": "execute_result"
    }
   ],
   "source": [
    "math.log(math.e)"
   ]
  },
  {
   "cell_type": "code",
   "execution_count": 55,
   "id": "7f474565-881a-4193-b274-13b1a26e40a1",
   "metadata": {},
   "outputs": [
    {
     "data": {
      "text/plain": [
       "2.0"
      ]
     },
     "execution_count": 55,
     "metadata": {},
     "output_type": "execute_result"
    }
   ],
   "source": [
    "math.log(4, 2)"
   ]
  },
  {
   "cell_type": "code",
   "execution_count": 56,
   "id": "f7fb507a-bea2-468a-a113-956032200249",
   "metadata": {},
   "outputs": [
    {
     "data": {
      "text/plain": [
       "2.0"
      ]
     },
     "execution_count": 56,
     "metadata": {},
     "output_type": "execute_result"
    }
   ],
   "source": [
    "math.log(100, 10)"
   ]
  },
  {
   "cell_type": "markdown",
   "id": "4a8b8078-d23f-4af7-aedc-9f514e85b904",
   "metadata": {
    "jp-MarkdownHeadingCollapsed": true
   },
   "source": [
    "#### random"
   ]
  },
  {
   "cell_type": "code",
   "execution_count": 59,
   "id": "b7b3e4df-cd5d-4548-ae16-074cbf7dc9ec",
   "metadata": {},
   "outputs": [],
   "source": [
    "import random\n",
    "\n",
    "# random module allow us to create bunch of random numbers and also allow us to produce batch of bunch of random numbers using seed\n",
    "# it uses pseudo random numnber generators"
   ]
  },
  {
   "cell_type": "code",
   "execution_count": 66,
   "id": "099c6d60-2346-4908-8946-f028c26e3431",
   "metadata": {},
   "outputs": [
    {
     "data": {
      "text/plain": [
       "226"
      ]
     },
     "execution_count": 66,
     "metadata": {},
     "output_type": "execute_result"
    }
   ],
   "source": [
    "random.randint(0, 1999)"
   ]
  },
  {
   "cell_type": "code",
   "execution_count": 70,
   "id": "fd31d25a-e1e9-4ba9-8a94-8ca48671ff4e",
   "metadata": {},
   "outputs": [
    {
     "data": {
      "text/plain": [
       "74"
      ]
     },
     "execution_count": 70,
     "metadata": {},
     "output_type": "execute_result"
    }
   ],
   "source": [
    "random.seed(101)\n",
    "\n",
    "random.randint(0, 100)"
   ]
  },
  {
   "cell_type": "code",
   "execution_count": 73,
   "id": "497fae54-9373-4b9e-b4da-388b3f482fb1",
   "metadata": {},
   "outputs": [
    {
     "data": {
      "text/plain": [
       "45"
      ]
     },
     "execution_count": 73,
     "metadata": {},
     "output_type": "execute_result"
    }
   ],
   "source": [
    "random.randint(0, 100)\n"
   ]
  },
  {
   "cell_type": "code",
   "execution_count": 74,
   "id": "4c7f66e2-bd22-40f7-b3c0-6b892e0d9df6",
   "metadata": {},
   "outputs": [
    {
     "data": {
      "text/plain": [
       "59"
      ]
     },
     "execution_count": 74,
     "metadata": {},
     "output_type": "execute_result"
    }
   ],
   "source": [
    "random.randint(0, 100)\n"
   ]
  },
  {
   "cell_type": "code",
   "execution_count": 76,
   "id": "1b6a1084-9cb2-44b3-9c48-24476a312b44",
   "metadata": {},
   "outputs": [
    {
     "data": {
      "text/plain": [
       "[0, 1, 2, 3, 4, 5, 6, 7, 8, 9, 10, 11, 12, 13, 14, 15, 16, 17, 18, 19, 20]"
      ]
     },
     "execution_count": 76,
     "metadata": {},
     "output_type": "execute_result"
    }
   ],
   "source": [
    "mylist = [num for num in range(21)]\n",
    "mylist"
   ]
  },
  {
   "cell_type": "code",
   "execution_count": 83,
   "id": "ce1a489b-dfc3-4599-8440-6e215e12b17a",
   "metadata": {},
   "outputs": [
    {
     "data": {
      "text/plain": [
       "15"
      ]
     },
     "execution_count": 83,
     "metadata": {},
     "output_type": "execute_result"
    }
   ],
   "source": [
    "random.choice(mylist)"
   ]
  },
  {
   "cell_type": "code",
   "execution_count": 88,
   "id": "d3d8826c-17a3-4565-8602-050934bd43fe",
   "metadata": {},
   "outputs": [
    {
     "data": {
      "text/plain": [
       "[7, 13, 9, 10, 18, 6, 18, 14, 14, 0]"
      ]
     },
     "execution_count": 88,
     "metadata": {},
     "output_type": "execute_result"
    }
   ],
   "source": [
    "# sampling\n",
    "\n",
    "# sampling with replacement\n",
    "random.choices(mylist, k=10)"
   ]
  },
  {
   "cell_type": "code",
   "execution_count": 93,
   "id": "40f40a33-6135-42e4-a8bb-a1a4c97727f5",
   "metadata": {},
   "outputs": [
    {
     "data": {
      "text/plain": [
       "[10, 7, 3, 8, 5, 0, 15, 20, 6, 9]"
      ]
     },
     "execution_count": 93,
     "metadata": {},
     "output_type": "execute_result"
    }
   ],
   "source": [
    "# sampling w/o replacement\n",
    "\n",
    "random.sample(mylist, k=10)"
   ]
  },
  {
   "cell_type": "code",
   "execution_count": 97,
   "id": "ac5a0bfc-133e-4b63-80fe-31ebe60953ab",
   "metadata": {},
   "outputs": [
    {
     "data": {
      "text/plain": [
       "[15, 9, 12, 16, 0, 2, 10, 11, 14, 6, 18, 8, 1, 3, 7, 19, 17, 20, 13, 4, 5]"
      ]
     },
     "execution_count": 97,
     "metadata": {},
     "output_type": "execute_result"
    }
   ],
   "source": [
    "random.shuffle(mylist)\n",
    "mylist"
   ]
  },
  {
   "cell_type": "markdown",
   "id": "4ffc976c-4f9b-4806-8768-f1ef549f706d",
   "metadata": {
    "jp-MarkdownHeadingCollapsed": true
   },
   "source": [
    "### Python Debugger"
   ]
  },
  {
   "cell_type": "code",
   "execution_count": 98,
   "id": "395d7841-f23e-4830-8033-32e7a7c09f6d",
   "metadata": {},
   "outputs": [],
   "source": [
    "# python debugger allow us to debug our python code without randomly prints out the print statements"
   ]
  },
  {
   "cell_type": "code",
   "execution_count": 99,
   "id": "a71c2ec2-dbf0-424f-97a0-662d944bc5fe",
   "metadata": {},
   "outputs": [],
   "source": [
    "x = [1,2,3]\n",
    "y = 2\n",
    "z = 3\n"
   ]
  },
  {
   "cell_type": "code",
   "execution_count": 100,
   "id": "e110cca6-b8c3-4a6b-9311-8504690b7f68",
   "metadata": {},
   "outputs": [],
   "source": [
    "import pdb"
   ]
  },
  {
   "cell_type": "code",
   "execution_count": 101,
   "id": "6bddef85-bc32-46e3-b9de-fbbd05cf40d2",
   "metadata": {},
   "outputs": [
    {
     "name": "stdout",
     "output_type": "stream",
     "text": [
      "--Return--\n",
      "None\n",
      "> \u001b[1;32mc:\\users\\karanjjoshi\\appdata\\local\\temp\\ipykernel_14488\\615667576.py\u001b[0m(6)\u001b[0;36m<module>\u001b[1;34m()\u001b[0m\n",
      "\n"
     ]
    },
    {
     "name": "stdin",
     "output_type": "stream",
     "text": [
      "ipdb>  x\n"
     ]
    },
    {
     "name": "stdout",
     "output_type": "stream",
     "text": [
      "[1, 2, 3]\n"
     ]
    },
    {
     "name": "stdin",
     "output_type": "stream",
     "text": [
      "ipdb>  y\n"
     ]
    },
    {
     "name": "stdout",
     "output_type": "stream",
     "text": [
      "2\n"
     ]
    },
    {
     "name": "stdin",
     "output_type": "stream",
     "text": [
      "ipdb>  z\n"
     ]
    },
    {
     "name": "stdout",
     "output_type": "stream",
     "text": [
      "3\n"
     ]
    },
    {
     "name": "stdin",
     "output_type": "stream",
     "text": [
      "ipdb>  x = 2\n",
      "ipdb>  x\n"
     ]
    },
    {
     "name": "stdout",
     "output_type": "stream",
     "text": [
      "2\n"
     ]
    },
    {
     "name": "stdin",
     "output_type": "stream",
     "text": [
      "ipdb>  q\n"
     ]
    }
   ],
   "source": [
    "x = [1,2,3]\n",
    "y = 2\n",
    "z = 3\n",
    "\n",
    "result1 = y + z\n",
    "pdb.set_trace()\n",
    "result2 = y + x"
   ]
  },
  {
   "cell_type": "markdown",
   "id": "019b09ff-323e-40e1-9719-bb75d779bc22",
   "metadata": {
    "jp-MarkdownHeadingCollapsed": true
   },
   "source": [
    "### Regular Expressions"
   ]
  },
  {
   "cell_type": "raw",
   "id": "87cb5d4c-29fb-4a9e-9771-2feefb38cd0c",
   "metadata": {},
   "source": [
    "Used to find out pattern structure from a strings or literals.\n",
    "Like we want to find a mobile number and email but we don't actually know the number or email.\n",
    "\n",
    "Example:\n",
    "\n",
    "Phone number:\n",
    "(555)-999-19231\n",
    "RegEx:\n",
    "r\"(\\d\\d\\d)-\\d\\d\\d-\\d\\d\\d\\d\\d\""
   ]
  },
  {
   "cell_type": "code",
   "execution_count": 103,
   "id": "1058a9da-7805-4456-adab-dc4bc6fd9ed2",
   "metadata": {},
   "outputs": [],
   "source": [
    "# starting form simple patterns\n",
    "\n",
    "text = \"This is Agent's phone number: (999)-292-93291. Call soon!\""
   ]
  },
  {
   "cell_type": "code",
   "execution_count": 104,
   "id": "426475c7-38d0-49bc-8fb8-3edd7989976b",
   "metadata": {},
   "outputs": [
    {
     "data": {
      "text/plain": [
       "True"
      ]
     },
     "execution_count": 104,
     "metadata": {},
     "output_type": "execute_result"
    }
   ],
   "source": [
    "'phone' in text"
   ]
  },
  {
   "cell_type": "code",
   "execution_count": 107,
   "id": "e77f4fbb-2cc4-41d1-a9a9-49fd174337c5",
   "metadata": {},
   "outputs": [
    {
     "data": {
      "text/plain": [
       "False"
      ]
     },
     "execution_count": 107,
     "metadata": {},
     "output_type": "execute_result"
    }
   ],
   "source": [
    "\"agent's\" in text"
   ]
  },
  {
   "cell_type": "code",
   "execution_count": 110,
   "id": "fc3ad362-a3ea-498a-8163-79010a184868",
   "metadata": {},
   "outputs": [
    {
     "data": {
      "text/plain": [
       "<re.Match object; span=(16, 21), match='phone'>"
      ]
     },
     "execution_count": 110,
     "metadata": {},
     "output_type": "execute_result"
    }
   ],
   "source": [
    "# using re\n",
    "import re\n",
    "\n",
    "pattern = 'phone'\n",
    "re.search(pattern, text)"
   ]
  },
  {
   "cell_type": "code",
   "execution_count": 112,
   "id": "22489969-aff9-42f7-bfec-48f2944c66f1",
   "metadata": {},
   "outputs": [
    {
     "data": {
      "text/plain": [
       "<re.Match object; span=(16, 21), match='phone'>"
      ]
     },
     "execution_count": 112,
     "metadata": {},
     "output_type": "execute_result"
    }
   ],
   "source": [
    "match = re.search(pattern, text)\n",
    "match"
   ]
  },
  {
   "cell_type": "code",
   "execution_count": 114,
   "id": "fe7afcb8-99e8-4445-a97d-7a43585a2e99",
   "metadata": {},
   "outputs": [
    {
     "data": {
      "text/plain": [
       "(16, 21)"
      ]
     },
     "execution_count": 114,
     "metadata": {},
     "output_type": "execute_result"
    }
   ],
   "source": [
    "match.span()"
   ]
  },
  {
   "cell_type": "code",
   "execution_count": 116,
   "id": "a6a71c5a-f945-424f-8b3b-390daead9ab0",
   "metadata": {},
   "outputs": [
    {
     "data": {
      "text/plain": [
       "16"
      ]
     },
     "execution_count": 116,
     "metadata": {},
     "output_type": "execute_result"
    }
   ],
   "source": [
    "match.start()"
   ]
  },
  {
   "cell_type": "code",
   "execution_count": 117,
   "id": "ef2ccc6e-4573-4627-b054-e0b005fcd6cd",
   "metadata": {},
   "outputs": [
    {
     "data": {
      "text/plain": [
       "21"
      ]
     },
     "execution_count": 117,
     "metadata": {},
     "output_type": "execute_result"
    }
   ],
   "source": [
    "match.end()"
   ]
  },
  {
   "cell_type": "code",
   "execution_count": 118,
   "id": "5d44fc09-50ae-454d-af4a-b6b42b57bd4e",
   "metadata": {},
   "outputs": [
    {
     "name": "stdout",
     "output_type": "stream",
     "text": [
      "['phone', 'phone', 'phone']\n"
     ]
    }
   ],
   "source": [
    "text = \"my phone, my phone again, my phone once again\"\n",
    "\n",
    "matches = re.findall('phone', text)\n",
    "\n",
    "print(matches)"
   ]
  },
  {
   "cell_type": "code",
   "execution_count": 120,
   "id": "fad81029-caaf-4265-82f0-48c03c2f3881",
   "metadata": {},
   "outputs": [
    {
     "data": {
      "text/plain": [
       "3"
      ]
     },
     "execution_count": 120,
     "metadata": {},
     "output_type": "execute_result"
    }
   ],
   "source": [
    "len(matches)"
   ]
  },
  {
   "cell_type": "code",
   "execution_count": 121,
   "id": "3a78a4b5-db53-4a17-8c9a-a1d238ac61c4",
   "metadata": {},
   "outputs": [
    {
     "name": "stdout",
     "output_type": "stream",
     "text": [
      "(3, 8)\n",
      "(13, 18)\n",
      "(29, 34)\n"
     ]
    }
   ],
   "source": [
    "for match in re.finditer('phone', text):\n",
    "    print(match.span())"
   ]
  },
  {
   "cell_type": "raw",
   "id": "2dd2e738-a95d-4f14-855a-700c2cf58b50",
   "metadata": {},
   "source": [
    "Charecter identifiers\n",
    "\n",
    "Character\tDescription\tExample Pattern Code\tExammple Match\n",
    "\\d\t        A digit\t       file_\\d\\d\t            file_25\n",
    "\\w\t        Alphanumeric   \\w-\\w\\w\\w\t            A-b_1    (words, digits and underscore)\n",
    "\\s\t        White space\t   a\\sb\\sc\t                a b c\n",
    "\\D\t        A non digit\t   \\D\\D\\D\t                ABC\n",
    "\\W\t        Non-alphanumeric\\W\\W\\W\\W\\W\t            *-+=)\n",
    "\\S\t        Non-whitespace  \\S\\S\\S\\S\t            Yoyo"
   ]
  },
  {
   "cell_type": "code",
   "execution_count": 129,
   "id": "e23acf6a-c658-4af7-b73b-49503587a074",
   "metadata": {},
   "outputs": [
    {
     "data": {
      "text/plain": [
       "<re.Match object; span=(19, 32), match='444-129-11112'>"
      ]
     },
     "execution_count": 129,
     "metadata": {},
     "output_type": "execute_result"
    }
   ],
   "source": [
    "# Example\n",
    "\n",
    "text = \"My phone number is 444-129-11112\"\n",
    "\n",
    "# phone = re.search(r'\\d\\d\\d-\\d\\d\\d-\\d\\d\\d\\d\\d', text)\n",
    "# following also can be used and recomendded \n",
    "# {num} are called quantifiers and used to specify how many times a pattern should repeat\n",
    "phone = re.search(r'\\d{3}-\\d{3}-\\d{5}', text)\n",
    "phone"
   ]
  },
  {
   "cell_type": "code",
   "execution_count": 128,
   "id": "76ec723c-5b60-453f-b79e-04ce0de60972",
   "metadata": {},
   "outputs": [
    {
     "name": "stdout",
     "output_type": "stream",
     "text": [
      "(19, 32)\n"
     ]
    }
   ],
   "source": [
    "print(phone.span())"
   ]
  },
  {
   "cell_type": "raw",
   "id": "9740254d-c5ab-421c-b3e8-5694a0f2230f",
   "metadata": {},
   "source": [
    "Quantifiers\n",
    "\n",
    "Character\tDescription\t                  Example Pattern Code\tExammple Match\n",
    "+\t        Occurs one or more times\t   Version \\w-\\w+\t    Version A-b1_1\n",
    "{3}\t        Occurs exactly 3 times\t       \\D{3}\t            abc\n",
    "{2,4}\t    Occurs 2 to 4 times\t           \\d{2,4}\t            123\n",
    "{3,}\t    Occurs 3 or more\t           \\w{3,}\t            anycharacters\n",
    "*\t        Occurs zero or more times\t   A*B*C*\t            AAACC\n",
    "?\t        Once or none\t               plurals?\t            plural\n"
   ]
  },
  {
   "cell_type": "code",
   "execution_count": 138,
   "id": "6d7183a0-9988-4fd4-a231-8bdd01f97619",
   "metadata": {},
   "outputs": [],
   "source": [
    "# group together pattern\n",
    "\n",
    "phone_pattern = re.compile(r'(\\d{3})-(\\d{3})-(\\d{5})')\n",
    "phone = re.search(phone_pattern, text)"
   ]
  },
  {
   "cell_type": "code",
   "execution_count": 139,
   "id": "073548e9-d02d-4392-b7c6-5c228ca8ddf9",
   "metadata": {},
   "outputs": [
    {
     "data": {
      "text/plain": [
       "'444-129-11112'"
      ]
     },
     "execution_count": 139,
     "metadata": {},
     "output_type": "execute_result"
    }
   ],
   "source": [
    "phone.group()"
   ]
  },
  {
   "cell_type": "code",
   "execution_count": 140,
   "id": "9e39509a-62cf-419c-9a00-4a531edeaac8",
   "metadata": {},
   "outputs": [
    {
     "data": {
      "text/plain": [
       "'444'"
      ]
     },
     "execution_count": 140,
     "metadata": {},
     "output_type": "execute_result"
    }
   ],
   "source": [
    "phone.group(1)"
   ]
  },
  {
   "cell_type": "code",
   "execution_count": 143,
   "id": "cf0cd1ab-4a7e-4259-ba81-d574dd635f1d",
   "metadata": {},
   "outputs": [
    {
     "data": {
      "text/plain": [
       "'129'"
      ]
     },
     "execution_count": 143,
     "metadata": {},
     "output_type": "execute_result"
    }
   ],
   "source": [
    "phone.group(2)"
   ]
  },
  {
   "cell_type": "code",
   "execution_count": 142,
   "id": "fbf9f74a-765b-460b-805e-e1ae2315af6e",
   "metadata": {},
   "outputs": [
    {
     "data": {
      "text/plain": [
       "'11112'"
      ]
     },
     "execution_count": 142,
     "metadata": {},
     "output_type": "execute_result"
    }
   ],
   "source": [
    "phone.group(3)"
   ]
  },
  {
   "cell_type": "code",
   "execution_count": 147,
   "id": "55958bf3-a93f-4f64-a04e-1d1015f38650",
   "metadata": {},
   "outputs": [
    {
     "name": "stdout",
     "output_type": "stream",
     "text": [
      "<re.Match object; span=(4, 7), match='cat'>\n",
      "<re.Match object; span=(4, 7), match='dog'>\n",
      "None\n"
     ]
    }
   ],
   "source": [
    "# additional regex syntax\n",
    "\n",
    "# 1. | or operator\n",
    "print(re.search(r'cat|dog', \"The cat is there\"))\n",
    "print(re.search(r'cat|dog', \"The dog is there\"))\n",
    "print(re.search(r'cat|dog', \"The ash is there\"))"
   ]
  },
  {
   "cell_type": "code",
   "execution_count": 148,
   "id": "36680a2c-c8a5-442c-b8bd-3be8aa259367",
   "metadata": {},
   "outputs": [
    {
     "data": {
      "text/plain": [
       "['cat', 'hat', 'sat']"
      ]
     },
     "execution_count": 148,
     "metadata": {},
     "output_type": "execute_result"
    }
   ],
   "source": [
    "# 2. (.) wild card operator\n",
    "re.findall(r'.at', \"The cat in the hat sat there\")"
   ]
  },
  {
   "cell_type": "code",
   "execution_count": 169,
   "id": "34857666-468a-43ff-8e28-5636525548d1",
   "metadata": {},
   "outputs": [
    {
     "name": "stdout",
     "output_type": "stream",
     "text": [
      "['1']\n",
      "['4']\n",
      "[]\n"
     ]
    }
   ],
   "source": [
    "# 3. ^ starts with and $ ends with\n",
    "print(re.findall(r'^\\d', \"1 is the first letter in the sentance\"))\n",
    "print(re.findall(r'^\\d', \"43534 is the first letter in the sentance\"))\n",
    "print(re.findall(r'^\\d', \"T is the first letter in the sentance\"))"
   ]
  },
  {
   "cell_type": "code",
   "execution_count": 170,
   "id": "6a2af553-dbd6-41b3-a31a-87fd71aae42a",
   "metadata": {},
   "outputs": [],
   "source": [
    "# 4. exclusion\n",
    "phrase = \"There are 34 insects inside the cell no 87 of jail\"\n",
    "\n",
    "pattern1 = r'[^\\d]'\n",
    "pattern2 = r'[^\\d]+'"
   ]
  },
  {
   "cell_type": "code",
   "execution_count": 171,
   "id": "d0d83486-a684-44b2-99c5-2d968b345ff1",
   "metadata": {
    "scrolled": true
   },
   "outputs": [
    {
     "data": {
      "text/plain": [
       "['T',\n",
       " 'h',\n",
       " 'e',\n",
       " 'r',\n",
       " 'e',\n",
       " ' ',\n",
       " 'a',\n",
       " 'r',\n",
       " 'e',\n",
       " ' ',\n",
       " ' ',\n",
       " 'i',\n",
       " 'n',\n",
       " 's',\n",
       " 'e',\n",
       " 'c',\n",
       " 't',\n",
       " 's',\n",
       " ' ',\n",
       " 'i',\n",
       " 'n',\n",
       " 's',\n",
       " 'i',\n",
       " 'd',\n",
       " 'e',\n",
       " ' ',\n",
       " 't',\n",
       " 'h',\n",
       " 'e',\n",
       " ' ',\n",
       " 'c',\n",
       " 'e',\n",
       " 'l',\n",
       " 'l',\n",
       " ' ',\n",
       " 'n',\n",
       " 'o',\n",
       " ' ',\n",
       " ' ',\n",
       " 'o',\n",
       " 'f',\n",
       " ' ',\n",
       " 'j',\n",
       " 'a',\n",
       " 'i',\n",
       " 'l']"
      ]
     },
     "execution_count": 171,
     "metadata": {},
     "output_type": "execute_result"
    }
   ],
   "source": [
    "re.findall(pattern1, phrase)"
   ]
  },
  {
   "cell_type": "code",
   "execution_count": 172,
   "id": "8bb04ca1-31c9-497b-a2c1-bc4d2544beb6",
   "metadata": {},
   "outputs": [
    {
     "data": {
      "text/plain": [
       "['There are ', ' insects inside the cell no ', ' of jail']"
      ]
     },
     "execution_count": 172,
     "metadata": {},
     "output_type": "execute_result"
    }
   ],
   "source": [
    "re.findall(pattern2, phrase)"
   ]
  },
  {
   "cell_type": "raw",
   "id": "7841f232-7e36-4189-8df8-7236283aabcb",
   "metadata": {},
   "source": [
    "Basic Functions in re\n",
    "re.search(pattern, string): Finds the first match of the pattern in the string.\n",
    "re.match(pattern, string): Checks if the pattern matches at the beginning of the string.\n",
    "re.findall(pattern, string): Returns all matches of the pattern in the string.\n",
    "re.sub(pattern, replacement, string): Replaces occurrences of the pattern with a replacement.\n",
    "re.split(pattern, string): Splits the string at each match of the pattern."
   ]
  },
  {
   "cell_type": "markdown",
   "id": "5213f6f6-f0ed-4530-888a-38a0b7591f25",
   "metadata": {},
   "source": [
    "### Timeit module"
   ]
  },
  {
   "cell_type": "markdown",
   "id": "80d45f1b-1d84-4099-8d30-0b1930f706b2",
   "metadata": {
    "jp-MarkdownHeadingCollapsed": true
   },
   "source": [
    "### 3 ways to time our Python code\n",
    "\n",
    "1. Simply by calculating elapsed time\n",
    "2. Using the timeit module\n",
    "3. Special %%timeit magic of Jupyter Notebooks"
   ]
  },
  {
   "cell_type": "code",
   "execution_count": 204,
   "id": "4cedf154-833f-4e17-8e56-b30983e9efbb",
   "metadata": {},
   "outputs": [
    {
     "name": "stdout",
     "output_type": "stream",
     "text": [
      "func_one is executed in 0.0 seconds of time\n",
      "func_two is executed in 0.0 seconds of time\n"
     ]
    }
   ],
   "source": [
    "# 1.\n",
    "import time\n",
    "def timer(func):\n",
    "    def wrapper(*args, **kwargs):\n",
    "        start = time.time()\n",
    "        func(*args, **kwargs)\n",
    "        end = time.time()\n",
    "        print(f\"{func.__name__} is executed in {end-start} seconds of time\")\n",
    "        # return result\n",
    "    return wrapper\n",
    "\n",
    "@timer\n",
    "def func_one(n):\n",
    "    # time.sleep(4)\n",
    "    return [str(num) for num in range(n)]\n",
    "\n",
    "@timer\n",
    "def func_two(n):\n",
    "    return list(map(str, range(n)))\n",
    "\n",
    "func_one(100)\n",
    "func_two(100)"
   ]
  },
  {
   "cell_type": "code",
   "execution_count": 207,
   "id": "6a40d5f9-1fa5-49e3-afb7-ae6bb74442f5",
   "metadata": {},
   "outputs": [],
   "source": [
    "# 2. \n",
    "import timeit\n",
    "\n",
    "stmt1 = '''\n",
    "func_one(100)\n",
    "'''\n",
    "\n",
    "setup1 = '''\n",
    "def func_one(n):\n",
    "    # time.sleep(4)\n",
    "    return [str(num) for num in range(n)]\n",
    "'''\n",
    "\n",
    "stmt2 = '''\n",
    "func_two(100)\n",
    "'''\n",
    "\n",
    "setup2 = '''\n",
    "def func_two(n):\n",
    "    return list(map(str, range(n)))\n",
    "'''"
   ]
  },
  {
   "cell_type": "code",
   "execution_count": 210,
   "id": "26f887c8-f138-4bcf-9f14-11f8433667d4",
   "metadata": {},
   "outputs": [
    {
     "data": {
      "text/plain": [
       "1.9432139999698848"
      ]
     },
     "execution_count": 210,
     "metadata": {},
     "output_type": "execute_result"
    }
   ],
   "source": [
    "timeit.timeit(stmt1, setup1, number=100000)"
   ]
  },
  {
   "cell_type": "code",
   "execution_count": 211,
   "id": "766eee65-10a2-420d-8e56-9f1ce4e7d9af",
   "metadata": {},
   "outputs": [
    {
     "data": {
      "text/plain": [
       "2.39542449999135"
      ]
     },
     "execution_count": 211,
     "metadata": {},
     "output_type": "execute_result"
    }
   ],
   "source": [
    "timeit.timeit(stmt2, setup2, number=100000)"
   ]
  },
  {
   "cell_type": "code",
   "execution_count": 215,
   "id": "fb640b95-199e-4e66-a89d-f02df5c2c2da",
   "metadata": {},
   "outputs": [],
   "source": [
    "def func_one(n):\n",
    "    # time.sleep(4)\n",
    "    return [str(num) for num in range(n)]\n",
    "\n",
    "def func_two(n):\n",
    "    return list(map(str, range(n)))"
   ]
  },
  {
   "cell_type": "code",
   "execution_count": 220,
   "id": "239f99dd-4f8d-410a-81be-4178152c5e28",
   "metadata": {
    "scrolled": true
   },
   "outputs": [
    {
     "name": "stdout",
     "output_type": "stream",
     "text": [
      "18.2 ms ± 737 μs per loop (mean ± std. dev. of 7 runs, 10 loops each)\n"
     ]
    }
   ],
   "source": [
    "%%timeit\n",
    "\n",
    "func_one(100000)"
   ]
  },
  {
   "cell_type": "code",
   "execution_count": 221,
   "id": "4b51813c-8c53-4842-b540-724c1c1b9499",
   "metadata": {
    "scrolled": true
   },
   "outputs": [
    {
     "name": "stdout",
     "output_type": "stream",
     "text": [
      "26.4 ms ± 3.44 ms per loop (mean ± std. dev. of 7 runs, 10 loops each)\n"
     ]
    }
   ],
   "source": [
    "%%timeit\n",
    "\n",
    "func_two(100000)"
   ]
  },
  {
   "cell_type": "code",
   "execution_count": null,
   "id": "43057828-4af6-4bdd-96b7-0b0ab20260b4",
   "metadata": {},
   "outputs": [],
   "source": []
  }
 ],
 "metadata": {
  "kernelspec": {
   "display_name": "Python 3 (ipykernel)",
   "language": "python",
   "name": "python3"
  },
  "language_info": {
   "codemirror_mode": {
    "name": "ipython",
    "version": 3
   },
   "file_extension": ".py",
   "mimetype": "text/x-python",
   "name": "python",
   "nbconvert_exporter": "python",
   "pygments_lexer": "ipython3",
   "version": "3.12.7"
  }
 },
 "nbformat": 4,
 "nbformat_minor": 5
}
