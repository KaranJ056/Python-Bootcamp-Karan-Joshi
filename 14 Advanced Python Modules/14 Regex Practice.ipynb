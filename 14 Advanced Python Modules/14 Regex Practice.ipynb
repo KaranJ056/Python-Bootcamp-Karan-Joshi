{
 "cells": [
  {
   "cell_type": "raw",
   "id": "9e1596d9-60c5-454a-867f-da402c537907",
   "metadata": {},
   "source": [
    "Match a Date: Write a regex to match dates in the format DD/MM/YYYY.\n",
    "\n",
    "Example: 23/08/2023, 01/01/2000.\n",
    "Input: \"Today's date is 23/08/2023, and yesterday was 22/08/2023.\"\n",
    "Expected Output: ['23/08/2023', '22/08/2023']"
   ]
  },
  {
   "cell_type": "code",
   "execution_count": 5,
   "id": "e6a1969d-ebfd-4403-83e4-f8a60ad83924",
   "metadata": {},
   "outputs": [],
   "source": [
    "import re"
   ]
  },
  {
   "cell_type": "code",
   "execution_count": 14,
   "id": "716e2b36-d4fe-4233-aa25-1304be6eab6b",
   "metadata": {},
   "outputs": [
    {
     "data": {
      "text/plain": [
       "['23/08/2023', '22/08/2023']"
      ]
     },
     "execution_count": 14,
     "metadata": {},
     "output_type": "execute_result"
    }
   ],
   "source": [
    "string1 = \"Today's date is 23/08/2023, and yesterday was 22/08/2023.\"\n",
    "\n",
    "# pattern1 = r\"(\\d{2})/(\\d{2})/(\\d{4})\"\n",
    "pattern1 = r\"\\d{2}/\\d{2}/\\d{4}\"\n",
    "\n",
    "re.findall(pattern1, string1)"
   ]
  },
  {
   "cell_type": "raw",
   "id": "6419a8b9-2e33-4200-ac35-003b2c5c8e9b",
   "metadata": {},
   "source": [
    "Extract Words Starting with a Capital Letter: Find all words in a sentence that start with a capital letter.\n",
    "\n",
    "Input: \"Hello there! Welcome to Python Programming.\"\n",
    "Expected Output: ['Hello', 'Welcome', 'Python', 'Programming']"
   ]
  },
  {
   "cell_type": "code",
   "execution_count": 15,
   "id": "88bf9d05-ea2d-4f46-86ad-ade37dbcc511",
   "metadata": {},
   "outputs": [
    {
     "data": {
      "text/plain": [
       "['Hello', 'Welcome', 'Python', 'Programming']"
      ]
     },
     "execution_count": 15,
     "metadata": {},
     "output_type": "execute_result"
    }
   ],
   "source": [
    "string2 = \"Hello there! Welcome to Python Programming.\"\n",
    "\n",
    "pattern2 = r\"[A-Z]\\w+\"\n",
    "\n",
    "re.findall(pattern2, string2)"
   ]
  },
  {
   "cell_type": "raw",
   "id": "22158ae1-29fa-42c1-8c03-d66295e7f691",
   "metadata": {},
   "source": [
    "Validate Email Addresses: Write a regex to verify if a string is a valid email address.\n",
    "\n",
    "Input: \"test.email@example.com\"\n",
    "Expected Output: True"
   ]
  },
  {
   "cell_type": "code",
   "execution_count": 38,
   "id": "862e2a0b-b0da-4274-9067-7d329fedb504",
   "metadata": {},
   "outputs": [
    {
     "data": {
      "text/plain": [
       "['test.email@example.com']"
      ]
     },
     "execution_count": 38,
     "metadata": {},
     "output_type": "execute_result"
    }
   ],
   "source": [
    "string3 = \"test.email@example.com\"\n",
    "\n",
    "pattern3 = r\"[A-Za-z0-9._+-]+@[A-Za-z0-9.]+\\.[A-Za-z]{2,}\"\n",
    "\n",
    "re.findall(pattern3, string3)"
   ]
  },
  {
   "cell_type": "raw",
   "id": "5e393226-43bd-41ad-869c-41665f312a1e",
   "metadata": {},
   "source": [
    "Find All Numbers: Extract all numbers (integers and decimals) from a string.\n",
    "\n",
    "Input: \"There are 3 cats, 4.5 dogs, and 2.75 birds.\"\n",
    "Expected Output: ['3', '4.5', '2.75']"
   ]
  },
  {
   "cell_type": "code",
   "execution_count": 39,
   "id": "ed471e70-62f6-40da-a047-022b2e4c7e4f",
   "metadata": {},
   "outputs": [
    {
     "data": {
      "text/plain": [
       "['3', '4.5', '2.75']"
      ]
     },
     "execution_count": 39,
     "metadata": {},
     "output_type": "execute_result"
    }
   ],
   "source": [
    "string4 = \"There are 3 cats, 4.5 dogs, and 2.75 birds.\"\n",
    "\n",
    "pattern4 = r\"\\d+\\.?\\d*\"\n",
    "\n",
    "re.findall(pattern4, string4)"
   ]
  },
  {
   "cell_type": "raw",
   "id": "43b24c56-dd36-408b-95ae-79360d9c76c8",
   "metadata": {},
   "source": [
    "Split a String on Non-Alphanumeric Characters: Split a sentence into words, ignoring punctuation and special characters.\n",
    "\n",
    "Input: \"Hello, world! How's everything?\"\n",
    "Expected Output: ['Hello', 'world', 'How', 's', 'everything']"
   ]
  },
  {
   "cell_type": "code",
   "execution_count": 37,
   "id": "41be65c3-345b-42a7-b07c-0cfc0839b7ee",
   "metadata": {},
   "outputs": [
    {
     "data": {
      "text/plain": [
       "['Hello,', 'world', 'How', 's', 'everything']"
      ]
     },
     "execution_count": 37,
     "metadata": {},
     "output_type": "execute_result"
    }
   ],
   "source": [
    "string5 = \"Hello, world! How's everything?\"\n",
    "\n",
    "pattern5 = r\"[^!?'. ]+\"\n",
    "\n",
    "re.findall(pattern5, string5)"
   ]
  },
  {
   "cell_type": "code",
   "execution_count": null,
   "id": "9cd9d8df-49bf-41e7-92b1-a04d0c2f31e8",
   "metadata": {},
   "outputs": [],
   "source": []
  }
 ],
 "metadata": {
  "kernelspec": {
   "display_name": "Python 3 (ipykernel)",
   "language": "python",
   "name": "python3"
  },
  "language_info": {
   "codemirror_mode": {
    "name": "ipython",
    "version": 3
   },
   "file_extension": ".py",
   "mimetype": "text/x-python",
   "name": "python",
   "nbconvert_exporter": "python",
   "pygments_lexer": "ipython3",
   "version": "3.12.7"
  }
 },
 "nbformat": 4,
 "nbformat_minor": 5
}
