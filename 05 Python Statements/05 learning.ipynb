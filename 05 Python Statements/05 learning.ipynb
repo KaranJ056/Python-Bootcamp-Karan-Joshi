{
 "cells": [
  {
   "cell_type": "markdown",
   "id": "de935eaa-6adc-4787-af9a-2d74ecb5630d",
   "metadata": {},
   "source": [
    "Python Statements"
   ]
  },
  {
   "cell_type": "markdown",
   "id": "025fab2c-c142-4751-9b57-eaf2c91a87a1",
   "metadata": {},
   "source": [
    "Control Flow Statements"
   ]
  },
  {
   "cell_type": "raw",
   "id": "2669162b-b7bf-4fc4-98dd-b9721299225c",
   "metadata": {},
   "source": [
    "Basic control flow statements \n",
    "if, elif and else statments \n",
    "Control flow uses indentations and colons\n",
    "\n",
    "syntax :\n",
    "\n",
    "if => \n",
    "        if some_condition :\n",
    "            # execute some code\n",
    "if/else => \n",
    "        if some_condition : \n",
    "            # execute some code\n",
    "        else :\n",
    "            # execute else code\n",
    "\n",
    "elif => \n",
    "        if some_condition_1 :\n",
    "            # execeude some code\n",
    "        elif some_condition_2 : \n",
    "            # execute some code\n",
    "        else : \n",
    "            # execute some code"
   ]
  },
  {
   "cell_type": "code",
   "execution_count": 6,
   "id": "27335829-dc18-424e-b92c-f193439184fb",
   "metadata": {},
   "outputs": [
    {
     "name": "stdout",
     "output_type": "stream",
     "text": [
      "My dog is hungry\n"
     ]
    }
   ],
   "source": [
    "is_hungry = True\n",
    "\n",
    "if is_hungry : \n",
    "    print(\"My dog is hungry\")"
   ]
  },
  {
   "cell_type": "code",
   "execution_count": 14,
   "id": "7d0b90a2-9bdf-48d7-8fab-7281c091952e",
   "metadata": {},
   "outputs": [
    {
     "name": "stdout",
     "output_type": "stream",
     "text": [
      "You're an adult!\n"
     ]
    }
   ],
   "source": [
    "age = 22\n",
    "# if age > 18:\n",
    "#     print(\"You're an adult!\")\n",
    "# else:\n",
    "#     print(\"You're not an adult!\")\n",
    "\n",
    "if age > 18:\n",
    "    print(\"You're an adult!\")\n",
    "elif age >= 12 and age <= 18:\n",
    "    print(\"You're a teen!\")\n",
    "else:\n",
    "    print(\"You're a child\")"
   ]
  },
  {
   "cell_type": "raw",
   "id": "d83086e3-c08b-4f16-8753-9da237de22cb",
   "metadata": {},
   "source": [
    "For loops\n",
    "\n",
    "Iterable = objexct that we can iterate\n",
    "\n",
    "syntax : \n",
    "    for item_name in my_iterable:\n",
    "        # execute some code"
   ]
  },
  {
   "cell_type": "code",
   "execution_count": 19,
   "id": "9a4ac75d-3fd1-4945-a1c8-02276dd11c6b",
   "metadata": {},
   "outputs": [
    {
     "name": "stdout",
     "output_type": "stream",
     "text": [
      "number is 1\n",
      "number is 2\n",
      "number is 3\n",
      "number is 4\n",
      "number is 5\n"
     ]
    }
   ],
   "source": [
    "list = [1, 2, 3, 4, 5]\n",
    "for number in list:\n",
    "    print(f\"number is {number}\")"
   ]
  },
  {
   "cell_type": "code",
   "execution_count": 20,
   "id": "95992805-f126-4ac7-9327-4ef88bbb4e25",
   "metadata": {},
   "outputs": [
    {
     "name": "stdout",
     "output_type": "stream",
     "text": [
      "Sum of items in list is 15\n"
     ]
    }
   ],
   "source": [
    "list_sum = 0\n",
    "for num in list:\n",
    "    list_sum += num\n",
    "print(f\"Sum of items in list is {list_sum}\")"
   ]
  },
  {
   "cell_type": "code",
   "execution_count": 21,
   "id": "7485acf7-1bd0-4074-ac87-f593846882c4",
   "metadata": {},
   "outputs": [
    {
     "name": "stdout",
     "output_type": "stream",
     "text": [
      "H\n",
      "e\n",
      "l\n",
      "l\n",
      "o\n",
      " \n",
      "W\n",
      "o\n",
      "r\n",
      "l\n",
      "d\n",
      "!\n"
     ]
    }
   ],
   "source": [
    "# We can also do following\n",
    "for letter in \"Hello World!\":\n",
    "    print(letter)"
   ]
  },
  {
   "cell_type": "code",
   "execution_count": 24,
   "id": "5b0207e8-ce99-49b7-863e-f5929eeb5d46",
   "metadata": {},
   "outputs": [
    {
     "name": "stdout",
     "output_type": "stream",
     "text": [
      "1\n",
      "2\n",
      "3\n",
      "4\n",
      "5\n",
      "6\n"
     ]
    }
   ],
   "source": [
    "# tuple unpacking\n",
    "my_list = [(1,2), (3,4), (5,6)]\n",
    "\n",
    "# for item in my_list:\n",
    "#     print(item)\n",
    "# instead do following\n",
    "\n",
    "# for (a, b) in my_list:\n",
    "#or\n",
    "for a, b in my_list:\n",
    "    print(a)\n",
    "    print(b)"
   ]
  },
  {
   "cell_type": "code",
   "execution_count": 2,
   "id": "72fe12ef-d093-442f-90b7-841b72f02e4c",
   "metadata": {},
   "outputs": [
    {
     "name": "stdout",
     "output_type": "stream",
     "text": [
      "k1\n",
      "k2\n",
      "k3\n"
     ]
    }
   ],
   "source": [
    "# This tuple unpacking is useful in iterating dictionaries\n",
    "# exampole\n",
    "\n",
    "my_dict = {'k1':1, 'k2':2, 'k3':3}\n",
    "\n",
    "#By default it takes keys\n",
    "for item in my_dict:\n",
    "    print(item)"
   ]
  },
  {
   "cell_type": "code",
   "execution_count": 3,
   "id": "bb62aa87-ead1-40db-96df-ec82c849af13",
   "metadata": {},
   "outputs": [
    {
     "name": "stdout",
     "output_type": "stream",
     "text": [
      "k1 has value 1\n",
      "k2 has value 2\n",
      "k3 has value 3\n"
     ]
    }
   ],
   "source": [
    "# for getting values we have to as following\n",
    "for (key, value) in my_dict.items():\n",
    "    print(f\"{key} has value {value}\")"
   ]
  },
  {
   "cell_type": "raw",
   "id": "3114b1b0-1a98-4024-8e8e-a7a707ac0f05",
   "metadata": {},
   "source": [
    "While loops\n",
    "\n",
    "Will continue to iterate untill the condition becomes false\n",
    "\n",
    "syntax : \n",
    "    while some_condition:\n",
    "        # execute some code\n",
    "or also can do as following\n",
    "    while some_condition:\n",
    "        # execute some code\n",
    "    else:\n",
    "        # execute some else code"
   ]
  },
  {
   "cell_type": "code",
   "execution_count": 4,
   "id": "c9019445-df59-4b80-81e0-b96f5538b447",
   "metadata": {},
   "outputs": [
    {
     "name": "stdout",
     "output_type": "stream",
     "text": [
      "Current value of a is 0\n",
      "Current value of a is 1\n",
      "Current value of a is 2\n",
      "Current value of a is 3\n",
      "Current value of a is 4\n",
      "x is no longer less than 5\n"
     ]
    }
   ],
   "source": [
    "# example\n",
    "x = 0\n",
    "while x < 5:\n",
    "    print(f\"Current value of a is {x}\")\n",
    "    x = x + 1\n",
    "else:\n",
    "    print(\"x is no longer less than 5\")"
   ]
  },
  {
   "cell_type": "raw",
   "id": "212cde44-4c33-4c50-98b5-e15f7bd837a9",
   "metadata": {},
   "source": [
    "Break : Breaks out the current closest enclosing loop\n",
    "Continue : Goes to the top of  the current closest enclosing loop \n",
    "Pass : Does nothing at all"
   ]
  },
  {
   "cell_type": "code",
   "execution_count": 5,
   "id": "70e66f8f-e7cd-4c2f-a048-0ffdb9deb057",
   "metadata": {},
   "outputs": [
    {
     "name": "stdout",
     "output_type": "stream",
     "text": [
      "End of loop\n"
     ]
    }
   ],
   "source": [
    "#pass\n",
    "for number in [1, 2, 3]:\n",
    "    #Does nothing\n",
    "    pass\n",
    "print(\"End of loop\")"
   ]
  },
  {
   "cell_type": "code",
   "execution_count": 7,
   "id": "0251cf45-3370-47ef-a831-2262e3e7a92f",
   "metadata": {},
   "outputs": [
    {
     "name": "stdout",
     "output_type": "stream",
     "text": [
      "K\n",
      "r\n",
      "n\n"
     ]
    }
   ],
   "source": [
    "#continue\n",
    "name = \"Karan\"\n",
    "for letter in name:\n",
    "    if letter == 'a':\n",
    "        continue\n",
    "    print(letter)"
   ]
  },
  {
   "cell_type": "code",
   "execution_count": 9,
   "id": "3ddfec7d-8cbf-416a-96aa-7777fb998435",
   "metadata": {},
   "outputs": [
    {
     "name": "stdout",
     "output_type": "stream",
     "text": [
      "J\n",
      "o\n"
     ]
    }
   ],
   "source": [
    "#break\n",
    "name = \"Joshi\"\n",
    "for letter in name:\n",
    "    if letter == 's':\n",
    "        break\n",
    "    print(letter)"
   ]
  },
  {
   "cell_type": "raw",
   "id": "93f60ffc-ab41-4fba-b1e6-f113ea1af07e",
   "metadata": {},
   "source": [
    "Useful operators thatr haven't seen till now"
   ]
  },
  {
   "cell_type": "code",
   "execution_count": 12,
   "id": "b74ab268-1b71-4bb8-b918-6f80a3435c57",
   "metadata": {},
   "outputs": [
    {
     "name": "stdout",
     "output_type": "stream",
     "text": [
      "0\n",
      "1\n",
      "2\n",
      "3\n",
      "4\n",
      "###\n",
      "0\n",
      "2\n",
      "4\n",
      "6\n",
      "8\n"
     ]
    }
   ],
   "source": [
    "# range(start, stop, step) => stop is excluded and it's generator\n",
    "\n",
    "for num in range(5):\n",
    "    print(num)\n",
    "print(\"###\")\n",
    "for num in range(0, 10, 2):\n",
    "    print(num)"
   ]
  },
  {
   "cell_type": "code",
   "execution_count": 13,
   "id": "feefdfe9-751b-42be-a00e-116d4f509d96",
   "metadata": {},
   "outputs": [
    {
     "name": "stdout",
     "output_type": "stream",
     "text": [
      "Letter at position 0 is K\n",
      "Letter at position 0 is a\n",
      "Letter at position 0 is r\n",
      "Letter at position 0 is a\n",
      "Letter at position 0 is n\n"
     ]
    }
   ],
   "source": [
    "# enumerate iterators\n",
    "# example\n",
    "# for taking care of index and value generally we do following\n",
    "index_count = 0\n",
    "word = \"Karan\"\n",
    "for letter in word:\n",
    "    print(f\"Letter at position {index_count} is {letter}\")"
   ]
  },
  {
   "cell_type": "code",
   "execution_count": 18,
   "id": "03317c98-1ccd-4dfc-b93f-202d6d392017",
   "metadata": {},
   "outputs": [
    {
     "name": "stdout",
     "output_type": "stream",
     "text": [
      "0 => K\n",
      "1 => a\n",
      "2 => r\n",
      "3 => a\n",
      "4 => n\n"
     ]
    }
   ],
   "source": [
    "# instead we can do following\n",
    "for index, item in enumerate(\"Karan\"):\n",
    "                             print(f\"{index} => {item}\")"
   ]
  },
  {
   "cell_type": "raw",
   "id": "a7438f19-df0e-4643-97c3-e25235a21f75",
   "metadata": {},
   "source": [
    "zip function\n",
    "\n",
    "used for zipping or packing multiple items or lists in one object"
   ]
  },
  {
   "cell_type": "code",
   "execution_count": 21,
   "id": "048cee30-a208-4283-9faa-2e481a878293",
   "metadata": {},
   "outputs": [
    {
     "data": {
      "text/plain": [
       "<zip at 0x29798d0fb00>"
      ]
     },
     "execution_count": 21,
     "metadata": {},
     "output_type": "execute_result"
    }
   ],
   "source": [
    "# example\n",
    "my_list1 = [1,2,3]\n",
    "my_list2 = ['a','b','c']\n",
    "my_list3 = [10,20,30]\n",
    "\n",
    "zip(my_list1, my_list2, my_list3) # it gives zip object"
   ]
  },
  {
   "cell_type": "code",
   "execution_count": 22,
   "id": "694ad15b-91a8-4d9d-862d-19ea5e9e0775",
   "metadata": {},
   "outputs": [
    {
     "name": "stdout",
     "output_type": "stream",
     "text": [
      "(1, 'a', 10)\n",
      "(2, 'b', 20)\n",
      "(3, 'c', 30)\n"
     ]
    }
   ],
   "source": [
    "for item in zip(my_list1, my_list2, my_list3):\n",
    "    print(item)"
   ]
  },
  {
   "cell_type": "raw",
   "id": "4dc3e101-75c8-4d35-bbb4-7818c4506559",
   "metadata": {},
   "source": [
    "in keyword\n",
    "\n",
    "returns boolean value if item is found in object or iterable"
   ]
  },
  {
   "cell_type": "code",
   "execution_count": 24,
   "id": "688810ba-dc96-4b2c-860b-295a2fdb33d8",
   "metadata": {},
   "outputs": [
    {
     "data": {
      "text/plain": [
       "True"
      ]
     },
     "execution_count": 24,
     "metadata": {},
     "output_type": "execute_result"
    }
   ],
   "source": [
    "# exapmle\n",
    "\n",
    "'a' in 'Karan'"
   ]
  },
  {
   "cell_type": "code",
   "execution_count": 25,
   "id": "0e92ce0d-d438-4252-8d71-db37f1ab6406",
   "metadata": {},
   "outputs": [
    {
     "data": {
      "text/plain": [
       "True"
      ]
     },
     "execution_count": 25,
     "metadata": {},
     "output_type": "execute_result"
    }
   ],
   "source": [
    "d = {'k' : 34}\n",
    "34 in d.values()"
   ]
  },
  {
   "cell_type": "code",
   "execution_count": 27,
   "id": "30dfb8ed-6d00-4dd9-a6c9-afa66938eb23",
   "metadata": {},
   "outputs": [
    {
     "name": "stdout",
     "output_type": "stream",
     "text": [
      "1\n",
      "5\n"
     ]
    }
   ],
   "source": [
    "# min and max\n",
    "\n",
    "my_list_of_numbers = [1, 2, 3, 4, 5]\n",
    "print(min(my_list_of_numbers))\n",
    "print(max(my_list_of_numbers))"
   ]
  },
  {
   "cell_type": "raw",
   "id": "fcae677d-6afd-4d56-84fa-a0a9fb21f983",
   "metadata": {},
   "source": [
    "random library => usefful inbuilt library for generating random int or iterables"
   ]
  },
  {
   "cell_type": "code",
   "execution_count": 29,
   "id": "f77dfc35-7a2f-4007-b25d-1fd0f48cf057",
   "metadata": {},
   "outputs": [
    {
     "data": {
      "text/plain": [
       "[2, 1, 4, 3, 5]"
      ]
     },
     "execution_count": 29,
     "metadata": {},
     "output_type": "execute_result"
    }
   ],
   "source": [
    "#example\n",
    "from random import shuffle\n",
    "shuffle(my_list_of_numbers)\n",
    "my_list_of_numbers"
   ]
  },
  {
   "cell_type": "code",
   "execution_count": 30,
   "id": "7caa0601-4a2a-49b6-8937-34ce25fc5fd7",
   "metadata": {},
   "outputs": [
    {
     "data": {
      "text/plain": [
       "96"
      ]
     },
     "execution_count": 30,
     "metadata": {},
     "output_type": "execute_result"
    }
   ],
   "source": [
    "from random import randint\n",
    "\n",
    "randint(0, 100)"
   ]
  },
  {
   "cell_type": "code",
   "execution_count": 32,
   "id": "90bfff30-d6da-4879-bb31-fc237be1782a",
   "metadata": {},
   "outputs": [
    {
     "name": "stdin",
     "output_type": "stream",
     "text": [
      "Enter your age 21\n"
     ]
    },
    {
     "name": "stdout",
     "output_type": "stream",
     "text": [
      "21\n"
     ]
    }
   ],
   "source": [
    "# input function\n",
    "\n",
    "age = input(\"Enter your age\")\n",
    "print(age)"
   ]
  },
  {
   "cell_type": "raw",
   "id": "b4f1dc9a-c14f-4da4-b1a3-9f62becd735d",
   "metadata": {},
   "source": [
    "List Comprehensions\n",
    "\n",
    "It's an alternative of creating lists using for loop and unique way and one liner"
   ]
  },
  {
   "cell_type": "code",
   "execution_count": 1,
   "id": "cb75c436-fbc9-47ab-88fc-fd8644889764",
   "metadata": {},
   "outputs": [
    {
     "data": {
      "text/plain": [
       "['k', 'a', 'r', 'a', 'n']"
      ]
     },
     "execution_count": 1,
     "metadata": {},
     "output_type": "execute_result"
    }
   ],
   "source": [
    "# using for loop\n",
    "word = 'karan'\n",
    "mylist = []\n",
    "\n",
    "for letter in word:\n",
    "    mylist.append(letter)\n",
    "\n",
    "mylist"
   ]
  },
  {
   "cell_type": "code",
   "execution_count": 3,
   "id": "dee899a4-df6d-4977-a3c4-2e5b397e69f5",
   "metadata": {},
   "outputs": [
    {
     "data": {
      "text/plain": [
       "['k', 'a', 'r', 'a', 'n']"
      ]
     },
     "execution_count": 3,
     "metadata": {},
     "output_type": "execute_result"
    }
   ],
   "source": [
    "# instead we can do following\n",
    "mylist = [letter for letter in word]\n",
    "mylist"
   ]
  },
  {
   "cell_type": "code",
   "execution_count": 4,
   "id": "2b0fd184-03b9-42c0-b139-ba4998cde48f",
   "metadata": {},
   "outputs": [
    {
     "data": {
      "text/plain": [
       "[0, 1, 2, 3, 4, 5, 6, 7, 8, 9, 10]"
      ]
     },
     "execution_count": 4,
     "metadata": {},
     "output_type": "execute_result"
    }
   ],
   "source": [
    "mylist = [num for num in range(0, 11)]\n",
    "mylist"
   ]
  },
  {
   "cell_type": "code",
   "execution_count": 11,
   "id": "d4c89ef6-05fb-47fd-8269-59cf06df1cd7",
   "metadata": {},
   "outputs": [],
   "source": [
    "# we can also put if conditions in it nad also can put if else condition\n",
    "## NOTE: if we are using if else condition in this type of application we have to reverse the foe and if position\n",
    "## Example: mylist = [num if x%2==0 else \"odd\" for num in range (0,10)]\n",
    "mylist = [num for num in range(0,11) if num % 2 == 0]"
   ]
  },
  {
   "cell_type": "code",
   "execution_count": 12,
   "id": "33e654a1-7df8-43db-adff-58d04f35f8a3",
   "metadata": {},
   "outputs": [
    {
     "data": {
      "text/plain": [
       "[0, 2, 4, 6, 8, 10]"
      ]
     },
     "execution_count": 12,
     "metadata": {},
     "output_type": "execute_result"
    }
   ],
   "source": [
    "mylist"
   ]
  },
  {
   "cell_type": "code",
   "execution_count": 13,
   "id": "3b44f7f3-d90f-4808-aebb-24ee28661954",
   "metadata": {},
   "outputs": [
    {
     "data": {
      "text/plain": [
       "[2, 20, 200, 4, 40, 400, 6, 60, 600]"
      ]
     },
     "execution_count": 13,
     "metadata": {},
     "output_type": "execute_result"
    }
   ],
   "source": [
    "mylist = [x*y for x in [2, 4, 6] for y in [1, 10, 100]]\n",
    "mylist"
   ]
  },
  {
   "cell_type": "code",
   "execution_count": null,
   "id": "2798cf55-e595-43a4-bdf6-3c8d07114a5c",
   "metadata": {},
   "outputs": [],
   "source": []
  }
 ],
 "metadata": {
  "kernelspec": {
   "display_name": "Python 3 (ipykernel)",
   "language": "python",
   "name": "python3"
  },
  "language_info": {
   "codemirror_mode": {
    "name": "ipython",
    "version": 3
   },
   "file_extension": ".py",
   "mimetype": "text/x-python",
   "name": "python",
   "nbconvert_exporter": "python",
   "pygments_lexer": "ipython3",
   "version": "3.12.7"
  }
 },
 "nbformat": 4,
 "nbformat_minor": 5
}
