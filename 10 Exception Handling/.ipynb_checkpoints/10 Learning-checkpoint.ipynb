{
 "cells": [
  {
   "cell_type": "raw",
   "id": "fa548a1a-1024-4de5-8655-e01e5d8bd4a4",
   "metadata": {},
   "source": [
    "Exception Handling"
   ]
  },
  {
   "cell_type": "raw",
   "id": "5da0f4c4-9f5a-4c38-b991-e9c2c8be4a7a",
   "metadata": {},
   "source": [
    "Error or Exception is a situation when something unexpected happenes in our code or script\n",
    "\n",
    "We can use error handling or exception handling to let the code run normally and report if there is any error"
   ]
  },
  {
   "cell_type": "raw",
   "id": "ee3ac535-e52b-43b6-bd66-688e17ea7db2",
   "metadata": {},
   "source": [
    "There is 3 keyword to be used  foir exception handling\n",
    "That are:\n",
    "\n",
    "1. try => block of code to be attempted that may or may not lead to an error\n",
    "2. except => block of code that will execute when there is an error or exception in our code\n",
    "3. finally => block of code that will run despite of any error is found or not"
   ]
  },
  {
   "cell_type": "code",
   "execution_count": 3,
   "id": "31b891ae-22bb-40dc-b479-07aadc239ed6",
   "metadata": {},
   "outputs": [
    {
     "name": "stdout",
     "output_type": "stream",
     "text": [
      "Something went incorrect!\n",
      "Script executed successfully!\n"
     ]
    }
   ],
   "source": [
    "# simple example\n",
    "\n",
    "try: \n",
    "    result = 10 + 'Karan'\n",
    "except:\n",
    "    print(f\"Something went incorrect!\")\n",
    "finally:\n",
    "    print(\"Script executed successfully!\")"
   ]
  },
  {
   "cell_type": "code",
   "execution_count": 2,
   "id": "345a32cc-2dd9-4644-b2fa-4c732da73a1b",
   "metadata": {},
   "outputs": [
    {
     "data": {
      "text/plain": [
       "20"
      ]
     },
     "execution_count": 2,
     "metadata": {},
     "output_type": "execute_result"
    }
   ],
   "source": [
    "result"
   ]
  },
  {
   "cell_type": "code",
   "execution_count": 4,
   "id": "0ee3254d-ce93-4014-b37e-daa7b84944ff",
   "metadata": {},
   "outputs": [],
   "source": [
    "# example:\n",
    "\n",
    "def ask_int():\n",
    "    while True:\n",
    "        try:\n",
    "            number = int(input(\"Enter an number you want!\"))\n",
    "        except:\n",
    "            print(\"You didn't enter a valid number\")\n",
    "            print(\"Please enter a valid number! Try Again!\")\n",
    "            continue\n",
    "        else:\n",
    "            print(\"Yay! You did it!\")\n",
    "            print(number)\n",
    "            break\n",
    "        finally:\n",
    "            print(\"I'll always execute\")"
   ]
  },
  {
   "cell_type": "code",
   "execution_count": 5,
   "id": "7a6493d4-54f9-44e4-b23f-6a6c2b491cff",
   "metadata": {},
   "outputs": [
    {
     "name": "stdin",
     "output_type": "stream",
     "text": [
      "Enter an number you want! sfa\n"
     ]
    },
    {
     "name": "stdout",
     "output_type": "stream",
     "text": [
      "You didn't enter a valid number\n",
      "Please enter a valid number! Try Again!\n",
      "I'll always execute\n"
     ]
    },
    {
     "name": "stdin",
     "output_type": "stream",
     "text": [
      "Enter an number you want! four\n"
     ]
    },
    {
     "name": "stdout",
     "output_type": "stream",
     "text": [
      "You didn't enter a valid number\n",
      "Please enter a valid number! Try Again!\n",
      "I'll always execute\n"
     ]
    },
    {
     "name": "stdin",
     "output_type": "stream",
     "text": [
      "Enter an number you want! 1\n"
     ]
    },
    {
     "name": "stdout",
     "output_type": "stream",
     "text": [
      "Yay! You did it!\n",
      "1\n",
      "I'll always execute\n"
     ]
    }
   ],
   "source": [
    "ask_int()"
   ]
  },
  {
   "cell_type": "raw",
   "id": "31eb599c-d893-48e7-a286-4ca6941d5bb3",
   "metadata": {},
   "source": [
    "Unit Testing \n",
    "\n",
    "Testing our code against the expected output\n",
    "Many tools are available\n",
    "but most common and basic are as following:\n",
    "\n",
    "1. pylint => third party tool. Tells us about coding conventions in Python how well our code is wrtitten\n",
    "2. unittest => bilt-in library/package. Allow us to test our code/functions against expected output"
   ]
  },
  {
   "cell_type": "code",
   "execution_count": 6,
   "id": "629f95ee-56e3-4fbb-a457-6fbe3a4903a0",
   "metadata": {},
   "outputs": [],
   "source": [
    "# for example see .py files availabe in the folder or reder to notes"
   ]
  },
  {
   "cell_type": "code",
   "execution_count": null,
   "id": "b103caa4-6380-4575-9659-3f7ce70b7cfb",
   "metadata": {},
   "outputs": [],
   "source": []
  }
 ],
 "metadata": {
  "kernelspec": {
   "display_name": "Python 3 (ipykernel)",
   "language": "python",
   "name": "python3"
  },
  "language_info": {
   "codemirror_mode": {
    "name": "ipython",
    "version": 3
   },
   "file_extension": ".py",
   "mimetype": "text/x-python",
   "name": "python",
   "nbconvert_exporter": "python",
   "pygments_lexer": "ipython3",
   "version": "3.12.7"
  }
 },
 "nbformat": 4,
 "nbformat_minor": 5
}
