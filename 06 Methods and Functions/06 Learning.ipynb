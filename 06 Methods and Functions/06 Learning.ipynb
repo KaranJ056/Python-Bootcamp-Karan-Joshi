{
 "cells": [
  {
   "cell_type": "raw",
   "id": "f8c6b440-80c2-4470-8cc7-b6861697295b",
   "metadata": {},
   "source": [
    "Methods\n",
    "    Objects in Python have built-in methods that are useful for providing functionalities to objects.\n",
    "\n",
    "For getting details of any built-in method we have 3 options\n",
    "\n",
    "1. shift + tab on method in jupyter notebook\n",
    "2. user the buil-in help function to do it\n",
    "3. read from the python documentation"
   ]
  },
  {
   "cell_type": "code",
   "execution_count": 5,
   "id": "da909f36-b0b7-4528-a060-765856b6b613",
   "metadata": {},
   "outputs": [
    {
     "name": "stdout",
     "output_type": "stream",
     "text": [
      "Help on built-in function insert:\n",
      "\n",
      "insert(index, object, /) method of builtins.list instance\n",
      "    Insert object before index.\n",
      "\n"
     ]
    }
   ],
   "source": [
    "# Example\n",
    "mylist = []\n",
    "help(mylist.insert)\n"
   ]
  },
  {
   "cell_type": "raw",
   "id": "077af4f0-5fe5-44a8-a0ea-36348ca6eb4c",
   "metadata": {},
   "source": [
    "Functions\n",
    "\n",
    "Block of code that needs to execeute many time in program without writing it again and again\n",
    "\n",
    "## def keyword:\n",
    "    it allows you to create a function in python\n",
    "    syntax:\n",
    "        def function_name():\n",
    "            ``` docstring for documentation \n",
    "                of function ```\n",
    "            # CODE OF FUNCTION\n",
    "            return variable_name"
   ]
  },
  {
   "cell_type": "code",
   "execution_count": 9,
   "id": "fd4a01d1-65a4-4f11-a589-ca00353c0c55",
   "metadata": {},
   "outputs": [
    {
     "name": "stdout",
     "output_type": "stream",
     "text": [
      "Hello Karan\n"
     ]
    }
   ],
   "source": [
    "# example\n",
    "def name_of_function(name):\n",
    "    ''' Greeting by name '''\n",
    "    print(f\"Hello {name}\")\n",
    "\n",
    "name_of_function(\"Karan\")"
   ]
  },
  {
   "cell_type": "code",
   "execution_count": 10,
   "id": "63b50a33-2fe8-4847-b302-43a026b3d01c",
   "metadata": {},
   "outputs": [
    {
     "name": "stdout",
     "output_type": "stream",
     "text": [
      "35\n"
     ]
    }
   ],
   "source": [
    "def add_function(num1, num2):\n",
    "    return num1+num2\n",
    "\n",
    "print(add_function(1, 34))"
   ]
  },
  {
   "cell_type": "code",
   "execution_count": 11,
   "id": "93bd4ca9-3d89-408d-8810-bebd25d59c26",
   "metadata": {},
   "outputs": [
    {
     "name": "stdout",
     "output_type": "stream",
     "text": [
      "Hello Karan\n",
      "Hello Your_Name\n"
     ]
    }
   ],
   "source": [
    "# function with default arguments\n",
    "# example\n",
    "def say_hello(name=\"Your_Name\"):\n",
    "    print(f\"Hello {name}\")\n",
    "\n",
    "say_hello(\"Karan\")\n",
    "say_hello()"
   ]
  },
  {
   "cell_type": "code",
   "execution_count": 12,
   "id": "e8a06095-0e08-4170-b9c3-80cf30220e8d",
   "metadata": {},
   "outputs": [
    {
     "name": "stdout",
     "output_type": "stream",
     "text": [
      "Hello Your_Name\n"
     ]
    },
    {
     "data": {
      "text/plain": [
       "<function __main__.say_hello(name='Your_Name')>"
      ]
     },
     "execution_count": 12,
     "metadata": {},
     "output_type": "execute_result"
    }
   ],
   "source": [
    "say_hello() # will execute function\n",
    "say_hello # will return function object"
   ]
  },
  {
   "cell_type": "code",
   "execution_count": 13,
   "id": "1da6acea-8bbf-4f87-99e1-710101ba33c2",
   "metadata": {},
   "outputs": [],
   "source": [
    "# logic with python functions\n",
    "\n",
    "def even_check(number):\n",
    "    return number % 2\n",
    "    # result = number % 2\n",
    "    # return result"
   ]
  },
  {
   "cell_type": "code",
   "execution_count": 16,
   "id": "85803f20-e865-47b5-afde-1aaf1b67eb2e",
   "metadata": {},
   "outputs": [
    {
     "name": "stdout",
     "output_type": "stream",
     "text": [
      "1\n",
      "0\n"
     ]
    }
   ],
   "source": [
    "print(even_check(5))\n",
    "print(even_check(2))"
   ]
  },
  {
   "cell_type": "code",
   "execution_count": 17,
   "id": "cb09e8c0-8818-40e8-aab6-e88b80da0663",
   "metadata": {},
   "outputs": [],
   "source": [
    "## return true if list contains even number\n",
    "\n",
    "def check_even_list(numlist):\n",
    "    for num in numlist:\n",
    "        if num%2 == 0:\n",
    "            return True\n",
    "        else:\n",
    "            # return False ## Wrong!\n",
    "            pass\n",
    "    return False"
   ]
  },
  {
   "cell_type": "code",
   "execution_count": 18,
   "id": "d690c305-acda-4481-9533-35bf9ac58efb",
   "metadata": {},
   "outputs": [
    {
     "data": {
      "text/plain": [
       "False"
      ]
     },
     "execution_count": 18,
     "metadata": {},
     "output_type": "execute_result"
    }
   ],
   "source": [
    "check_even_list([1, 3, 5])"
   ]
  },
  {
   "cell_type": "code",
   "execution_count": 20,
   "id": "ad470ec7-3560-4939-8638-f590d5cfb867",
   "metadata": {},
   "outputs": [
    {
     "data": {
      "text/plain": [
       "True"
      ]
     },
     "execution_count": 20,
     "metadata": {},
     "output_type": "execute_result"
    }
   ],
   "source": [
    "check_even_list([1, 2, 5])"
   ]
  },
  {
   "cell_type": "code",
   "execution_count": 22,
   "id": "4f1df644-f303-4942-8c1f-0fa8321ca64e",
   "metadata": {},
   "outputs": [
    {
     "data": {
      "text/plain": [
       "True"
      ]
     },
     "execution_count": 22,
     "metadata": {},
     "output_type": "execute_result"
    }
   ],
   "source": [
    "check_even_list([2, 1, 5, 1, 1, 1])"
   ]
  },
  {
   "cell_type": "code",
   "execution_count": 24,
   "id": "5fd328f8-5080-4a09-9e38-9dfe9673cc03",
   "metadata": {},
   "outputs": [
    {
     "data": {
      "text/plain": [
       "True"
      ]
     },
     "execution_count": 24,
     "metadata": {},
     "output_type": "execute_result"
    }
   ],
   "source": [
    "check_even_list([1, 1, 5, 1, 1, 2])"
   ]
  },
  {
   "cell_type": "code",
   "execution_count": 25,
   "id": "16d8aa2e-79b1-4e87-9e04-a1293b2490d4",
   "metadata": {},
   "outputs": [
    {
     "name": "stdout",
     "output_type": "stream",
     "text": [
      "220.0\n",
      "352.0\n",
      "330.0\n"
     ]
    }
   ],
   "source": [
    "# Tuple unpacking with Python functions\n",
    "\n",
    "stock_prices = [('APPL', 200), ('MSFT', 320), ('GOOG', 300)]\n",
    "\n",
    "for ticker, price in stock_prices:\n",
    "    print(price + (0.1*price))"
   ]
  },
  {
   "cell_type": "code",
   "execution_count": 26,
   "id": "99e5241f-4de3-43e2-99cc-88197ad91766",
   "metadata": {},
   "outputs": [],
   "source": [
    "work_hours = [('Abby', 100), ('Jason', 300), ('Suzie', 400)]"
   ]
  },
  {
   "cell_type": "code",
   "execution_count": 30,
   "id": "81e22b3e-a0f8-4e3f-bbff-f5e1496aff21",
   "metadata": {},
   "outputs": [],
   "source": [
    "def emp_chk(work_hours):\n",
    "    current_max = 0\n",
    "    emp = ''\n",
    "\n",
    "    for curr_emp, hrs in work_hours:\n",
    "        if(hrs > current_max):\n",
    "            emp = curr_emp\n",
    "            current_max = hrs\n",
    "        else:\n",
    "            pass\n",
    "    return (emp, current_max)"
   ]
  },
  {
   "cell_type": "code",
   "execution_count": 31,
   "id": "d5d87585-79eb-401b-89fa-6cc62cc6d96a",
   "metadata": {},
   "outputs": [
    {
     "name": "stdout",
     "output_type": "stream",
     "text": [
      "('Suzie', 400)\n"
     ]
    }
   ],
   "source": [
    "print(emp_chk(work_hours))"
   ]
  },
  {
   "cell_type": "code",
   "execution_count": 1,
   "id": "c0574638-455b-46af-be4d-2411f89d79c9",
   "metadata": {},
   "outputs": [
    {
     "name": "stdout",
     "output_type": "stream",
     "text": [
      "[' ', 'O', ' ']\n",
      "[' ', ' ', 'O']\n"
     ]
    }
   ],
   "source": [
    "# interacting between functions in Python\n",
    "# understand it with a small game\n",
    "from random import shuffle\n",
    "\n",
    "og_list = [' ','O',' ']\n",
    "\n",
    "def shuffle_list(mylist):\n",
    "    shuffle(mylist)\n",
    "    return mylist\n",
    "\n",
    "print(og_list)\n",
    "print(shuffle_list(og_list))\n"
   ]
  },
  {
   "cell_type": "code",
   "execution_count": 2,
   "id": "90d8556d-0a93-42c9-9d23-6e772a3fed3f",
   "metadata": {},
   "outputs": [],
   "source": [
    "def player_guess():\n",
    "    guess = ''\n",
    "    while guess not in ['0','1','2']:\n",
    "        guess = input(\"Enter a number from 0, 1, 2\")\n",
    "    return int(guess)"
   ]
  },
  {
   "cell_type": "code",
   "execution_count": 3,
   "id": "e1dd3fac-d537-4c40-a4ec-067ba3357b1b",
   "metadata": {},
   "outputs": [],
   "source": [
    "def check_guess(mylist, guess):\n",
    "    if mylist[guess] == 'O':\n",
    "        print(\"You won!\")\n",
    "    else:\n",
    "        print(\"Better luck next time\")\n",
    "        print(mylist)"
   ]
  },
  {
   "cell_type": "code",
   "execution_count": 4,
   "id": "537fdd0c-fe64-4a3e-a9d7-72a6f6652d75",
   "metadata": {},
   "outputs": [
    {
     "name": "stdin",
     "output_type": "stream",
     "text": [
      "Enter a number from 0, 1, 2 1\n"
     ]
    },
    {
     "name": "stdout",
     "output_type": "stream",
     "text": [
      "Better luck next time\n",
      "['O', ' ', ' ']\n"
     ]
    }
   ],
   "source": [
    "og_list = [' ','O',' ']\n",
    "\n",
    "shuffled_list = shuffle_list(og_list)\n",
    "\n",
    "guess = player_guess()\n",
    "\n",
    "check_guess(shuffled_list, guess)"
   ]
  },
  {
   "cell_type": "code",
   "execution_count": 7,
   "id": "a9be60ce-bc47-4e5f-8ab7-f42911f75ae4",
   "metadata": {},
   "outputs": [],
   "source": [
    "# *args and **kwargs\n",
    "\n",
    "def func(a,b,c=0,d=0):\n",
    "    return sum(a,b,c,d) * 0.05\n",
    "\n",
    "# in above funtion we can only pass 2 to 4 args\n",
    "# what if we want to pass more args => use kwargs\n",
    "\n",
    "# example *args\n",
    "def func(*args):\n",
    "    return sum(args) * 0.05"
   ]
  },
  {
   "cell_type": "code",
   "execution_count": 10,
   "id": "c50942d3-50fc-4046-9ae3-3c7a1623c262",
   "metadata": {},
   "outputs": [
    {
     "name": "stdout",
     "output_type": "stream",
     "text": [
      "{'fruit': 'apple', 'vaggie': 'cabbage'}\n"
     ]
    }
   ],
   "source": [
    "# example **kwargs\n",
    "\n",
    "def func(**kwargs):\n",
    "    print(kwargs)\n",
    "\n",
    "func(fruit='apple', vaggie='cabbage')"
   ]
  },
  {
   "cell_type": "code",
   "execution_count": 18,
   "id": "c164f6be-89c1-4ae9-a4e2-1f25f7797945",
   "metadata": {},
   "outputs": [
    {
     "name": "stdout",
     "output_type": "stream",
     "text": [
      "[1, 4, 9, 16, 25]\n",
      "['EVEN', 'S', 'EVEN', 'J']\n"
     ]
    }
   ],
   "source": [
    "# lamda expression and map, filter in Python\n",
    "\n",
    "# map => maps every item of an iterable to a function\n",
    "# example\n",
    "def square(num):\n",
    "    return num**2\n",
    "\n",
    "print(list(map(square, [1,2,3,4,5])))\n",
    "\n",
    "#example 2\n",
    "def splicer(string):\n",
    "    if len(string)%2==0:\n",
    "        return \"EVEN\"\n",
    "    else:\n",
    "        return string[0]\n",
    "\n",
    "print(list(map(splicer, ['Andy', 'Suzie', 'John', 'Josep'])))"
   ]
  },
  {
   "cell_type": "code",
   "execution_count": 19,
   "id": "6660a428-dc4f-4ac8-97b3-4cfa27c7a58b",
   "metadata": {},
   "outputs": [
    {
     "name": "stdout",
     "output_type": "stream",
     "text": [
      "[1, 3, 5, 7]\n"
     ]
    }
   ],
   "source": [
    "# filter => filter out an item according to function conditipon from an iterable\n",
    "\n",
    "# example\n",
    "def check_odd(num):\n",
    "    return num%2!=0\n",
    "\n",
    "print(list(filter(check_odd, [1,2,3,4,5,6,7])))"
   ]
  },
  {
   "cell_type": "code",
   "execution_count": 22,
   "id": "4cd006a4-3f09-463c-bec6-b22edfeab97f",
   "metadata": {},
   "outputs": [
    {
     "name": "stdout",
     "output_type": "stream",
     "text": [
      "25\n",
      "25\n"
     ]
    }
   ],
   "source": [
    "# lamda exp => easy one line annonymous funcrions, used when we want to call or execute a function only one or couple of times\n",
    "# example:\n",
    "def square(num):\n",
    "    return num ** 2\n",
    "print(square(5))\n",
    "# instead \n",
    "square = lambda num: num ** 2\n",
    "print(square(5))"
   ]
  },
  {
   "cell_type": "code",
   "execution_count": 23,
   "id": "74aff598-4fa6-477c-a245-a81c1a1bfca5",
   "metadata": {},
   "outputs": [],
   "source": [
    "# Nested statements and scope\n",
    "\n",
    "## Remember LEGB rule for that\n",
    "# L => Local scope\n",
    "# E => Enclosing function locals\n",
    "# G => Global (module)\n",
    "# B => Built-in namespace\n",
    "\n",
    "# example\n",
    "\n",
    "# Global\n",
    "name = \"This is a global default name\"\n",
    "def greet():\n",
    "    # local for greet and enclosing local for hello\n",
    "    name = \"Karan\"\n",
    "    print(name)\n",
    "\n",
    "    def hello():\n",
    "        # local for hello\n",
    "        name = \"Joshi\"\n",
    "        print(name)\n",
    "    hello()"
   ]
  },
  {
   "cell_type": "code",
   "execution_count": 25,
   "id": "7635466f-7d48-4893-ba7f-783cd1ea266e",
   "metadata": {},
   "outputs": [
    {
     "name": "stdout",
     "output_type": "stream",
     "text": [
      "Karan\n",
      "Joshi\n"
     ]
    },
    {
     "data": {
      "text/plain": [
       "'This is a global default name'"
      ]
     },
     "execution_count": 25,
     "metadata": {},
     "output_type": "execute_result"
    }
   ],
   "source": [
    "greet()\n",
    "name"
   ]
  },
  {
   "cell_type": "code",
   "execution_count": 36,
   "id": "aef5128d-11e4-4e1d-bea8-f098b187e5d0",
   "metadata": {},
   "outputs": [],
   "source": [
    "# global keyword => to access global variables in local function scope\n",
    "x = 45\n",
    "def myfunc():\n",
    "    global x\n",
    "    print(f\"X is {x}\")\n",
    "\n",
    "    x = 245\n",
    "    print(f\"Re-assigned Global X is {x}\")\n",
    "    "
   ]
  },
  {
   "cell_type": "code",
   "execution_count": 37,
   "id": "32580554-1deb-4a78-a35c-7ee19a6e183f",
   "metadata": {},
   "outputs": [
    {
     "name": "stdout",
     "output_type": "stream",
     "text": [
      "X is 45\n",
      "Re-assigned Global X is 245\n"
     ]
    }
   ],
   "source": [
    "myfunc()"
   ]
  },
  {
   "cell_type": "code",
   "execution_count": null,
   "id": "7b75210f-9c5d-4a71-937d-60cf4ffd9d9d",
   "metadata": {},
   "outputs": [],
   "source": []
  }
 ],
 "metadata": {
  "kernelspec": {
   "display_name": "Python 3 (ipykernel)",
   "language": "python",
   "name": "python3"
  },
  "language_info": {
   "codemirror_mode": {
    "name": "ipython",
    "version": 3
   },
   "file_extension": ".py",
   "mimetype": "text/x-python",
   "name": "python",
   "nbconvert_exporter": "python",
   "pygments_lexer": "ipython3",
   "version": "3.12.7"
  }
 },
 "nbformat": 4,
 "nbformat_minor": 5
}
