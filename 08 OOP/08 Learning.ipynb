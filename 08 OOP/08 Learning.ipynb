{
 "cells": [
  {
   "cell_type": "raw",
   "id": "4e6d03dc-0dd1-49e2-a2ae-457f5f0675d0",
   "metadata": {},
   "source": [
    "OOP => Object Oriented Programming\n",
    "Allows users/programmers to create their own object and methods by which they can change object or their properties"
   ]
  },
  {
   "cell_type": "raw",
   "id": "441a5a96-4d34-47eb-81f1-34ee4bbb4b72",
   "metadata": {},
   "source": [
    "Syntax:\n",
    "\n",
    "class NameOfClass:\n",
    "    def __init__(self, param1, param2, ...):\n",
    "        self.param1 = param1\n",
    "        self.param2 = param2\n",
    "        ......\n",
    "\n",
    "    def some_method(self):\n",
    "        # code logic for execution"
   ]
  },
  {
   "cell_type": "code",
   "execution_count": 2,
   "id": "c083b381-e004-4619-9c96-764bb1206be2",
   "metadata": {},
   "outputs": [
    {
     "data": {
      "text/plain": [
       "__main__.Sample"
      ]
     },
     "execution_count": 2,
     "metadata": {},
     "output_type": "execute_result"
    }
   ],
   "source": [
    "# class keywod and attributes\n",
    "\n",
    "class Sample():\n",
    "    pass\n",
    "\n",
    "my_sample = Sample()\n",
    "type(my_sample)"
   ]
  },
  {
   "cell_type": "code",
   "execution_count": 3,
   "id": "ce5c4a5c-64da-4d2f-8b29-1bc2098339aa",
   "metadata": {},
   "outputs": [
    {
     "data": {
      "text/plain": [
       "'palm'"
      ]
     },
     "execution_count": 3,
     "metadata": {},
     "output_type": "execute_result"
    }
   ],
   "source": [
    "# example with attribute\n",
    "\n",
    "class Dog():\n",
    "\n",
    "    #  constructor => to initialize object with or without some default values\n",
    "    def __init__(self, breed):\n",
    "        self.breed = breed\n",
    "\n",
    "# my_dog = Dog() # Gives error\n",
    "my_dog = Dog('palm')\n",
    "\n",
    "my_dog.breed"
   ]
  },
  {
   "cell_type": "code",
   "execution_count": 4,
   "id": "89088fbd-2f11-4a89-9479-19cbdda14593",
   "metadata": {},
   "outputs": [],
   "source": [
    "class Dog():\n",
    "    # Class Object Attribute\n",
    "    # Sam for any instance of a class\n",
    "    species = \"mammal\"\n",
    "    def __init__(self, breed, name):\n",
    "        self.breed = breed\n",
    "        self.name = name\n",
    "\n",
    "my_dog = Dog(breed=\"palm\", name=\"coco\")"
   ]
  },
  {
   "cell_type": "code",
   "execution_count": 5,
   "id": "3ddaa725-a06c-4428-ba29-1d6d11189a78",
   "metadata": {},
   "outputs": [
    {
     "data": {
      "text/plain": [
       "'mammal'"
      ]
     },
     "execution_count": 5,
     "metadata": {},
     "output_type": "execute_result"
    }
   ],
   "source": [
    "my_dog.species"
   ]
  },
  {
   "cell_type": "code",
   "execution_count": 7,
   "id": "281fb6be-4ed4-456b-bba6-a678e32d714f",
   "metadata": {},
   "outputs": [
    {
     "name": "stdout",
     "output_type": "stream",
     "text": [
      "Meow! I'm Charmie\n"
     ]
    }
   ],
   "source": [
    "# methods => functions defined in class definition and useful for providing functionalities and operatios on objects\n",
    "\n",
    "class Cat():\n",
    "    species = \"mammal\"\n",
    "    def __init__(self, breed, name):\n",
    "        self.breed = breed\n",
    "        self.name = name\n",
    "    def speak(self):\n",
    "        print(f\"Meow! I'm {self.name}\")\n",
    "\n",
    "my_cat = Cat(breed=\"palm\", name=\"Charmie\")\n",
    "my_cat.speak()"
   ]
  },
  {
   "cell_type": "code",
   "execution_count": 18,
   "id": "917998b4-6945-486a-9637-e8248e9b38d3",
   "metadata": {},
   "outputs": [],
   "source": [
    "# basic of methods with one example\n",
    "\n",
    "class Circle():\n",
    "    # CLASS OBJECT ATTRIBUTE\n",
    "    PI = 3.14\n",
    "\n",
    "    def __init__(self, radius=1.248):\n",
    "        self.radius = radius\n",
    "\n",
    "    def get_circumference(self):\n",
    "        return 2*Circle.PI*self.radius\n",
    "\n",
    "    def get_area(self):\n",
    "        return (Circle.PI*(self.radius**2))"
   ]
  },
  {
   "cell_type": "code",
   "execution_count": 19,
   "id": "ba49160e-64de-44eb-bf05-49803ab20611",
   "metadata": {},
   "outputs": [
    {
     "data": {
      "text/plain": [
       "7.83744"
      ]
     },
     "execution_count": 19,
     "metadata": {},
     "output_type": "execute_result"
    }
   ],
   "source": [
    "my_circle1 = Circle()\n",
    "\n",
    "my_circle1.get_circumference()"
   ]
  },
  {
   "cell_type": "code",
   "execution_count": 20,
   "id": "ed714f87-32e8-49fc-8c0d-7f078d6c7be4",
   "metadata": {},
   "outputs": [
    {
     "data": {
      "text/plain": [
       "4.89056256"
      ]
     },
     "execution_count": 20,
     "metadata": {},
     "output_type": "execute_result"
    }
   ],
   "source": [
    "my_circle1.get_area()"
   ]
  },
  {
   "cell_type": "raw",
   "id": "99cfeaec-3f29-49a1-b3ed-2b457c6d028f",
   "metadata": {},
   "source": [
    "Inheritance and Polymorphism\n",
    "\n",
    "Inheritance => Ability to derive properties from parent\n",
    "               Mainly used for reusability\n",
    "               We can use code, methods or attributes from other classes\n",
    "\n",
    "Polymorphism => Ability of methods to take more than one form\n",
    "                "
   ]
  },
  {
   "cell_type": "code",
   "execution_count": 35,
   "id": "dfc119dd-5945-40e2-8d44-1899a499508f",
   "metadata": {},
   "outputs": [],
   "source": [
    "# INHERITANCE\n",
    "# SYNTAX: \n",
    "#       class DerivedClass(ParrentClass):\n",
    "\n",
    "# example\n",
    "class Animal():\n",
    "    def __init__(self):\n",
    "        print(\"Animal Object Created\")\n",
    "    def who_am_i(self):\n",
    "        print(\"I am an animal\")\n",
    "    def eat(self):\n",
    "        print(\"I am eating\")\n",
    "\n",
    "class Dog(Animal):\n",
    "    def __init__(self):\n",
    "        # Animal.__init__(self)\n",
    "        print(\"Dog created\")\n",
    "        self.eat()\n",
    "    def bark(self):\n",
    "        print(\"Bhow/ Woof!\")\n",
    "    def eat(self):\n",
    "        print(\"I am dog and eating\")"
   ]
  },
  {
   "cell_type": "code",
   "execution_count": 36,
   "id": "76fe4694-592a-4251-aa91-b6e48d33a99b",
   "metadata": {},
   "outputs": [
    {
     "name": "stdout",
     "output_type": "stream",
     "text": [
      "Dog created\n",
      "I am dog and eating\n"
     ]
    }
   ],
   "source": [
    "my_dog = Dog()"
   ]
  },
  {
   "cell_type": "code",
   "execution_count": 37,
   "id": "6f136584-df1a-4ad4-b311-d7a93cc48593",
   "metadata": {},
   "outputs": [
    {
     "name": "stdout",
     "output_type": "stream",
     "text": [
      "I am dog and eating\n"
     ]
    }
   ],
   "source": [
    "my_dog.eat()"
   ]
  },
  {
   "cell_type": "code",
   "execution_count": 38,
   "id": "17aa604b-6282-4bff-a306-7505ed461002",
   "metadata": {},
   "outputs": [
    {
     "name": "stdout",
     "output_type": "stream",
     "text": [
      "Bhow/ Woof!\n"
     ]
    }
   ],
   "source": [
    "my_dog.bark()"
   ]
  },
  {
   "cell_type": "code",
   "execution_count": 1,
   "id": "5d498354-f488-4805-9df9-d49ba0244492",
   "metadata": {},
   "outputs": [],
   "source": [
    "# Polymorphism\n",
    "\n",
    "# 2 types => 1. Method Overloading and 2. Method Overriding\n"
   ]
  },
  {
   "cell_type": "code",
   "execution_count": 9,
   "id": "2ac665f6-b6a2-4512-83c8-08ffa4034e0f",
   "metadata": {},
   "outputs": [
    {
     "data": {
      "text/plain": [
       "<__main__.Sample at 0x24d8dd7f680>"
      ]
     },
     "execution_count": 9,
     "metadata": {},
     "output_type": "execute_result"
    }
   ],
   "source": [
    "# special methods / dunder methods : methods provided by Python to use over our own classes and objeccts\n",
    "\n",
    "# example\n",
    "class Sample():\n",
    "    pass\n",
    "\n",
    "mysample = Sample()\n",
    "mysample"
   ]
  },
  {
   "cell_type": "code",
   "execution_count": 10,
   "id": "1d6664b5-fd78-4e9b-af16-a5d2609a0373",
   "metadata": {},
   "outputs": [],
   "source": [
    "class Sample():\n",
    "    def __init__(self, name):\n",
    "        self.name = name\n",
    "\n",
    "mysample = Sample(name=\"Karan\")"
   ]
  },
  {
   "cell_type": "code",
   "execution_count": 21,
   "id": "697a3881-8e66-4fe8-ac12-d5d385351fc7",
   "metadata": {},
   "outputs": [],
   "source": [
    "# syntax:\n",
    "# def __method_name__(self, param1, param2, ....):\n",
    "\n",
    "# example:\n",
    "class Book():\n",
    "    def __init__(self, title, author, price, pages):\n",
    "        self.title = title\n",
    "        self.author = author\n",
    "        self.price = price\n",
    "        self.pages  = pages\n",
    "\n",
    "    def __str__(self):\n",
    "        return f\"{self.title} by {self.author} can be sold at {self.price}\"\n",
    "\n",
    "    def __len__(self):\n",
    "        return self.pages\n",
    "\n",
    "    def __del__(self):\n",
    "        print(f\"{self.title} is deleted\")"
   ]
  },
  {
   "cell_type": "code",
   "execution_count": 22,
   "id": "dc1feb14-1bcf-4192-a3bb-2b1a79aa31c7",
   "metadata": {},
   "outputs": [],
   "source": [
    "atomic_habits = Book(\"Atomic Habits\", \"Mr. XYZ\", 400, 300)"
   ]
  },
  {
   "cell_type": "code",
   "execution_count": 23,
   "id": "41e3546f-0090-463e-a1cd-5dbb690a1a79",
   "metadata": {},
   "outputs": [
    {
     "name": "stdout",
     "output_type": "stream",
     "text": [
      "Atomic Habits by Mr. XYZ can be sold at 400\n"
     ]
    }
   ],
   "source": [
    "print(atomic_habits)"
   ]
  },
  {
   "cell_type": "code",
   "execution_count": 24,
   "id": "ea8b1417-ec3c-494e-ad18-580f51b71068",
   "metadata": {},
   "outputs": [
    {
     "data": {
      "text/plain": [
       "'Atomic Habits by Mr. XYZ can be sold at 400'"
      ]
     },
     "execution_count": 24,
     "metadata": {},
     "output_type": "execute_result"
    }
   ],
   "source": [
    "str(atomic_habits)"
   ]
  },
  {
   "cell_type": "code",
   "execution_count": 25,
   "id": "3e19dc15-6017-40ac-88cd-7cec425c809c",
   "metadata": {},
   "outputs": [
    {
     "data": {
      "text/plain": [
       "300"
      ]
     },
     "execution_count": 25,
     "metadata": {},
     "output_type": "execute_result"
    }
   ],
   "source": [
    "len(atomic_habits)"
   ]
  },
  {
   "cell_type": "code",
   "execution_count": 26,
   "id": "4c63b704-56d9-4c3f-9dec-444fb45fa25b",
   "metadata": {},
   "outputs": [
    {
     "name": "stdout",
     "output_type": "stream",
     "text": [
      "Atomic Habits is deleted\n"
     ]
    }
   ],
   "source": [
    "del(atomic_habits)"
   ]
  },
  {
   "cell_type": "code",
   "execution_count": 27,
   "id": "b2210d4c-3f3d-49d8-8838-228b057bbe9e",
   "metadata": {},
   "outputs": [],
   "source": [
    "# we can consider magic methods as operator overloading in some cases\n",
    "\n",
    "# and we can't overload print() it's a built-in function.\n",
    "# however we can represent string of object using __str__ and __repr__\n",
    "# __str__ used to represent object user friendly\n",
    "# while __repr__ used to represent object formally \n",
    "# note that if __str__ is not present Python will look for __repr__"
   ]
  },
  {
   "cell_type": "code",
   "execution_count": null,
   "id": "331f8487-5530-4695-b039-ccea4981a3fc",
   "metadata": {},
   "outputs": [],
   "source": []
  },
  {
   "cell_type": "code",
   "execution_count": null,
   "id": "db4c60d2-855d-4775-b077-ad039fae1e5a",
   "metadata": {},
   "outputs": [],
   "source": []
  }
 ],
 "metadata": {
  "kernelspec": {
   "display_name": "Python 3 (ipykernel)",
   "language": "python",
   "name": "python3"
  },
  "language_info": {
   "codemirror_mode": {
    "name": "ipython",
    "version": 3
   },
   "file_extension": ".py",
   "mimetype": "text/x-python",
   "name": "python",
   "nbconvert_exporter": "python",
   "pygments_lexer": "ipython3",
   "version": "3.12.7"
  }
 },
 "nbformat": 4,
 "nbformat_minor": 5
}
