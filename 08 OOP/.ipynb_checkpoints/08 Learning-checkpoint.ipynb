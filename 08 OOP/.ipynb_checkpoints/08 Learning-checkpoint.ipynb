{
 "cells": [
  {
   "cell_type": "raw",
   "id": "4e6d03dc-0dd1-49e2-a2ae-457f5f0675d0",
   "metadata": {},
   "source": [
    "OOP => Object Oriented Programming\n",
    "Allows users/programmers to create their own object and methods by which they can change object or their properties"
   ]
  },
  {
   "cell_type": "raw",
   "id": "441a5a96-4d34-47eb-81f1-34ee4bbb4b72",
   "metadata": {},
   "source": [
    "Syntax:\n",
    "\n",
    "class NameOfClass:\n",
    "    def __init__(self, param1, param2, ...):\n",
    "        self.param1 = param1\n",
    "        self.param2 = param2\n",
    "        ......\n",
    "\n",
    "    def some_method(self):\n",
    "        # code logic for execution"
   ]
  },
  {
   "cell_type": "code",
   "execution_count": 2,
   "id": "c083b381-e004-4619-9c96-764bb1206be2",
   "metadata": {},
   "outputs": [
    {
     "data": {
      "text/plain": [
       "__main__.Sample"
      ]
     },
     "execution_count": 2,
     "metadata": {},
     "output_type": "execute_result"
    }
   ],
   "source": [
    "# class keywod and attributes\n",
    "\n",
    "class Sample():\n",
    "    pass\n",
    "\n",
    "my_sample = Sample()\n",
    "type(my_sample)"
   ]
  },
  {
   "cell_type": "code",
   "execution_count": 3,
   "id": "ce5c4a5c-64da-4d2f-8b29-1bc2098339aa",
   "metadata": {},
   "outputs": [
    {
     "data": {
      "text/plain": [
       "'palm'"
      ]
     },
     "execution_count": 3,
     "metadata": {},
     "output_type": "execute_result"
    }
   ],
   "source": [
    "# example with attribute\n",
    "\n",
    "class Dog():\n",
    "\n",
    "    #  constructor => to initialize object with or without some default values\n",
    "    def __init__(self, breed):\n",
    "        self.breed = breed\n",
    "\n",
    "# my_dog = Dog() # Gives error\n",
    "my_dog = Dog('palm')\n",
    "\n",
    "my_dog.breed"
   ]
  },
  {
   "cell_type": "code",
   "execution_count": 4,
   "id": "89088fbd-2f11-4a89-9479-19cbdda14593",
   "metadata": {},
   "outputs": [],
   "source": [
    "class Dog():\n",
    "    # Class Object Attribute\n",
    "    # Sam for any instance of a class\n",
    "    species = \"mammal\"\n",
    "    def __init__(self, breed, name):\n",
    "        self.breed = breed\n",
    "        self.name = name\n",
    "\n",
    "my_dog = Dog(breed=\"palm\", name=\"coco\")"
   ]
  },
  {
   "cell_type": "code",
   "execution_count": 5,
   "id": "3ddaa725-a06c-4428-ba29-1d6d11189a78",
   "metadata": {},
   "outputs": [
    {
     "data": {
      "text/plain": [
       "'mammal'"
      ]
     },
     "execution_count": 5,
     "metadata": {},
     "output_type": "execute_result"
    }
   ],
   "source": [
    "my_dog.species"
   ]
  },
  {
   "cell_type": "code",
   "execution_count": 7,
   "id": "281fb6be-4ed4-456b-bba6-a678e32d714f",
   "metadata": {},
   "outputs": [
    {
     "name": "stdout",
     "output_type": "stream",
     "text": [
      "Meow! I'm Charmie\n"
     ]
    }
   ],
   "source": [
    "# methods => functions defined in class definition and useful for providing functionalities and operatios on objects\n",
    "\n",
    "class Cat():\n",
    "    species = \"mammal\"\n",
    "    def __init__(self, breed, name):\n",
    "        self.breed = breed\n",
    "        self.name = name\n",
    "    def speak(self):\n",
    "        print(f\"Meow! I'm {self.name}\")\n",
    "\n",
    "my_cat = Cat(breed=\"palm\", name=\"Charmie\")\n",
    "my_cat.speak()"
   ]
  },
  {
   "cell_type": "code",
   "execution_count": 18,
   "id": "917998b4-6945-486a-9637-e8248e9b38d3",
   "metadata": {},
   "outputs": [],
   "source": [
    "# basic of methods with one example\n",
    "\n",
    "class Circle():\n",
    "    # CLASS OBJECT ATTRIBUTE\n",
    "    PI = 3.14\n",
    "\n",
    "    def __init__(self, radius=1.248):\n",
    "        self.radius = radius\n",
    "\n",
    "    def get_circumference(self):\n",
    "        return 2*Circle.PI*self.radius\n",
    "\n",
    "    def get_area(self):\n",
    "        return (Circle.PI*(self.radius**2))"
   ]
  },
  {
   "cell_type": "code",
   "execution_count": 19,
   "id": "ba49160e-64de-44eb-bf05-49803ab20611",
   "metadata": {},
   "outputs": [
    {
     "data": {
      "text/plain": [
       "7.83744"
      ]
     },
     "execution_count": 19,
     "metadata": {},
     "output_type": "execute_result"
    }
   ],
   "source": [
    "my_circle1 = Circle()\n",
    "\n",
    "my_circle1.get_circumference()"
   ]
  },
  {
   "cell_type": "code",
   "execution_count": 20,
   "id": "ed714f87-32e8-49fc-8c0d-7f078d6c7be4",
   "metadata": {},
   "outputs": [
    {
     "data": {
      "text/plain": [
       "4.89056256"
      ]
     },
     "execution_count": 20,
     "metadata": {},
     "output_type": "execute_result"
    }
   ],
   "source": [
    "my_circle1.get_area()"
   ]
  },
  {
   "cell_type": "raw",
   "id": "99cfeaec-3f29-49a1-b3ed-2b457c6d028f",
   "metadata": {},
   "source": [
    "Inheritance and Polymorphism\n",
    "\n",
    "Inheritance => Ability to derive properties from parent\n",
    "               Mainly used for reusability\n",
    "               We can use code, methods or attributes from other classes\n",
    "\n",
    "Polymorphism => Ability of methods to take more than one form\n",
    "                "
   ]
  },
  {
   "cell_type": "code",
   "execution_count": 22,
   "id": "dfc119dd-5945-40e2-8d44-1899a499508f",
   "metadata": {},
   "outputs": [],
   "source": [
    "# INHERITANCE\n",
    "# SYNTAX: \n",
    "#       class DerivedClass(ParrentClass):\n",
    "\n",
    "# example\n",
    "class Animal():\n",
    "    def __init__(self):\n",
    "        print(\"Animal Object Created\")\n",
    "    def who_am_i(self):\n",
    "        print(\"I am an animal\")\n",
    "    def eat(self):\n",
    "        print(\"I am eating\")\n",
    "\n",
    "class Dog(Animal):\n",
    "    def __init__(self):\n",
    "        # Animal.__init__(self)\n",
    "        print(\"Dog created\")\n",
    "    "
   ]
  },
  {
   "cell_type": "code",
   "execution_count": 23,
   "id": "76fe4694-592a-4251-aa91-b6e48d33a99b",
   "metadata": {},
   "outputs": [
    {
     "name": "stdout",
     "output_type": "stream",
     "text": [
      "Animal Object Created\n",
      "Dog created\n"
     ]
    }
   ],
   "source": [
    "my_dog = Dog()"
   ]
  },
  {
   "cell_type": "code",
   "execution_count": null,
   "id": "99ef0011-c162-4cca-9c68-67dd97958434",
   "metadata": {},
   "outputs": [],
   "source": []
  }
 ],
 "metadata": {
  "kernelspec": {
   "display_name": "Python 3 (ipykernel)",
   "language": "python",
   "name": "python3"
  },
  "language_info": {
   "codemirror_mode": {
    "name": "ipython",
    "version": 3
   },
   "file_extension": ".py",
   "mimetype": "text/x-python",
   "name": "python",
   "nbconvert_exporter": "python",
   "pygments_lexer": "ipython3",
   "version": "3.12.7"
  }
 },
 "nbformat": 4,
 "nbformat_minor": 5
}
