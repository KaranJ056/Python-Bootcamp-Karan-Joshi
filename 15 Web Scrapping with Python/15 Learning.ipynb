{
 "cells": [
  {
   "cell_type": "markdown",
   "id": "c01c3def-da5b-4104-9a46-65e3eea1c245",
   "metadata": {},
   "source": [
    "### Web Scrapping with Python\n",
    "\n",
    "It refers automating gathering of data from web sources.\n",
    "\n",
    "#### Main things to remember:\n",
    "<code>\n",
    "        1. Rules of Web Scraping\n",
    "        2. Limitations of Web Scarping\n",
    "        3. Basics of HTML and CSS\n",
    "<code>"
   ]
  },
  {
   "cell_type": "code",
   "execution_count": null,
   "id": "dba8fcf1-8ede-4d41-b26f-dbbedc0bc134",
   "metadata": {},
   "outputs": [],
   "source": []
  }
 ],
 "metadata": {
  "kernelspec": {
   "display_name": "Python 3 (ipykernel)",
   "language": "python",
   "name": "python3"
  },
  "language_info": {
   "codemirror_mode": {
    "name": "ipython",
    "version": 3
   },
   "file_extension": ".py",
   "mimetype": "text/x-python",
   "name": "python",
   "nbconvert_exporter": "python",
   "pygments_lexer": "ipython3",
   "version": "3.12.7"
  }
 },
 "nbformat": 4,
 "nbformat_minor": 5
}
