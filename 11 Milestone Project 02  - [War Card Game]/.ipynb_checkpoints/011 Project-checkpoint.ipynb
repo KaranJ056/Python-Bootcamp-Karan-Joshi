{
 "cells": [
  {
   "cell_type": "code",
   "execution_count": 1,
   "id": "4becf4d6-214d-4b4d-902e-6963e7927d73",
   "metadata": {},
   "outputs": [],
   "source": [
    "# Caed class:\n",
    "# should have suit, rank, value\n",
    "import random\n",
    "\n",
    "suits = ('Hearts', 'Diamonds', 'Spades', 'Clubs')\n",
    "ranks = ('Two', 'Three', 'Four', 'Five', 'Six', 'Seven', 'Eight', 'Nine', 'Ten', 'Jack', 'Queen', 'King', 'Ace')\n",
    "values = {'Two':2, 'Three':3, 'Four':4, 'Five':5, 'Six':6, 'Seven':7, 'Eight':8, 'Nine':9, 'Ten':10, 'Jack':11, 'Queen':12, 'King':13, 'Ace':14}"
   ]
  },
  {
   "cell_type": "code",
   "execution_count": 2,
   "id": "ee208282-60eb-49c9-9b7a-3f54ab4692e9",
   "metadata": {},
   "outputs": [],
   "source": [
    "# class Card: # can be used if we don't have any inheritance\n",
    "class Card():\n",
    "\n",
    "    def __init__(self, suit, rank):\n",
    "        self.suit = suit\n",
    "        self.rank = rank\n",
    "        self.value = values[rank]\n",
    "\n",
    "    def __str__(self):\n",
    "        return f\"{self.rank} of {self.suit}\""
   ]
  },
  {
   "cell_type": "code",
   "execution_count": 3,
   "id": "4319645e-cbae-47a5-9a98-511c36a5e6d0",
   "metadata": {},
   "outputs": [],
   "source": [
    "two_of_hearts = Card(\"Hearts\", \"Two\")"
   ]
  },
  {
   "cell_type": "code",
   "execution_count": 4,
   "id": "7c175c1e-c8c2-41aa-9055-1af3f0c33c27",
   "metadata": {},
   "outputs": [
    {
     "name": "stdout",
     "output_type": "stream",
     "text": [
      "Two of Hearts\n"
     ]
    }
   ],
   "source": [
    "print(two_of_hearts)"
   ]
  },
  {
   "cell_type": "raw",
   "id": "55701900-f017-49c5-85e3-e9b9090dac3f",
   "metadata": {},
   "source": [
    "# Deckk Class\n",
    "\n",
    "# requirements:\n",
    "    => on __init__\n",
    "        create all 52 card combination\n",
    "        store them as a list of Card objects\n",
    "    => shiffle deck through method call\n",
    "    => deal/pop card from the deck"
   ]
  },
  {
   "cell_type": "code",
   "execution_count": 5,
   "id": "43d7922e-ec73-4a7b-8aab-0fdb1c4b11b5",
   "metadata": {},
   "outputs": [],
   "source": [
    "class Deck:\n",
    "    def __init__(self):\n",
    "        self.all_cards = []\n",
    "        for suit in suits:\n",
    "            for rank in ranks:\n",
    "                new_card = Card(suit, rank)\n",
    "                self.all_cards.append(new_card)\n",
    "\n",
    "    def shuffle_deck(self):\n",
    "        random.shuffle(self.all_cards)\n",
    "\n",
    "    def deal_one(self):\n",
    "        return self.all_cards.pop()"
   ]
  },
  {
   "cell_type": "code",
   "execution_count": 6,
   "id": "3f0a9160-f9c8-4f5d-976f-ece83fd0d70f",
   "metadata": {},
   "outputs": [],
   "source": [
    "new_deck = Deck()"
   ]
  },
  {
   "cell_type": "code",
   "execution_count": 7,
   "id": "00f98591-a160-474b-bce4-dd12fee4886e",
   "metadata": {
    "scrolled": true
   },
   "outputs": [
    {
     "data": {
      "text/plain": [
       "[<__main__.Card at 0x2de98e59310>,\n",
       " <__main__.Card at 0x2de98e3fc80>,\n",
       " <__main__.Card at 0x2de98e588f0>,\n",
       " <__main__.Card at 0x2de98e581d0>,\n",
       " <__main__.Card at 0x2de98e58f80>,\n",
       " <__main__.Card at 0x2de98e58110>,\n",
       " <__main__.Card at 0x2de98e58c20>,\n",
       " <__main__.Card at 0x2de98e589b0>,\n",
       " <__main__.Card at 0x2de98e58f50>,\n",
       " <__main__.Card at 0x2de98e58ec0>,\n",
       " <__main__.Card at 0x2de98e58b00>,\n",
       " <__main__.Card at 0x2de98e58e90>,\n",
       " <__main__.Card at 0x2de98e58cb0>,\n",
       " <__main__.Card at 0x2de98e58a40>,\n",
       " <__main__.Card at 0x2de98e58aa0>,\n",
       " <__main__.Card at 0x2de98e580b0>,\n",
       " <__main__.Card at 0x2de98e58140>,\n",
       " <__main__.Card at 0x2de98e58710>,\n",
       " <__main__.Card at 0x2de98e584d0>,\n",
       " <__main__.Card at 0x2de98e58350>,\n",
       " <__main__.Card at 0x2de98e58b90>,\n",
       " <__main__.Card at 0x2de98e59070>,\n",
       " <__main__.Card at 0x2de98e58bc0>,\n",
       " <__main__.Card at 0x2de98e58440>,\n",
       " <__main__.Card at 0x2de98e59280>,\n",
       " <__main__.Card at 0x2de98e585c0>,\n",
       " <__main__.Card at 0x2de98e58d40>,\n",
       " <__main__.Card at 0x2de98e58e60>,\n",
       " <__main__.Card at 0x2de98e59130>,\n",
       " <__main__.Card at 0x2de98e591f0>,\n",
       " <__main__.Card at 0x2de98e59370>,\n",
       " <__main__.Card at 0x2de98e59430>,\n",
       " <__main__.Card at 0x2de98e59490>,\n",
       " <__main__.Card at 0x2de98e594f0>,\n",
       " <__main__.Card at 0x2de98e59550>,\n",
       " <__main__.Card at 0x2de98e595b0>,\n",
       " <__main__.Card at 0x2de98e59610>,\n",
       " <__main__.Card at 0x2de98e59670>,\n",
       " <__main__.Card at 0x2de98e596d0>,\n",
       " <__main__.Card at 0x2de98e59730>,\n",
       " <__main__.Card at 0x2de98e59790>,\n",
       " <__main__.Card at 0x2de98e597f0>,\n",
       " <__main__.Card at 0x2de98e59850>,\n",
       " <__main__.Card at 0x2de98e598b0>,\n",
       " <__main__.Card at 0x2de98e59910>,\n",
       " <__main__.Card at 0x2de98e59970>,\n",
       " <__main__.Card at 0x2de98e599d0>,\n",
       " <__main__.Card at 0x2de98e59a30>,\n",
       " <__main__.Card at 0x2de98e59a90>,\n",
       " <__main__.Card at 0x2de98e59af0>,\n",
       " <__main__.Card at 0x2de98e59b50>,\n",
       " <__main__.Card at 0x2de98e59bb0>]"
      ]
     },
     "execution_count": 7,
     "metadata": {},
     "output_type": "execute_result"
    }
   ],
   "source": [
    "new_deck.all_cards"
   ]
  },
  {
   "cell_type": "code",
   "execution_count": 8,
   "id": "61cfe98b-86b6-4cef-ab75-3ee9e36d3d01",
   "metadata": {
    "scrolled": true
   },
   "outputs": [
    {
     "name": "stdout",
     "output_type": "stream",
     "text": [
      "Two of Hearts\n",
      "Three of Hearts\n",
      "Four of Hearts\n",
      "Five of Hearts\n",
      "Six of Hearts\n",
      "Seven of Hearts\n",
      "Eight of Hearts\n",
      "Nine of Hearts\n",
      "Ten of Hearts\n",
      "Jack of Hearts\n",
      "Queen of Hearts\n",
      "King of Hearts\n",
      "Ace of Hearts\n",
      "Two of Diamonds\n",
      "Three of Diamonds\n",
      "Four of Diamonds\n",
      "Five of Diamonds\n",
      "Six of Diamonds\n",
      "Seven of Diamonds\n",
      "Eight of Diamonds\n",
      "Nine of Diamonds\n",
      "Ten of Diamonds\n",
      "Jack of Diamonds\n",
      "Queen of Diamonds\n",
      "King of Diamonds\n",
      "Ace of Diamonds\n",
      "Two of Spades\n",
      "Three of Spades\n",
      "Four of Spades\n",
      "Five of Spades\n",
      "Six of Spades\n",
      "Seven of Spades\n",
      "Eight of Spades\n",
      "Nine of Spades\n",
      "Ten of Spades\n",
      "Jack of Spades\n",
      "Queen of Spades\n",
      "King of Spades\n",
      "Ace of Spades\n",
      "Two of Clubs\n",
      "Three of Clubs\n",
      "Four of Clubs\n",
      "Five of Clubs\n",
      "Six of Clubs\n",
      "Seven of Clubs\n",
      "Eight of Clubs\n",
      "Nine of Clubs\n",
      "Ten of Clubs\n",
      "Jack of Clubs\n",
      "Queen of Clubs\n",
      "King of Clubs\n",
      "Ace of Clubs\n"
     ]
    }
   ],
   "source": [
    "for card in new_deck.all_cards:\n",
    "    print(card)"
   ]
  },
  {
   "cell_type": "code",
   "execution_count": 9,
   "id": "44a051e3-6a95-43b5-9279-fcb3385ca35e",
   "metadata": {},
   "outputs": [],
   "source": [
    "new_deck.shuffle_deck()"
   ]
  },
  {
   "cell_type": "code",
   "execution_count": 10,
   "id": "263d1d54-2ca6-4ecf-a759-3ed5f84c3e66",
   "metadata": {
    "scrolled": true
   },
   "outputs": [
    {
     "name": "stdout",
     "output_type": "stream",
     "text": [
      "Nine of Hearts\n",
      "Six of Hearts\n",
      "Six of Diamonds\n",
      "Jack of Clubs\n",
      "Seven of Diamonds\n",
      "Six of Clubs\n",
      "Ace of Diamonds\n",
      "Queen of Hearts\n",
      "Five of Diamonds\n",
      "Eight of Hearts\n",
      "Eight of Clubs\n",
      "Two of Clubs\n",
      "Ten of Hearts\n",
      "King of Clubs\n",
      "Ten of Diamonds\n",
      "Ace of Clubs\n",
      "Two of Spades\n",
      "Three of Hearts\n",
      "Nine of Clubs\n",
      "King of Diamonds\n",
      "Six of Spades\n",
      "Ten of Clubs\n",
      "King of Spades\n",
      "Jack of Spades\n",
      "Three of Spades\n",
      "Jack of Hearts\n",
      "Four of Diamonds\n",
      "Nine of Diamonds\n",
      "Eight of Diamonds\n",
      "Three of Diamonds\n",
      "King of Hearts\n",
      "Five of Hearts\n",
      "Seven of Hearts\n",
      "Seven of Clubs\n",
      "Two of Diamonds\n",
      "Jack of Diamonds\n",
      "Three of Clubs\n",
      "Four of Clubs\n",
      "Four of Hearts\n",
      "Ace of Spades\n",
      "Ace of Hearts\n",
      "Nine of Spades\n",
      "Queen of Diamonds\n",
      "Eight of Spades\n",
      "Queen of Spades\n",
      "Queen of Clubs\n",
      "Seven of Spades\n",
      "Four of Spades\n",
      "Ten of Spades\n",
      "Five of Clubs\n",
      "Two of Hearts\n",
      "Five of Spades\n"
     ]
    }
   ],
   "source": [
    "for card in new_deck.all_cards:\n",
    "    print(card)"
   ]
  },
  {
   "cell_type": "code",
   "execution_count": 11,
   "id": "6af6e9b2-3a1c-4345-8418-da1e4468c8dd",
   "metadata": {},
   "outputs": [],
   "source": [
    "# print(new_deck.deal_one())"
   ]
  },
  {
   "cell_type": "code",
   "execution_count": null,
   "id": "b7f73a0c-4e21-4196-8ce2-65e259784a42",
   "metadata": {},
   "outputs": [],
   "source": []
  },
  {
   "cell_type": "code",
   "execution_count": 12,
   "id": "2ede08de-68da-48c0-ac8f-7ffd2ae1ef57",
   "metadata": {},
   "outputs": [],
   "source": [
    "# Player Class\n",
    "\n",
    "class Player:\n",
    "    def __init__(self, name):\n",
    "        self.name = name\n",
    "        self.all_cards = []\n",
    "\n",
    "    def __str__(self):\n",
    "        return f\"I'm Player {self.name} and I have {len(self.all_cards)} cards remaining\"\n",
    "\n",
    "    def remove_one(self):\n",
    "        return self.all_cards.pop(0)\n",
    "\n",
    "    def add_cards(self, new_cards):\n",
    "        if type(new_cards) == type([]):\n",
    "            self.all_cards.extend(new_cards)\n",
    "        else:\n",
    "            self.all_cards.append(new_cards)"
   ]
  },
  {
   "cell_type": "code",
   "execution_count": 13,
   "id": "8f7e2ac3-c1fa-4fbd-bffc-9ab07b3db0c8",
   "metadata": {},
   "outputs": [],
   "source": [
    "player1 = Player(\"Karan\")"
   ]
  },
  {
   "cell_type": "code",
   "execution_count": 14,
   "id": "97705630-6e7a-4055-9ecf-96b6905d7fe0",
   "metadata": {},
   "outputs": [
    {
     "name": "stdout",
     "output_type": "stream",
     "text": [
      "I'm Player Karan and I have 0 cards remaining\n"
     ]
    }
   ],
   "source": [
    "print(player1)"
   ]
  },
  {
   "cell_type": "code",
   "execution_count": 15,
   "id": "c95bd415-ab16-4251-9fcd-5de688afdefa",
   "metadata": {},
   "outputs": [
    {
     "name": "stdout",
     "output_type": "stream",
     "text": [
      "Eight of Diamonds\n"
     ]
    }
   ],
   "source": [
    "mycard = Card(\"Diamonds\", \"Eight\")\n",
    "print(mycard)"
   ]
  },
  {
   "cell_type": "code",
   "execution_count": 16,
   "id": "ee9d227b-200f-4fee-9327-caee613ec717",
   "metadata": {},
   "outputs": [],
   "source": [
    "player1.add_cards(mycard)"
   ]
  },
  {
   "cell_type": "code",
   "execution_count": 17,
   "id": "76a74689-de24-4c4d-bdcf-48e8e130150a",
   "metadata": {},
   "outputs": [
    {
     "name": "stdout",
     "output_type": "stream",
     "text": [
      "I'm Player Karan and I have 1 cards remaining\n"
     ]
    }
   ],
   "source": [
    "print(player1)"
   ]
  },
  {
   "cell_type": "code",
   "execution_count": 18,
   "id": "d85a2fb3-db17-4cdc-bc8b-f1ee5421ee77",
   "metadata": {},
   "outputs": [],
   "source": [
    "player1.add_cards([mycard, mycard, mycard])\n"
   ]
  },
  {
   "cell_type": "code",
   "execution_count": 19,
   "id": "9010ab63-3f6a-4463-9ed7-7a603f707bbc",
   "metadata": {},
   "outputs": [
    {
     "name": "stdout",
     "output_type": "stream",
     "text": [
      "I'm Player Karan and I have 4 cards remaining\n"
     ]
    }
   ],
   "source": [
    "print(player1)"
   ]
  },
  {
   "cell_type": "code",
   "execution_count": 20,
   "id": "12173488-1baa-43b4-b9be-1831308287b6",
   "metadata": {},
   "outputs": [
    {
     "data": {
      "text/plain": [
       "<__main__.Card at 0x2de98e59e80>"
      ]
     },
     "execution_count": 20,
     "metadata": {},
     "output_type": "execute_result"
    }
   ],
   "source": [
    "player1.remove_one()"
   ]
  },
  {
   "cell_type": "code",
   "execution_count": 21,
   "id": "08c5293f-46c8-4243-8505-3d8fc74e86f2",
   "metadata": {},
   "outputs": [
    {
     "name": "stdout",
     "output_type": "stream",
     "text": [
      "I'm Player A and I have 26 cards remaining\n",
      "I'm Player B and I have 26 cards remaining\n"
     ]
    }
   ],
   "source": [
    "# game set-up\n",
    "\n",
    "player1 = Player(\"A\")\n",
    "player2 = Player(\"B\")\n",
    "\n",
    "game_deck = Deck()\n",
    "game_deck.shuffle_deck()\n",
    "\n",
    "for i in range(26):\n",
    "    player1.add_cards(game_deck.deal_one())\n",
    "    player2.add_cards(game_deck.deal_one())\n",
    "\n",
    "print(player1)\n",
    "print(player2)"
   ]
  },
  {
   "cell_type": "code",
   "execution_count": 22,
   "id": "5a77420c-4d1c-4462-94f5-baf1132b99fd",
   "metadata": {},
   "outputs": [
    {
     "ename": "SyntaxError",
     "evalue": "'(' was never closed (3657594695.py, line 56)",
     "output_type": "error",
     "traceback": [
      "\u001b[1;36m  Cell \u001b[1;32mIn[22], line 56\u001b[1;36m\u001b[0m\n\u001b[1;33m    player2_cards.append((player2.remove_one())\u001b[0m\n\u001b[1;37m                        ^\u001b[0m\n\u001b[1;31mSyntaxError\u001b[0m\u001b[1;31m:\u001b[0m '(' was never closed\n"
     ]
    }
   ],
   "source": [
    "total_rounds = 0\n",
    "game_on = True\n",
    "\n",
    "while game_on:\n",
    "    total_rounds += 1\n",
    "    print(f\"Round {total_rounds}\")\n",
    "    \n",
    "    if len(player1.all_cards) == 0:\n",
    "        print(f\"PLayer 1 - {plpayer1.name} is out of cards! \\nPlayer 2 - {player2.name} Won the game\")\n",
    "        game_on = False\n",
    "        break\n",
    "    if len(player2.all_cards) == 0:\n",
    "        print(f\"PLayer 2 - {plpayer2.name} is out of cards! \\nPlayer 1 - {player1.name} Won the game\")\n",
    "        game_on = False\n",
    "        break\n",
    "\n",
    "    player1_cards = []\n",
    "    player2_cards = []\n",
    "\n",
    "    player1_cards.append(player1.remove_one())\n",
    "    player2_cards.append(player2.remove_one())\n",
    "\n",
    "    at_war = True\n",
    "\n",
    "    while at_war:\n",
    "        if player1_cards[-1].value > player2_cards[-1].value:\n",
    "            player1.add_cards(player1_cards)\n",
    "            player1.add_cards(player2_cards)\n",
    "            at_war = False\n",
    "            \n",
    "        elif player2_cards[-1].value > player1_cards[-1].value:\n",
    "            player2.add_cards(player1_cards)\n",
    "            player2.add_cards(player2_cards)\n",
    "            at_war = False\n",
    "            \n",
    "        else:\n",
    "            print(\"### At War! ###\")\n",
    "\n",
    "            if(len(player1.all_cards)) < 5:\n",
    "                print(f\"Player 1 - {player1.name} unable to declare war\")\n",
    "                print(f\"Player 2 - {player2.name} Won The Game\")\n",
    "                game_on = False\n",
    "                at_war = False\n",
    "                break\n",
    "\n",
    "            elif(len(player2.all_cards)) < 5:\n",
    "                print(f\"Player 2 - {player2.name} unable to declare war\")\n",
    "                print(f\"Player 1 - {player1.name} Won The Game\")\n",
    "                game_on = False\n",
    "                at_war = False\n",
    "                break\n",
    "\n",
    "            else: \n",
    "                for num in range(5):\n",
    "                    player1_cards.append((player1.remove_one())\n",
    "                    player2_cards.append((player2.remove_one())\n",
    "                    "
   ]
  },
  {
   "cell_type": "code",
   "execution_count": null,
   "id": "1864d36c-6ce2-4c3f-ae4e-cf6188782ba6",
   "metadata": {},
   "outputs": [],
   "source": []
  }
 ],
 "metadata": {
  "kernelspec": {
   "display_name": "Python 3 (ipykernel)",
   "language": "python",
   "name": "python3"
  },
  "language_info": {
   "codemirror_mode": {
    "name": "ipython",
    "version": 3
   },
   "file_extension": ".py",
   "mimetype": "text/x-python",
   "name": "python",
   "nbconvert_exporter": "python",
   "pygments_lexer": "ipython3",
   "version": "3.12.7"
  }
 },
 "nbformat": 4,
 "nbformat_minor": 5
}
