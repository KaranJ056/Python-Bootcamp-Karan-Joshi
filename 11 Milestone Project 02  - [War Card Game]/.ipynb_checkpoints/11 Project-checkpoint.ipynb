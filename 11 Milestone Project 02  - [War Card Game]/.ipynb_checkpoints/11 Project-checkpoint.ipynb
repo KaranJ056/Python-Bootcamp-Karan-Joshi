{
 "cells": [
  {
   "cell_type": "code",
   "execution_count": 1,
   "id": "4becf4d6-214d-4b4d-902e-6963e7927d73",
   "metadata": {},
   "outputs": [],
   "source": [
    "# Card class:\n",
    "# should have suit, rank, value\n",
    "import random\n",
    "\n",
    "suits = ('Hearts', 'Diamonds', 'Spades', 'Clubs')\n",
    "ranks = ('Two', 'Three', 'Four', 'Five', 'Six', 'Seven', 'Eight', 'Nine', 'Ten', 'Jack', 'Queen', 'King', 'Ace')\n",
    "values = {'Two':2, 'Three':3, 'Four':4, 'Five':5, 'Six':6, 'Seven':7, 'Eight':8, 'Nine':9, 'Ten':10, 'Jack':11, 'Queen':12, 'King':13, 'Ace':14}"
   ]
  },
  {
   "cell_type": "code",
   "execution_count": 2,
   "id": "ee208282-60eb-49c9-9b7a-3f54ab4692e9",
   "metadata": {},
   "outputs": [],
   "source": [
    "# class Card: # can be used if we don't have any inheritance\n",
    "class Card():\n",
    "\n",
    "    def __init__(self, suit, rank):\n",
    "        self.suit = suit\n",
    "        self.rank = rank\n",
    "        self.value = values[rank]\n",
    "\n",
    "    def __str__(self):\n",
    "        return f\"{self.rank} of {self.suit}\""
   ]
  },
  {
   "cell_type": "code",
   "execution_count": 3,
   "id": "4319645e-cbae-47a5-9a98-511c36a5e6d0",
   "metadata": {},
   "outputs": [],
   "source": [
    "two_of_hearts = Card(\"Hearts\", \"Two\")"
   ]
  },
  {
   "cell_type": "code",
   "execution_count": 4,
   "id": "7c175c1e-c8c2-41aa-9055-1af3f0c33c27",
   "metadata": {},
   "outputs": [
    {
     "name": "stdout",
     "output_type": "stream",
     "text": [
      "Two of Hearts\n"
     ]
    }
   ],
   "source": [
    "print(two_of_hearts)"
   ]
  },
  {
   "cell_type": "raw",
   "id": "55701900-f017-49c5-85e3-e9b9090dac3f",
   "metadata": {},
   "source": [
    "# Deck Class\n",
    "\n",
    "# requirements:\n",
    "    => on __init__\n",
    "        create all 52 card combination\n",
    "        store them as a list of Card objects\n",
    "    => shuffle deck through method call\n",
    "    => deal/pop card from the deck"
   ]
  },
  {
   "cell_type": "code",
   "execution_count": 5,
   "id": "43d7922e-ec73-4a7b-8aab-0fdb1c4b11b5",
   "metadata": {},
   "outputs": [],
   "source": [
    "class Deck:\n",
    "    def __init__(self):\n",
    "        self.all_cards = []\n",
    "        for suit in suits:\n",
    "            for rank in ranks:\n",
    "                new_card = Card(suit, rank)\n",
    "                self.all_cards.append(new_card)\n",
    "\n",
    "    def shuffle_deck(self):\n",
    "        random.shuffle(self.all_cards)\n",
    "\n",
    "    def deal_one(self):\n",
    "        return self.all_cards.pop()"
   ]
  },
  {
   "cell_type": "code",
   "execution_count": 6,
   "id": "3f0a9160-f9c8-4f5d-976f-ece83fd0d70f",
   "metadata": {},
   "outputs": [],
   "source": [
    "new_deck = Deck()"
   ]
  },
  {
   "cell_type": "code",
   "execution_count": 7,
   "id": "00f98591-a160-474b-bce4-dd12fee4886e",
   "metadata": {
    "scrolled": true
   },
   "outputs": [
    {
     "data": {
      "text/plain": [
       "[<__main__.Card at 0x1f55525cad0>,\n",
       " <__main__.Card at 0x1f55525c230>,\n",
       " <__main__.Card at 0x1f55525c8c0>,\n",
       " <__main__.Card at 0x1f55525c740>,\n",
       " <__main__.Card at 0x1f55525c2f0>,\n",
       " <__main__.Card at 0x1f55525cd40>,\n",
       " <__main__.Card at 0x1f55525c920>,\n",
       " <__main__.Card at 0x1f55525cdd0>,\n",
       " <__main__.Card at 0x1f55525cbc0>,\n",
       " <__main__.Card at 0x1f55525c0e0>,\n",
       " <__main__.Card at 0x1f55525cc20>,\n",
       " <__main__.Card at 0x1f55525c680>,\n",
       " <__main__.Card at 0x1f55525c530>,\n",
       " <__main__.Card at 0x1f55525c890>,\n",
       " <__main__.Card at 0x1f55525c3b0>,\n",
       " <__main__.Card at 0x1f55525c410>,\n",
       " <__main__.Card at 0x1f55525ccb0>,\n",
       " <__main__.Card at 0x1f55525cb90>,\n",
       " <__main__.Card at 0x1f55525d070>,\n",
       " <__main__.Card at 0x1f55525d0a0>,\n",
       " <__main__.Card at 0x1f55525d0d0>,\n",
       " <__main__.Card at 0x1f55525d100>,\n",
       " <__main__.Card at 0x1f55525d340>,\n",
       " <__main__.Card at 0x1f55525d2b0>,\n",
       " <__main__.Card at 0x1f55525d2e0>,\n",
       " <__main__.Card at 0x1f55525c2c0>,\n",
       " <__main__.Card at 0x1f55525d160>,\n",
       " <__main__.Card at 0x1f55525d1c0>,\n",
       " <__main__.Card at 0x1f55525d220>,\n",
       " <__main__.Card at 0x1f55525d280>,\n",
       " <__main__.Card at 0x1f55525d460>,\n",
       " <__main__.Card at 0x1f55525d4c0>,\n",
       " <__main__.Card at 0x1f55525d520>,\n",
       " <__main__.Card at 0x1f55525d580>,\n",
       " <__main__.Card at 0x1f55525d5e0>,\n",
       " <__main__.Card at 0x1f55525d640>,\n",
       " <__main__.Card at 0x1f55525d6a0>,\n",
       " <__main__.Card at 0x1f55525d700>,\n",
       " <__main__.Card at 0x1f55525d760>,\n",
       " <__main__.Card at 0x1f55525d7c0>,\n",
       " <__main__.Card at 0x1f55525d820>,\n",
       " <__main__.Card at 0x1f55525d880>,\n",
       " <__main__.Card at 0x1f55525d8e0>,\n",
       " <__main__.Card at 0x1f55525d940>,\n",
       " <__main__.Card at 0x1f55525d9a0>,\n",
       " <__main__.Card at 0x1f55525da00>,\n",
       " <__main__.Card at 0x1f55525da60>,\n",
       " <__main__.Card at 0x1f55525dac0>,\n",
       " <__main__.Card at 0x1f55525db20>,\n",
       " <__main__.Card at 0x1f55525db80>,\n",
       " <__main__.Card at 0x1f55525dbe0>,\n",
       " <__main__.Card at 0x1f55525dc40>]"
      ]
     },
     "execution_count": 7,
     "metadata": {},
     "output_type": "execute_result"
    }
   ],
   "source": [
    "new_deck.all_cards"
   ]
  },
  {
   "cell_type": "code",
   "execution_count": 8,
   "id": "61cfe98b-86b6-4cef-ab75-3ee9e36d3d01",
   "metadata": {
    "scrolled": true
   },
   "outputs": [
    {
     "name": "stdout",
     "output_type": "stream",
     "text": [
      "Two of Hearts\n",
      "Three of Hearts\n",
      "Four of Hearts\n",
      "Five of Hearts\n",
      "Six of Hearts\n",
      "Seven of Hearts\n",
      "Eight of Hearts\n",
      "Nine of Hearts\n",
      "Ten of Hearts\n",
      "Jack of Hearts\n",
      "Queen of Hearts\n",
      "King of Hearts\n",
      "Ace of Hearts\n",
      "Two of Diamonds\n",
      "Three of Diamonds\n",
      "Four of Diamonds\n",
      "Five of Diamonds\n",
      "Six of Diamonds\n",
      "Seven of Diamonds\n",
      "Eight of Diamonds\n",
      "Nine of Diamonds\n",
      "Ten of Diamonds\n",
      "Jack of Diamonds\n",
      "Queen of Diamonds\n",
      "King of Diamonds\n",
      "Ace of Diamonds\n",
      "Two of Spades\n",
      "Three of Spades\n",
      "Four of Spades\n",
      "Five of Spades\n",
      "Six of Spades\n",
      "Seven of Spades\n",
      "Eight of Spades\n",
      "Nine of Spades\n",
      "Ten of Spades\n",
      "Jack of Spades\n",
      "Queen of Spades\n",
      "King of Spades\n",
      "Ace of Spades\n",
      "Two of Clubs\n",
      "Three of Clubs\n",
      "Four of Clubs\n",
      "Five of Clubs\n",
      "Six of Clubs\n",
      "Seven of Clubs\n",
      "Eight of Clubs\n",
      "Nine of Clubs\n",
      "Ten of Clubs\n",
      "Jack of Clubs\n",
      "Queen of Clubs\n",
      "King of Clubs\n",
      "Ace of Clubs\n"
     ]
    }
   ],
   "source": [
    "for card in new_deck.all_cards:\n",
    "    print(card)"
   ]
  },
  {
   "cell_type": "code",
   "execution_count": 9,
   "id": "44a051e3-6a95-43b5-9279-fcb3385ca35e",
   "metadata": {},
   "outputs": [],
   "source": [
    "new_deck.shuffle_deck()"
   ]
  },
  {
   "cell_type": "code",
   "execution_count": 10,
   "id": "263d1d54-2ca6-4ecf-a759-3ed5f84c3e66",
   "metadata": {
    "scrolled": true
   },
   "outputs": [
    {
     "name": "stdout",
     "output_type": "stream",
     "text": [
      "Two of Diamonds\n",
      "Eight of Clubs\n",
      "Nine of Clubs\n",
      "Five of Diamonds\n",
      "Five of Clubs\n",
      "Eight of Diamonds\n",
      "Jack of Clubs\n",
      "Ace of Clubs\n",
      "Four of Hearts\n",
      "Eight of Spades\n",
      "Three of Clubs\n",
      "Queen of Diamonds\n",
      "Jack of Diamonds\n",
      "Six of Clubs\n",
      "Jack of Hearts\n",
      "King of Diamonds\n",
      "Two of Spades\n",
      "Queen of Hearts\n",
      "Queen of Spades\n",
      "Ace of Spades\n",
      "Three of Spades\n",
      "Six of Hearts\n",
      "Nine of Hearts\n",
      "Four of Diamonds\n",
      "Six of Spades\n",
      "Three of Hearts\n",
      "Ace of Hearts\n",
      "Queen of Clubs\n",
      "Ace of Diamonds\n",
      "Seven of Clubs\n",
      "Three of Diamonds\n",
      "Ten of Diamonds\n",
      "Eight of Hearts\n",
      "Nine of Spades\n",
      "King of Hearts\n",
      "King of Spades\n",
      "Seven of Spades\n",
      "King of Clubs\n",
      "Six of Diamonds\n",
      "Four of Clubs\n",
      "Seven of Diamonds\n",
      "Ten of Hearts\n",
      "Four of Spades\n",
      "Five of Spades\n",
      "Five of Hearts\n",
      "Two of Clubs\n",
      "Seven of Hearts\n",
      "Jack of Spades\n",
      "Two of Hearts\n",
      "Ten of Spades\n",
      "Nine of Diamonds\n",
      "Ten of Clubs\n"
     ]
    }
   ],
   "source": [
    "for card in new_deck.all_cards:\n",
    "    print(card)"
   ]
  },
  {
   "cell_type": "code",
   "execution_count": 11,
   "id": "6af6e9b2-3a1c-4345-8418-da1e4468c8dd",
   "metadata": {},
   "outputs": [],
   "source": [
    "# print(new_deck.deal_one())"
   ]
  },
  {
   "cell_type": "code",
   "execution_count": null,
   "id": "b7f73a0c-4e21-4196-8ce2-65e259784a42",
   "metadata": {},
   "outputs": [],
   "source": []
  },
  {
   "cell_type": "code",
   "execution_count": 12,
   "id": "2ede08de-68da-48c0-ac8f-7ffd2ae1ef57",
   "metadata": {},
   "outputs": [],
   "source": [
    "# Player Class\n",
    "\n",
    "class Player:\n",
    "    def __init__(self, name):\n",
    "        self.name = name\n",
    "        self.all_cards = []\n",
    "\n",
    "    def __str__(self):\n",
    "        return f\"I'm Player {self.name} and I have {len(self.all_cards)} cards remaining\"\n",
    "\n",
    "    def remove_one(self):\n",
    "        return self.all_cards.pop(0)\n",
    "\n",
    "    def add_cards(self, new_cards):\n",
    "        if type(new_cards) == type([]):\n",
    "            self.all_cards.extend(new_cards)\n",
    "        else:\n",
    "            self.all_cards.append(new_cards)"
   ]
  },
  {
   "cell_type": "code",
   "execution_count": 13,
   "id": "8f7e2ac3-c1fa-4fbd-bffc-9ab07b3db0c8",
   "metadata": {},
   "outputs": [],
   "source": [
    "player1 = Player(\"Karan\")"
   ]
  },
  {
   "cell_type": "code",
   "execution_count": 14,
   "id": "97705630-6e7a-4055-9ecf-96b6905d7fe0",
   "metadata": {},
   "outputs": [
    {
     "name": "stdout",
     "output_type": "stream",
     "text": [
      "I'm Player Karan and I have 0 cards remaining\n"
     ]
    }
   ],
   "source": [
    "print(player1)"
   ]
  },
  {
   "cell_type": "code",
   "execution_count": 15,
   "id": "c95bd415-ab16-4251-9fcd-5de688afdefa",
   "metadata": {},
   "outputs": [
    {
     "name": "stdout",
     "output_type": "stream",
     "text": [
      "Eight of Diamonds\n"
     ]
    }
   ],
   "source": [
    "mycard = Card(\"Diamonds\", \"Eight\")\n",
    "print(mycard)"
   ]
  },
  {
   "cell_type": "code",
   "execution_count": 16,
   "id": "ee9d227b-200f-4fee-9327-caee613ec717",
   "metadata": {},
   "outputs": [],
   "source": [
    "player1.add_cards(mycard)"
   ]
  },
  {
   "cell_type": "code",
   "execution_count": 17,
   "id": "76a74689-de24-4c4d-bdcf-48e8e130150a",
   "metadata": {},
   "outputs": [
    {
     "name": "stdout",
     "output_type": "stream",
     "text": [
      "I'm Player Karan and I have 1 cards remaining\n"
     ]
    }
   ],
   "source": [
    "print(player1)"
   ]
  },
  {
   "cell_type": "code",
   "execution_count": 18,
   "id": "d85a2fb3-db17-4cdc-bc8b-f1ee5421ee77",
   "metadata": {},
   "outputs": [],
   "source": [
    "player1.add_cards([mycard, mycard, mycard])\n"
   ]
  },
  {
   "cell_type": "code",
   "execution_count": 19,
   "id": "9010ab63-3f6a-4463-9ed7-7a603f707bbc",
   "metadata": {},
   "outputs": [
    {
     "name": "stdout",
     "output_type": "stream",
     "text": [
      "I'm Player Karan and I have 4 cards remaining\n"
     ]
    }
   ],
   "source": [
    "print(player1)"
   ]
  },
  {
   "cell_type": "code",
   "execution_count": 20,
   "id": "12173488-1baa-43b4-b9be-1831308287b6",
   "metadata": {},
   "outputs": [
    {
     "data": {
      "text/plain": [
       "<__main__.Card at 0x1f555196d80>"
      ]
     },
     "execution_count": 20,
     "metadata": {},
     "output_type": "execute_result"
    }
   ],
   "source": [
    "player1.remove_one()"
   ]
  },
  {
   "cell_type": "code",
   "execution_count": 31,
   "id": "08c5293f-46c8-4243-8505-3d8fc74e86f2",
   "metadata": {},
   "outputs": [
    {
     "name": "stdout",
     "output_type": "stream",
     "text": [
      "I'm Player A and I have 26 cards remaining\n",
      "I'm Player B and I have 26 cards remaining\n"
     ]
    }
   ],
   "source": [
    "# game set-up\n",
    "\n",
    "player1 = Player(\"A\")\n",
    "player2 = Player(\"B\")\n",
    "\n",
    "game_deck = Deck()\n",
    "game_deck.shuffle_deck()\n",
    "\n",
    "for i in range(26):\n",
    "    player1.add_cards(game_deck.deal_one())\n",
    "    player2.add_cards(game_deck.deal_one())\n",
    "\n",
    "print(player1)\n",
    "print(player2)"
   ]
  },
  {
   "cell_type": "code",
   "execution_count": 32,
   "id": "5a77420c-4d1c-4462-94f5-baf1132b99fd",
   "metadata": {
    "scrolled": true
   },
   "outputs": [
    {
     "name": "stdout",
     "output_type": "stream",
     "text": [
      "Round 1\n",
      "Round 2\n",
      "Round 3\n",
      "Round 4\n",
      "Round 5\n",
      "Round 6\n",
      "Round 7\n",
      "Round 8\n",
      "Round 9\n",
      "Round 10\n",
      "Round 11\n",
      "### At War! ###\n",
      "Round 12\n",
      "Round 13\n",
      "Round 14\n",
      "Round 15\n",
      "Round 16\n",
      "Round 17\n",
      "Round 18\n",
      "Round 19\n",
      "Round 20\n",
      "Round 21\n",
      "Round 22\n",
      "Round 23\n",
      "Round 24\n",
      "Round 25\n",
      "Round 26\n",
      "Round 27\n",
      "### At War! ###\n",
      "Round 28\n",
      "Round 29\n",
      "Round 30\n",
      "Round 31\n",
      "Round 32\n",
      "Round 33\n",
      "Round 34\n",
      "### At War! ###\n",
      "Round 35\n",
      "Round 36\n",
      "Round 37\n",
      "Round 38\n",
      "Round 39\n",
      "Round 40\n",
      "Round 41\n",
      "Round 42\n",
      "Round 43\n",
      "Round 44\n",
      "Round 45\n",
      "Round 46\n",
      "Round 47\n",
      "Round 48\n",
      "Round 49\n",
      "Round 50\n",
      "Round 51\n",
      "Round 52\n",
      "Round 53\n",
      "Round 54\n",
      "Round 55\n",
      "Round 56\n",
      "Round 57\n",
      "Round 58\n",
      "Round 59\n",
      "Round 60\n",
      "Round 61\n",
      "Round 62\n",
      "Round 63\n",
      "Round 64\n",
      "Round 65\n",
      "Round 66\n",
      "Round 67\n",
      "### At War! ###\n",
      "Round 68\n",
      "Round 69\n",
      "Round 70\n",
      "Round 71\n",
      "Round 72\n",
      "Round 73\n",
      "Round 74\n",
      "Round 75\n",
      "Round 76\n",
      "Round 77\n",
      "Round 78\n",
      "Round 79\n",
      "Round 80\n",
      "Round 81\n",
      "Round 82\n",
      "Round 83\n",
      "Round 84\n",
      "Round 85\n",
      "Round 86\n",
      "Round 87\n",
      "Round 88\n",
      "Round 89\n",
      "Round 90\n",
      "Round 91\n",
      "Round 92\n",
      "Round 93\n",
      "Round 94\n",
      "Round 95\n",
      "Round 96\n",
      "Round 97\n",
      "Round 98\n",
      "Round 99\n",
      "Round 100\n",
      "Round 101\n",
      "Round 102\n",
      "Round 103\n",
      "Round 104\n",
      "Round 105\n",
      "Round 106\n",
      "Round 107\n",
      "Round 108\n",
      "Round 109\n",
      "Round 110\n",
      "Round 111\n",
      "Round 112\n",
      "Round 113\n",
      "### At War! ###\n",
      "Round 114\n",
      "Round 115\n",
      "Round 116\n",
      "Round 117\n",
      "Round 118\n",
      "Round 119\n",
      "Round 120\n",
      "Round 121\n",
      "Round 122\n",
      "Round 123\n",
      "Round 124\n",
      "Round 125\n",
      "Round 126\n",
      "Round 127\n",
      "Round 128\n",
      "Round 129\n",
      "Round 130\n",
      "Round 131\n",
      "Round 132\n",
      "Round 133\n",
      "Round 134\n",
      "Round 135\n",
      "Round 136\n",
      "Round 137\n",
      "Round 138\n",
      "Round 139\n",
      "Round 140\n",
      "Round 141\n",
      "### At War! ###\n",
      "### At War! ###\n",
      "Round 142\n",
      "Round 143\n",
      "Round 144\n",
      "Round 145\n",
      "Round 146\n",
      "Round 147\n",
      "Round 148\n",
      "Round 149\n",
      "Round 150\n",
      "Round 151\n",
      "Round 152\n",
      "Round 153\n",
      "Round 154\n",
      "Round 155\n",
      "Round 156\n",
      "Round 157\n",
      "Round 158\n",
      "Round 159\n",
      "### At War! ###\n",
      "Player 1 - A unable to declare war\n",
      "Player 2 - B Won The Game\n"
     ]
    }
   ],
   "source": [
    "total_rounds = 0\n",
    "game_on = True\n",
    "\n",
    "while game_on:\n",
    "    total_rounds += 1\n",
    "    print(f\"Round {total_rounds}\")\n",
    "    \n",
    "    if len(player1.all_cards) == 0:\n",
    "        print(f\"PLayer 1 - {plpayer1.name} is out of cards! \\nPlayer 2 - {player2.name} Won the game\")\n",
    "        game_on = False\n",
    "        break\n",
    "    if len(player2.all_cards) == 0:\n",
    "        print(f\"PLayer 2 - {player2.name} is out of cards! \\nPlayer 1 - {player1.name} Won the game\")\n",
    "        game_on = False\n",
    "        break\n",
    "\n",
    "    player1_cards = []\n",
    "    player2_cards = []\n",
    "\n",
    "    player1_cards.append(player1.remove_one())\n",
    "    player2_cards.append(player2.remove_one())\n",
    "\n",
    "    at_war = True\n",
    "\n",
    "    while at_war:\n",
    "        if player1_cards[-1].value > player2_cards[-1].value:\n",
    "            player1.add_cards(player1_cards)\n",
    "            player1.add_cards(player2_cards)\n",
    "            at_war = False\n",
    "            \n",
    "        elif player2_cards[-1].value > player1_cards[-1].value:\n",
    "            player2.add_cards(player1_cards)\n",
    "            player2.add_cards(player2_cards)\n",
    "            at_war = False\n",
    "            \n",
    "        else:\n",
    "            print(\"### At War! ###\")\n",
    "\n",
    "            if(len(player1.all_cards)) < 5:\n",
    "                print(f\"Player 1 - {player1.name} unable to declare war\")\n",
    "                print(f\"Player 2 - {player2.name} Won The Game\")\n",
    "                game_on = False\n",
    "                at_war = False\n",
    "                break\n",
    "\n",
    "            elif(len(player2.all_cards)) < 5:\n",
    "                print(f\"Player 2 - {player2.name} unable to declare war\")\n",
    "                print(f\"Player 1 - {player1.name} Won The Game\")\n",
    "                game_on = False\n",
    "                at_war = False\n",
    "                break\n",
    "\n",
    "            else: \n",
    "                for num in range(5):\n",
    "                    player1_cards.append(player1.remove_one())\n",
    "                    player2_cards.append(player2.remove_one())\n",
    "                    "
   ]
  },
  {
   "cell_type": "code",
   "execution_count": null,
   "id": "1864d36c-6ce2-4c3f-ae4e-cf6188782ba6",
   "metadata": {},
   "outputs": [],
   "source": []
  }
 ],
 "metadata": {
  "kernelspec": {
   "display_name": "Python 3 (ipykernel)",
   "language": "python",
   "name": "python3"
  },
  "language_info": {
   "codemirror_mode": {
    "name": "ipython",
    "version": 3
   },
   "file_extension": ".py",
   "mimetype": "text/x-python",
   "name": "python",
   "nbconvert_exporter": "python",
   "pygments_lexer": "ipython3",
   "version": "3.12.7"
  }
 },
 "nbformat": 4,
 "nbformat_minor": 5
}
