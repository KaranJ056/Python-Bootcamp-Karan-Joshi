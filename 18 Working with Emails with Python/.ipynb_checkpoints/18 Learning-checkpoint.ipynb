{
 "cells": [
  {
   "cell_type": "markdown",
   "id": "fdb14e06-64fc-4ca5-a842-e8212b2a380a",
   "metadata": {},
   "source": [
    "### Working with E-mails with Python"
   ]
  },
  {
   "cell_type": "markdown",
   "id": "c8c8fb06-3cc4-423c-ad3e-1b823695cd8f",
   "metadata": {},
   "source": [
    "#### Sending e-mails with Pyhton"
   ]
  },
  {
   "cell_type": "raw",
   "id": "b95a04fe-cfb2-4bf3-98b6-3a9d1406509a",
   "metadata": {},
   "source": [
    "To send email with Python (steps):\n",
    "1. Connecting to email server\n",
    "2. Confirming a connection\n",
    "3. Setting a protocol\n",
    "4. Logging on\n",
    "5. Sending the message\n",
    "\n",
    "Built-in smtplib makes these steps simple function calls\n",
    "\n",
    "We will be using smtplib and gmail smtp server for our need in this tutorials"
   ]
  },
  {
   "cell_type": "code",
   "execution_count": 14,
   "id": "68823ea7-52ea-4b66-bdd5-257e198e6eb2",
   "metadata": {},
   "outputs": [],
   "source": [
    "import smtplib"
   ]
  },
  {
   "cell_type": "code",
   "execution_count": 15,
   "id": "3e56203c-7014-49c6-b941-128e032d65c0",
   "metadata": {},
   "outputs": [],
   "source": [
    "smtp_obj = smtplib.SMTP(\"smtp.gmail.com\", port=587)"
   ]
  },
  {
   "cell_type": "raw",
   "id": "e2d1d1d2-f77a-4368-8fef-32c2d100e904",
   "metadata": {},
   "source": [
    "port:\n",
    "587 => TLS encryption\n",
    "465 => SSL encryption"
   ]
  },
  {
   "cell_type": "code",
   "execution_count": 16,
   "id": "4a284f21-97f5-4f4e-83ec-09fa7733ea0d",
   "metadata": {},
   "outputs": [
    {
     "data": {
      "text/plain": [
       "(250,\n",
       " b'smtp.gmail.com at your service, [123.201.110.130]\\nSIZE 35882577\\n8BITMIME\\nSTARTTLS\\nENHANCEDSTATUSCODES\\nPIPELINING\\nCHUNKING\\nSMTPUTF8')"
      ]
     },
     "execution_count": 16,
     "metadata": {},
     "output_type": "execute_result"
    }
   ],
   "source": [
    "# sending hi to confirm connection\n",
    "smtp_obj.ehlo()"
   ]
  },
  {
   "cell_type": "code",
   "execution_count": 17,
   "id": "34dddb9e-4db6-4977-97ac-06450145c323",
   "metadata": {},
   "outputs": [
    {
     "data": {
      "text/plain": [
       "(220, b'2.0.0 Ready to start TLS')"
      ]
     },
     "execution_count": 17,
     "metadata": {},
     "output_type": "execute_result"
    }
   ],
   "source": [
    "smtp_obj.starttls()"
   ]
  },
  {
   "cell_type": "code",
   "execution_count": 18,
   "id": "791e2cac-42d1-43a4-8510-51331556da48",
   "metadata": {},
   "outputs": [],
   "source": [
    "# Now coming towards app password\n",
    "# If not done or not sure how to do it watch any youtube video for it"
   ]
  },
  {
   "cell_type": "code",
   "execution_count": 19,
   "id": "efaff596-d77e-4e32-9b00-73fefb2a8148",
   "metadata": {},
   "outputs": [],
   "source": [
    "import getpass"
   ]
  },
  {
   "cell_type": "code",
   "execution_count": 20,
   "id": "b326cd27-b725-4bc7-b600-478854c1b384",
   "metadata": {},
   "outputs": [
    {
     "name": "stdin",
     "output_type": "stream",
     "text": [
      "Enter your e-mail :  ········\n",
      "Enter you password :  ········\n"
     ]
    }
   ],
   "source": [
    "email = getpass.getpass(\"Enter your e-mail : \")\n",
    "password = getpass.getpass(\"Enter you password : \")"
   ]
  },
  {
   "cell_type": "code",
   "execution_count": 21,
   "id": "dd00de13-e4f3-46cb-9cc3-b42dfeef4260",
   "metadata": {},
   "outputs": [
    {
     "data": {
      "text/plain": [
       "(235, b'2.7.0 Accepted')"
      ]
     },
     "execution_count": 21,
     "metadata": {},
     "output_type": "execute_result"
    }
   ],
   "source": [
    "smtp_obj.login(email, password)"
   ]
  },
  {
   "cell_type": "code",
   "execution_count": 22,
   "id": "01ecf3ec-e95c-48e8-8caf-2132c784d36e",
   "metadata": {},
   "outputs": [
    {
     "name": "stdin",
     "output_type": "stream",
     "text": [
      "Enter Subjcet of your E-mail :  Testing email with Python\n",
      "Enter Message you want to send:  This is a message that is to be sent by Python Script\n"
     ]
    },
    {
     "data": {
      "text/plain": [
       "{}"
      ]
     },
     "execution_count": 22,
     "metadata": {},
     "output_type": "execute_result"
    }
   ],
   "source": [
    "from_address = email\n",
    "to_address = \"your_email.com\"\n",
    "subject = input(\"Enter Subjcet of your E-mail : \")\n",
    "message = input(\"Enter Message you want to send: \")\n",
    "msg = \"Subject: \"+subject+\"\\n\"+message\n",
    "\n",
    "smtp_obj.sendmail(from_address, to_address, msg)"
   ]
  },
  {
   "cell_type": "code",
   "execution_count": 23,
   "id": "4b75d25c-4e21-4462-a5ec-12e5339a48bc",
   "metadata": {},
   "outputs": [
    {
     "data": {
      "text/plain": [
       "(221,\n",
       " b'2.0.0 closing connection 98e67ed59e1d1-2f72c15484asm2447872a91.3 - gsmtp')"
      ]
     },
     "execution_count": 23,
     "metadata": {},
     "output_type": "execute_result"
    }
   ],
   "source": [
    "smtp_obj.quit()"
   ]
  },
  {
   "cell_type": "code",
   "execution_count": null,
   "id": "95b5bdad-5686-4b1e-82b2-f7772a804912",
   "metadata": {},
   "outputs": [],
   "source": []
  },
  {
   "cell_type": "markdown",
   "id": "e550d63f-f68d-48d2-809f-c4f70cd07e30",
   "metadata": {},
   "source": [
    "#### Receiving email with Python"
   ]
  },
  {
   "cell_type": "raw",
   "id": "ed889b28-05f8-455a-bfa7-196cee790b76",
   "metadata": {},
   "source": [
    "For eploring inbox we can use built-in libs like\n",
    "\"imaplib\" and \"email\"\n",
    "\n",
    "\"imaplib\" has special syntax for exploring inbox\n",
    "\n",
    "we can use following different statements in imap objects"
   ]
  },
  {
   "cell_type": "markdown",
   "id": "f4fd26ba-829a-496b-a5e6-14153d6ff2db",
   "metadata": {},
   "source": [
    "<table>\n",
    "<tr>\n",
    "    <th>Keyword</th>\n",
    "    <th>\n",
    "    Definition\n",
    "    </th>\n",
    "</tr>\n",
    "<tr>\n",
    "    <td>'ALL'</td>\n",
    "    <td>\n",
    "    Returns all messages in your email folder. Often there are size limits from imaplib. To change these use imaplib._MAXLINE = 100 , where 100 is whatever you want the limit to be.\n",
    "    </td>\n",
    "</tr>\n",
    "<tr>\n",
    "    <td>'BEFORE date'</td>\n",
    "    <td>\n",
    "    Returns all messages before the date. Date must be formatted as 01-Nov-2000.\n",
    "    </td>\n",
    "</tr>\n",
    "<tr>\n",
    "    <td>'ON date'</td>\n",
    "    <td>\n",
    "    Returns all messages on the date. Date must be formatted as 01-Nov-2000.\n",
    "    </td>\n",
    "</tr>\n",
    "<tr>\n",
    "    <td>'SINCE date'</td>\n",
    "    <td>\n",
    "    Returns all messages after the date. Date must be formatted as 01-Nov-2000.\n",
    "    </td>\n",
    "</tr>\n",
    "<tr>\n",
    "    <td>'FROM some_string '</td>\n",
    "    <td>\n",
    "    Returns all from the sender in the string. String can be an email, for example 'FROM               user@example.com' or just a string that may appear in the email, \"FROM example\"\n",
    "    </td>\n",
    "</tr>\n",
    "<tr>\n",
    "    <td>'TO some_string'</td>\n",
    "    <td>\n",
    "    Returns all outgoing email to the email in the string. String can be an email, for example 'FROM user@example.com' or just a string that may appear in the email, \"FROM example\"\n",
    "    </td>\n",
    "</tr>\n",
    "<tr>\n",
    "    <td>'CC some_string' and/or 'BCC some_string'</td>\n",
    "    <td>\n",
    "    Returns all messages in your email folder. Often there are size limits from imaplib.\n",
    "    To change these use imaplib._MAXLINE = 100 , where 100 is whatever you want the limit to be.\n",
    "    </td>\n",
    "</tr>\n",
    "<tr>\n",
    "    <td>'SUBJECT string','BODY string','TEXT \"string with spaces\"'</td>\n",
    "    <td>\n",
    "    Returns all messages with the subject string or the string in the body of the email. If the string you are searching for has spaces in it, wrap it in double quotes.\n",
    "    </td>\n",
    "</tr>\n",
    "<tr>\n",
    "    <td>'SEEN', 'UNSEEN'</td>\n",
    "    <td>\n",
    "    Returns all messages that have been seen or unseen. (Also known as read or unread)\n",
    "    </td>\n",
    "</tr>\n",
    "<tr>\n",
    "    <td>'ANSWERED', 'UNANSWERED'</td>\n",
    "    <td>\n",
    "    Returns all messages that have been replied to or unreplied to. \n",
    "    </td>\n",
    "</tr>\n",
    "<tr>\n",
    "    <td>'DELETED', 'UNDELETED'</td>\n",
    "    <td>\n",
    "    Returns all messages that have been deleted or that have not been deleted.\n",
    "    </td>\n",
    "</tr>\n",
    "</table>"
   ]
  },
  {
   "cell_type": "code",
   "execution_count": 45,
   "id": "5d7753cd-a09d-44b8-b45a-4cea20c814bd",
   "metadata": {},
   "outputs": [],
   "source": [
    "import imaplib"
   ]
  },
  {
   "cell_type": "code",
   "execution_count": 46,
   "id": "ee108626-f2b1-440c-9678-02c3a8d2732a",
   "metadata": {},
   "outputs": [],
   "source": [
    "mail = imaplib.IMAP4_SSL('imap.gmail.com')"
   ]
  },
  {
   "cell_type": "code",
   "execution_count": 47,
   "id": "57e76f42-5805-43c3-84e8-f19888ef4933",
   "metadata": {},
   "outputs": [
    {
     "name": "stdin",
     "output_type": "stream",
     "text": [
      "Enter your e-mail address :  ········\n",
      "Enter your password :  ········\n"
     ]
    }
   ],
   "source": [
    "import getpass\n",
    "\n",
    "email = getpass.getpass(\"Enter your e-mail address : \")\n",
    "password = getpass.getpass(\"Enter your password : \")"
   ]
  },
  {
   "cell_type": "code",
   "execution_count": null,
   "id": "18b5baac-f7ee-4aae-9c74-957bb430b365",
   "metadata": {},
   "outputs": [],
   "source": [
    "mail.login(email, password)"
   ]
  },
  {
   "cell_type": "code",
   "execution_count": 49,
   "id": "69c2828c-191d-4ce9-ab62-57048ca3cdc2",
   "metadata": {
    "scrolled": true
   },
   "outputs": [
    {
     "data": {
      "text/plain": [
       "('OK',\n",
       " [b'(\\\\HasNoChildren) \"/\" \"INBOX\"',\n",
       "  b'(\\\\HasChildren \\\\Noselect) \"/\" \"[Gmail]\"',\n",
       "  b'(\\\\All \\\\HasNoChildren) \"/\" \"[Gmail]/All Mail\"',\n",
       "  b'(\\\\Drafts \\\\HasNoChildren) \"/\" \"[Gmail]/Drafts\"',\n",
       "  b'(\\\\HasNoChildren \\\\Important) \"/\" \"[Gmail]/Important\"',\n",
       "  b'(\\\\HasNoChildren \\\\Sent) \"/\" \"[Gmail]/Sent Mail\"',\n",
       "  b'(\\\\HasNoChildren \\\\Junk) \"/\" \"[Gmail]/Spam\"',\n",
       "  b'(\\\\Flagged \\\\HasNoChildren) \"/\" \"[Gmail]/Starred\"',\n",
       "  b'(\\\\HasNoChildren \\\\Trash) \"/\" \"[Gmail]/Trash\"'])"
      ]
     },
     "execution_count": 49,
     "metadata": {},
     "output_type": "execute_result"
    }
   ],
   "source": [
    "mail.list()"
   ]
  },
  {
   "cell_type": "code",
   "execution_count": 50,
   "id": "7c3d87ba-5df5-4a6f-ac8b-e7df439b2b3f",
   "metadata": {},
   "outputs": [
    {
     "data": {
      "text/plain": [
       "('OK', [b'25'])"
      ]
     },
     "execution_count": 50,
     "metadata": {},
     "output_type": "execute_result"
    }
   ],
   "source": [
    "mail.select(\"inbox\")"
   ]
  },
  {
   "cell_type": "code",
   "execution_count": 52,
   "id": "b30bd0d8-2949-4335-ae76-dfc82e0253a8",
   "metadata": {},
   "outputs": [],
   "source": [
    "typ, data = mail.search(None, \"SINCE\", \"15-Jan-2025\")"
   ]
  },
  {
   "cell_type": "code",
   "execution_count": 53,
   "id": "5fc23da1-30fd-4408-af6e-89fc5e38a885",
   "metadata": {},
   "outputs": [
    {
     "data": {
      "text/plain": [
       "'OK'"
      ]
     },
     "execution_count": 53,
     "metadata": {},
     "output_type": "execute_result"
    }
   ],
   "source": [
    "typ"
   ]
  },
  {
   "cell_type": "code",
   "execution_count": 54,
   "id": "1c7b10df-03bb-4437-b0b5-23d20a5a41d2",
   "metadata": {},
   "outputs": [
    {
     "data": {
      "text/plain": [
       "[b'21 22 23 24 25']"
      ]
     },
     "execution_count": 54,
     "metadata": {},
     "output_type": "execute_result"
    }
   ],
   "source": [
    "data"
   ]
  },
  {
   "cell_type": "code",
   "execution_count": 60,
   "id": "9e8211f5-06e7-4555-8bc8-6271895189e4",
   "metadata": {},
   "outputs": [
    {
     "data": {
      "text/plain": [
       "[b'21', b'22', b'23', b'24', b'25']"
      ]
     },
     "execution_count": 60,
     "metadata": {},
     "output_type": "execute_result"
    }
   ],
   "source": [
    "email_ids = data[0].split()\n",
    "email_ids"
   ]
  },
  {
   "cell_type": "code",
   "execution_count": 61,
   "id": "ac58988f-4614-4b68-86a9-98cb35f0b3f5",
   "metadata": {},
   "outputs": [],
   "source": [
    "result, email_data = mail.fetch(email_ids[0], '(RFC822)')"
   ]
  },
  {
   "cell_type": "code",
   "execution_count": 62,
   "id": "c798a430-a8fe-462d-9a28-16e5cce96067",
   "metadata": {},
   "outputs": [
    {
     "data": {
      "text/plain": [
       "'OK'"
      ]
     },
     "execution_count": 62,
     "metadata": {},
     "output_type": "execute_result"
    }
   ],
   "source": [
    "result"
   ]
  },
  {
   "cell_type": "code",
   "execution_count": 65,
   "id": "d3e139e7-5a17-4ec3-86af-ee91953d3857",
   "metadata": {},
   "outputs": [],
   "source": [
    "raw_eamil = email_data[0][1]"
   ]
  },
  {
   "cell_type": "code",
   "execution_count": 66,
   "id": "832a500b-d33d-49ef-8cad-e121afa58ece",
   "metadata": {},
   "outputs": [],
   "source": [
    "raw_eamil_string = raw_eamil.decode('utf-8')"
   ]
  },
  {
   "cell_type": "code",
   "execution_count": 68,
   "id": "12558f78-7dee-4b32-a869-6ecc742cf767",
   "metadata": {},
   "outputs": [],
   "source": [
    "import email"
   ]
  },
  {
   "cell_type": "code",
   "execution_count": 69,
   "id": "6021e914-ec6a-4722-b53b-e5e30974a668",
   "metadata": {},
   "outputs": [],
   "source": [
    "email_message = email.message_from_string(raw_eamil_string)"
   ]
  },
  {
   "cell_type": "code",
   "execution_count": 70,
   "id": "44c1cf12-f8e9-42db-b6fa-0a7d5826984a",
   "metadata": {},
   "outputs": [
    {
     "data": {
      "text/plain": [
       "<email.message.Message at 0x1f455a1b260>"
      ]
     },
     "execution_count": 70,
     "metadata": {},
     "output_type": "execute_result"
    }
   ],
   "source": [
    "email_message"
   ]
  },
  {
   "cell_type": "code",
   "execution_count": 74,
   "id": "e2597c53-f384-4f7c-a2ee-baf0a97c1d43",
   "metadata": {
    "scrolled": true
   },
   "outputs": [],
   "source": [
    "for part in email_message.walk():\n",
    "    if part.get_content_type() == \"text/html\":\n",
    "        body = part.get_payload(decode=True)"
   ]
  },
  {
   "cell_type": "code",
   "execution_count": null,
   "id": "f266cbe6-a466-4a65-9798-0611e6ebdbd6",
   "metadata": {},
   "outputs": [],
   "source": []
  }
 ],
 "metadata": {
  "kernelspec": {
   "display_name": "Python 3 (ipykernel)",
   "language": "python",
   "name": "python3"
  },
  "language_info": {
   "codemirror_mode": {
    "name": "ipython",
    "version": 3
   },
   "file_extension": ".py",
   "mimetype": "text/x-python",
   "name": "python",
   "nbconvert_exporter": "python",
   "pygments_lexer": "ipython3",
   "version": "3.12.7"
  }
 },
 "nbformat": 4,
 "nbformat_minor": 5
}
