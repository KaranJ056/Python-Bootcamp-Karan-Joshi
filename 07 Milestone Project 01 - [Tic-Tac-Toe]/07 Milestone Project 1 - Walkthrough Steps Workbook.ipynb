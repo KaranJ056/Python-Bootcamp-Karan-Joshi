{
 "cells": [
  {
   "cell_type": "markdown",
   "metadata": {},
   "source": [
    "___\n",
    "\n",
    "<a href='https://www.udemy.com/user/joseportilla/'><img src='../Pierian_Data_Logo.png'/></a>\n",
    "___\n",
    "<center><em>Content Copyright by Pierian Data</em></center>"
   ]
  },
  {
   "cell_type": "markdown",
   "metadata": {},
   "source": [
    "# Milestone Project 1: Walkthrough Steps Workbook\n",
    "\n",
    "Below is a set of steps for you to follow to try to create the Tic Tac Toe Milestone Project game!"
   ]
  },
  {
   "cell_type": "markdown",
   "metadata": {},
   "source": [
    "#### Some suggested tools before you get started:\n",
    "To take input from a user:\n",
    "\n",
    "    player1 = input(\"Please pick a marker 'X' or 'O'\")\n",
    "    \n",
    "Note that input() takes in a string. If you need an integer value, use\n",
    "\n",
    "    position = int(input('Please enter a number'))\n",
    "    \n",
    "<br>To clear the screen between moves:\n",
    "\n",
    "    from IPython.display import clear_output\n",
    "    clear_output()\n",
    "    \n",
    "Note that clear_output() will only work in jupyter. To clear the screen in other IDEs, consider:\n",
    "\n",
    "    print('\\n'*100)\n",
    "    \n",
    "This scrolls the previous board up out of view. Now on to the program!"
   ]
  },
  {
   "cell_type": "markdown",
   "metadata": {},
   "source": [
    "**Step 1: Write a function that can print out a board. Set up your board as a list, where each index 1-9 corresponds with a number on a number pad, so you get a 3 by 3 board representation.**"
   ]
  },
  {
   "cell_type": "code",
   "execution_count": 2,
   "metadata": {},
   "outputs": [],
   "source": [
    "from IPython.display import clear_output\n",
    "\n",
    "def display_board(board):\n",
    "    print(\"Current situation of game!\\n\")\n",
    "    print(f\"{ board[6]} | {board[7]} | {board[8]}\")\n",
    "    print(f\"--|---|---\")\n",
    "    print(f\"{ board[3]} | {board[4]} | {board[5]}\")\n",
    "    print(f\"--|---|---\")\n",
    "    print(f\"{ board[0]} | {board[1]} | {board[2]}\")"
   ]
  },
  {
   "cell_type": "markdown",
   "metadata": {},
   "source": [
    "**TEST Step 1:** run your function on a test version of the board list, and make adjustments as necessary"
   ]
  },
  {
   "cell_type": "code",
   "execution_count": 3,
   "metadata": {},
   "outputs": [
    {
     "name": "stdout",
     "output_type": "stream",
     "text": [
      "Current situation of game!\n",
      "\n",
      "O | X | O\n",
      "--|---|---\n",
      "X | O | X\n",
      "--|---|---\n",
      "  | X | O\n"
     ]
    }
   ],
   "source": [
    "test_board = [' ','X','O','X','O','X','O','X','O','X']\n",
    "display_board(test_board)"
   ]
  },
  {
   "cell_type": "markdown",
   "metadata": {},
   "source": [
    "**Step 2: Write a function that can take in a player input and assign their marker as 'X' or 'O'. Think about using *while* loops to continually ask until you get a correct answer.**"
   ]
  },
  {
   "cell_type": "code",
   "execution_count": 6,
   "metadata": {},
   "outputs": [],
   "source": [
    "def player_input():\n",
    "    choice = \"Not Decided!\"\n",
    "    while choice not in ['X','O']:\n",
    "        choice = input(\"Player 1 Please Enter your choice of Marker! [X or O]\")\n",
    "        if choice not in ['X','O']:\n",
    "            print(\"Payer 1 PLease Enter valid choice from [X or O]\")\n",
    "    if choice == 'X': \n",
    "        player1_marker = 'X'\n",
    "        player2_marker = 'O'\n",
    "    else: \n",
    "        player1_marker = 'O'\n",
    "        player2_marker = 'X'\n",
    "    \n",
    "    return (player1_marker, player2_marker)"
   ]
  },
  {
   "cell_type": "markdown",
   "metadata": {},
   "source": [
    "**TEST Step 2:** run the function to make sure it returns the desired output"
   ]
  },
  {
   "cell_type": "code",
   "execution_count": 7,
   "metadata": {},
   "outputs": [
    {
     "name": "stdout",
     "output_type": "stream",
     "text": [
      "Player 1 Please Enter your choice of Marker! [X or O] X\n"
     ]
    },
    {
     "data": {
      "text/plain": [
       "('X', 'O')"
      ]
     },
     "execution_count": 7,
     "metadata": {},
     "output_type": "execute_result"
    }
   ],
   "source": [
    "player_input()"
   ]
  },
  {
   "cell_type": "markdown",
   "metadata": {},
   "source": [
    "**Step 3: Write a function that takes in the board list object, a marker ('X' or 'O'), and a desired position (number 1-9) and assigns it to the board.**"
   ]
  },
  {
   "cell_type": "code",
   "execution_count": 8,
   "metadata": {},
   "outputs": [],
   "source": [
    "def place_marker(board, marker, position):\n",
    "    board[position-1] = marker\n",
    "    return board"
   ]
  },
  {
   "cell_type": "markdown",
   "metadata": {},
   "source": [
    "**TEST Step 3:** run the place marker function using test parameters and display the modified board"
   ]
  },
  {
   "cell_type": "code",
   "execution_count": 9,
   "metadata": {},
   "outputs": [
    {
     "name": "stdout",
     "output_type": "stream",
     "text": [
      "Current situation of game!\n",
      "\n",
      "O | $ | O\n",
      "--|---|---\n",
      "X | O | X\n",
      "--|---|---\n",
      "  | X | O\n"
     ]
    }
   ],
   "source": [
    "place_marker(test_board,'$',8)\n",
    "display_board(test_board)"
   ]
  },
  {
   "cell_type": "markdown",
   "metadata": {},
   "source": [
    "**Step 4: Write a function that takes in a board and a mark (X or O) and then checks to see if that mark has won. **"
   ]
  },
  {
   "cell_type": "code",
   "execution_count": 10,
   "metadata": {},
   "outputs": [],
   "source": [
    "def win_check(board, mark):\n",
    "    winning_combinations = [\n",
    "        [0,1,2], [3,4,5], [6,7,8],\n",
    "        [0,3,6], [1,4,7], [2,5,8],\n",
    "        [2,4,6], [0,4,8]]\n",
    "    for combination in winning_combinations:\n",
    "        if all(board[i] == mark for i in combination):\n",
    "            return True\n",
    "    return False"
   ]
  },
  {
   "cell_type": "markdown",
   "metadata": {},
   "source": [
    "**TEST Step 4:** run the win_check function against our test_board - it should return True"
   ]
  },
  {
   "cell_type": "code",
   "execution_count": 11,
   "metadata": {},
   "outputs": [
    {
     "name": "stdout",
     "output_type": "stream",
     "text": [
      "True\n"
     ]
    }
   ],
   "source": [
    "print(win_check(test_board,'O'))"
   ]
  },
  {
   "cell_type": "markdown",
   "metadata": {},
   "source": [
    "**Step 5: Write a function that uses the random module to randomly decide which player goes first. You may want to lookup random.randint() Return a string of which player went first.**"
   ]
  },
  {
   "cell_type": "code",
   "execution_count": 12,
   "metadata": {},
   "outputs": [
    {
     "data": {
      "text/plain": [
       "'Player1'"
      ]
     },
     "execution_count": 12,
     "metadata": {},
     "output_type": "execute_result"
    }
   ],
   "source": [
    "import random\n",
    "\n",
    "def choose_first():\n",
    "    random_num = random.randint(0,1)\n",
    "    if random_num == 0: return \"Player1\"\n",
    "    else: return \"PLayer2\"\n",
    "\n",
    "choose_first()"
   ]
  },
  {
   "cell_type": "markdown",
   "metadata": {},
   "source": [
    "**Step 6: Write a function that returns a boolean indicating whether a space on the board is freely available.**"
   ]
  },
  {
   "cell_type": "code",
   "execution_count": 13,
   "metadata": {},
   "outputs": [
    {
     "data": {
      "text/plain": [
       "True"
      ]
     },
     "execution_count": 13,
     "metadata": {},
     "output_type": "execute_result"
    }
   ],
   "source": [
    "def space_check(board, position):\n",
    "    return board[position] == \" \"\n",
    "\n",
    "space_check(test_board, 0)"
   ]
  },
  {
   "cell_type": "markdown",
   "metadata": {},
   "source": [
    "**Step 7: Write a function that checks if the board is full and returns a boolean value. True if full, False otherwise.**"
   ]
  },
  {
   "cell_type": "code",
   "execution_count": 14,
   "metadata": {},
   "outputs": [
    {
     "data": {
      "text/plain": [
       "False"
      ]
     },
     "execution_count": 14,
     "metadata": {},
     "output_type": "execute_result"
    }
   ],
   "source": [
    "def full_board_check(board):\n",
    "    for i in range(0,9):\n",
    "        if space_check(board, i):\n",
    "            return False\n",
    "    return True\n",
    "\n",
    "full_board_check(test_board)"
   ]
  },
  {
   "cell_type": "markdown",
   "metadata": {},
   "source": [
    "**Step 8: Write a function that asks for a player's next position (as a number 1-9) and then uses the function from step 6 to check if it's a free position. If it is, then return the position for later use.**"
   ]
  },
  {
   "cell_type": "code",
   "execution_count": 16,
   "metadata": {},
   "outputs": [
    {
     "name": "stdout",
     "output_type": "stream",
     "text": [
      "Enter a position you want to place your marker next! (1-9) :  1\n"
     ]
    },
    {
     "data": {
      "text/plain": [
       "1"
      ]
     },
     "execution_count": 16,
     "metadata": {},
     "output_type": "execute_result"
    }
   ],
   "source": [
    "def player_choice(board):\n",
    "    choice = \"Not Decided!\"\n",
    "\n",
    "    acceptable_choices = list(range(1,10))\n",
    "    # print(acceptable_choices)\n",
    "\n",
    "    while choice not in acceptable_choices:\n",
    "        choice = input(\"Enter a position you want to place your marker next! (1-9) : \")\n",
    "\n",
    "        if not choice.isdigit():\n",
    "            print(\"Please enter a valid choice from (1-9)\")\n",
    "        elif choice.isdigit() and int(choice) not in acceptable_choices:\n",
    "                       print(\"Please enter a valid choice from (1-9)\")\n",
    "        if choice.isdigit() and int(choice) in acceptable_choices:\n",
    "                       if space_check(board, int(choice)-1): return int(choice)\n",
    "                       else: print(f\"{choice} is not empty. Please choose another position\")\n",
    "\n",
    "    # position = 0\n",
    "    \n",
    "    # while position not in [1,2,3,4,5,6,7,8,9] or not space_check(board, position):\n",
    "    #     position = int(input('Choose your next position: (1-9) '))\n",
    "    # return position\n",
    "player_choice(test_board)"
   ]
  },
  {
   "cell_type": "markdown",
   "metadata": {},
   "source": [
    "**Step 9: Write a function that asks the player if they want to play again and returns a boolean True if they do want to play again.**"
   ]
  },
  {
   "cell_type": "code",
   "execution_count": 17,
   "metadata": {},
   "outputs": [
    {
     "name": "stdout",
     "output_type": "stream",
     "text": [
      "Enter whether you still want to playt or not? (Y/N) Y\n"
     ]
    },
    {
     "data": {
      "text/plain": [
       "True"
      ]
     },
     "execution_count": 17,
     "metadata": {},
     "output_type": "execute_result"
    }
   ],
   "source": [
    "def replay():\n",
    "    choice = \"Not Decided!\"\n",
    "    while choice not in ['Y','N']:\n",
    "        choice = input(\"Enter whether you still want to playt or not? (Y/N)\")\n",
    "        if choice not in ['Y','N']:\n",
    "            print(\"Please enter a valid choice from (Y/N)\")\n",
    "    return choice == 'Y'\n",
    "\n",
    "replay()"
   ]
  },
  {
   "cell_type": "markdown",
   "metadata": {
    "collapsed": true,
    "jupyter": {
     "outputs_hidden": true
    }
   },
   "source": [
    "**Step 10: Here comes the hard part! Use while loops and the functions you've made to run the game!**"
   ]
  },
  {
   "cell_type": "code",
   "execution_count": null,
   "metadata": {},
   "outputs": [
    {
     "ename": "",
     "evalue": "",
     "output_type": "error",
     "traceback": [
      "\u001b[1;31mRunning cells with 'Python 3.13.1' requires the ipykernel package.\n",
      "\u001b[1;31mRun the following command to install 'ipykernel' into the Python environment. \n",
      "\u001b[1;31mCommand: 'c:/Users/KaranJJoshi/AppData/Local/Programs/Python/Python313/python.exe -m pip install ipykernel -U --user --force-reinstall'"
     ]
    }
   ],
   "source": [
    "print('Welcome to Tic Tac Toe!\\n\\n')\n",
    "\n",
    "while True:\n",
    "    game_board = [' ',' ',' ',' ',' ',' ',' ',' ',' ',' ']\n",
    "    display_board(game_board)\n",
    "    \n",
    "    player1_marker, player2_marker = player_input()\n",
    "\n",
    "    turn = choose_first()\n",
    "    \n",
    "    choice = input(\"Do you want to play or not? (Y/N)\")\n",
    "    if choice == 'Y': game_on = True\n",
    "    else: game_on = False\n",
    "    \n",
    "    while game_on:\n",
    "        # player 1's turn :\n",
    "        if turn == 'Player1':\n",
    "            player1_choice = player_choice(game_board)\n",
    "            place_marker(game_board, player1_marker, player1_choice)\n",
    "        \n",
    "            clear_output()\n",
    "            display_board(game_board)\n",
    "\n",
    "            if win_check(game_board, player1_marker):\n",
    "                print(\"Hooray! Player 1 won the game!\")\n",
    "                game_on = False\n",
    "                break\n",
    "            elif full_board_check(game_board):\n",
    "                print(\"Game is tied!\")\n",
    "                game_on = False\n",
    "                break\n",
    "            else: \n",
    "                turn = 'Player2'\n",
    "        # player 2's turn :      \n",
    "        else:\n",
    "            player2_choice = player_choice(game_board)\n",
    "            place_marker(game_board, player2_marker, player2_choice)\n",
    "        \n",
    "            clear_output()\n",
    "            display_board(game_board)\n",
    "\n",
    "            if win_check(game_board, player2_marker):\n",
    "                print(\"Hooray! Player 2 won the game!\")\n",
    "                game_on = False\n",
    "                break\n",
    "            elif full_board_check(game_board):\n",
    "                print(\"Game is tied!\")\n",
    "                game_on = False\n",
    "                break\n",
    "            else:\n",
    "                turn = 'Player1'\n",
    "        \n",
    "    if not replay():\n",
    "        break"
   ]
  },
  {
   "cell_type": "markdown",
   "metadata": {
    "collapsed": true,
    "jupyter": {
     "outputs_hidden": true
    }
   },
   "source": [
    "## Good Job!"
   ]
  }
 ],
 "metadata": {
  "kernelspec": {
   "display_name": "Python 3 (ipykernel)",
   "language": "python",
   "name": "python3"
  },
  "language_info": {
   "codemirror_mode": {
    "name": "ipython",
    "version": 3
   },
   "file_extension": ".py",
   "mimetype": "text/x-python",
   "name": "python",
   "nbconvert_exporter": "python",
   "pygments_lexer": "ipython3",
   "version": "3.12.7"
  }
 },
 "nbformat": 4,
 "nbformat_minor": 4
}
