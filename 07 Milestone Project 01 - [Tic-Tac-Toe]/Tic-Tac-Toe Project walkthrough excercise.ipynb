{
 "cells": [
  {
   "cell_type": "code",
   "execution_count": 4,
   "id": "fe61086b-9080-4273-83f1-b0d7f2318cba",
   "metadata": {},
   "outputs": [
    {
     "name": "stdout",
     "output_type": "stream",
     "text": [
      "['1', '2', '3']\n",
      "['4', '5', '6']\n",
      "['7', '8', '9']\n"
     ]
    }
   ],
   "source": [
    "mylist1 = ['1','2','3']\n",
    "mylist2 = ['4','5','6']\n",
    "mylist3 = ['7','8','9']\n",
    "\n",
    "game_board = [mylist1, mylist2, mylist3]\n",
    "\n",
    "for lst in game_board:\n",
    "    print(lst)"
   ]
  },
  {
   "cell_type": "code",
   "execution_count": 6,
   "id": "e00c1318-6ddb-4fae-8a0e-ca515d18c93d",
   "metadata": {},
   "outputs": [
    {
     "name": "stdin",
     "output_type": "stream",
     "text": [
      "Enter your choice of position :  2\n"
     ]
    }
   ],
   "source": [
    "# user input\n",
    "result = int(input(\"Enter your choice of position : \"))"
   ]
  },
  {
   "cell_type": "code",
   "execution_count": 7,
   "id": "9b554cfc-4fed-47b5-b875-a8dfd82e7bcf",
   "metadata": {},
   "outputs": [
    {
     "data": {
      "text/plain": [
       "2"
      ]
     },
     "execution_count": 7,
     "metadata": {},
     "output_type": "execute_result"
    }
   ],
   "source": [
    "result"
   ]
  },
  {
   "cell_type": "code",
   "execution_count": 8,
   "id": "259cfa5b-f8d1-4395-b43f-e990af11570a",
   "metadata": {},
   "outputs": [],
   "source": [
    "# ## NOTE : Don't run out input cel twice it'll stuck in loop or deadlock\n",
    "#           And only way to make out of it is restarting of kernel"
   ]
  },
  {
   "cell_type": "code",
   "execution_count": 10,
   "id": "c73bfef9-106d-4a34-a635-56a57eba8de5",
   "metadata": {},
   "outputs": [],
   "source": [
    "# simple user interaction game"
   ]
  },
  {
   "cell_type": "code",
   "execution_count": 13,
   "id": "da1a4d8a-edd2-4213-a272-52485af276c3",
   "metadata": {},
   "outputs": [],
   "source": [
    "game_list = ['0','1','2']"
   ]
  },
  {
   "cell_type": "code",
   "execution_count": 15,
   "id": "1d2f5591-ef49-4a6e-8e93-fe7926c43b22",
   "metadata": {},
   "outputs": [
    {
     "name": "stdout",
     "output_type": "stream",
     "text": [
      "Here's the current list\n",
      "['0', '1', '2']\n"
     ]
    }
   ],
   "source": [
    "def display_game(game_list):\n",
    "    print(\"Here's the current list\")\n",
    "    print(game_list)\n",
    "\n",
    "display_game(game_list)"
   ]
  },
  {
   "cell_type": "code",
   "execution_count": 17,
   "id": "8bf10e6a-e3be-4ecd-a542-d7e4d54f95b6",
   "metadata": {},
   "outputs": [],
   "source": [
    "def player_choice():\n",
    "\n",
    "    # initial choice wrong or false value\n",
    "    choice = 'Wrong!'\n",
    "\n",
    "    acceptable_values = ['0','1','2']\n",
    "\n",
    "    while choice not in acceptable_values:\n",
    "        choice = input('Enter your choice to update list (0, 1 or 2)')\n",
    "        if choice not in acceptable_values:\n",
    "            print(\"Please enter valid choice!\")\n",
    "\n",
    "    return int(choice)"
   ]
  },
  {
   "cell_type": "code",
   "execution_count": 18,
   "id": "af2269ad-fc09-4377-b026-ac0ffaec9447",
   "metadata": {},
   "outputs": [
    {
     "name": "stdin",
     "output_type": "stream",
     "text": [
      "Enter your choice to update list (0, 1 or 2) dsa\n"
     ]
    },
    {
     "name": "stdout",
     "output_type": "stream",
     "text": [
      "Please enter valid choice!\n"
     ]
    },
    {
     "name": "stdin",
     "output_type": "stream",
     "text": [
      "Enter your choice to update list (0, 1 or 2) d\n"
     ]
    },
    {
     "name": "stdout",
     "output_type": "stream",
     "text": [
      "Please enter valid choice!\n"
     ]
    },
    {
     "name": "stdin",
     "output_type": "stream",
     "text": [
      "Enter your choice to update list (0, 1 or 2) 7\n"
     ]
    },
    {
     "name": "stdout",
     "output_type": "stream",
     "text": [
      "Please enter valid choice!\n"
     ]
    },
    {
     "name": "stdin",
     "output_type": "stream",
     "text": [
      "Enter your choice to update list (0, 1 or 2) 1\n"
     ]
    },
    {
     "data": {
      "text/plain": [
       "1"
      ]
     },
     "execution_count": 18,
     "metadata": {},
     "output_type": "execute_result"
    }
   ],
   "source": [
    "player_choice()"
   ]
  },
  {
   "cell_type": "code",
   "execution_count": 19,
   "id": "36caec04-86fd-4228-856c-b696f43996e8",
   "metadata": {},
   "outputs": [],
   "source": [
    "def replacement_choice(game_list, position):\n",
    "    replacement_string = input(f\"Please Enter a string you want to replace at position {position}\")\n",
    "    game_list[position] = replacement_string\n",
    "\n",
    "    return game_list"
   ]
  },
  {
   "cell_type": "code",
   "execution_count": 22,
   "id": "f3129a65-52fc-43f8-8dea-cc86e259e7dc",
   "metadata": {},
   "outputs": [
    {
     "name": "stdin",
     "output_type": "stream",
     "text": [
      "Please Enter a string you want to replace at position 2 \"Hello\"\n"
     ]
    },
    {
     "data": {
      "text/plain": [
       "['0', '1', '\"Hello\"']"
      ]
     },
     "execution_count": 22,
     "metadata": {},
     "output_type": "execute_result"
    }
   ],
   "source": [
    "replacement_choice(game_list, 2)"
   ]
  },
  {
   "cell_type": "code",
   "execution_count": 23,
   "id": "a26b5202-eac6-4278-b400-d111d5771a49",
   "metadata": {},
   "outputs": [],
   "source": [
    "def gameon_choice():\n",
    "    choice = 'NOt Decided!'\n",
    "\n",
    "    while choice not in ['Y','N']:\n",
    "        choice = input(\"Enter a choice whether you still want to play or not? Y or N\")\n",
    "\n",
    "        if choice not in ['Y','N']:\n",
    "            print(\"Please Enter a valid choice from Y or N\")\n",
    "\n",
    "    if choice == 'Y': return True\n",
    "    else: return False"
   ]
  },
  {
   "cell_type": "code",
   "execution_count": 24,
   "id": "f41636aa-bc65-4368-a28f-7b86e82dff8a",
   "metadata": {},
   "outputs": [
    {
     "name": "stdin",
     "output_type": "stream",
     "text": [
      "Enter a choice whether you still want to play or not? Y or N asfas\n"
     ]
    },
    {
     "name": "stdout",
     "output_type": "stream",
     "text": [
      "Please Enter a valid choice from Y or N\n"
     ]
    },
    {
     "name": "stdin",
     "output_type": "stream",
     "text": [
      "Enter a choice whether you still want to play or not? Y or N N\n"
     ]
    },
    {
     "data": {
      "text/plain": [
       "False"
      ]
     },
     "execution_count": 24,
     "metadata": {},
     "output_type": "execute_result"
    }
   ],
   "source": [
    "gameon_choice()"
   ]
  },
  {
   "cell_type": "code",
   "execution_count": 26,
   "id": "2d58da57-9986-49dd-9925-84b51ad8e5f9",
   "metadata": {},
   "outputs": [
    {
     "name": "stdout",
     "output_type": "stream",
     "text": [
      "Here's the current list\n",
      "[0, 1, 2]\n"
     ]
    },
    {
     "name": "stdin",
     "output_type": "stream",
     "text": [
      "Enter your choice to update list (0, 1 or 2) gf\n"
     ]
    },
    {
     "name": "stdout",
     "output_type": "stream",
     "text": [
      "Please enter valid choice!\n"
     ]
    },
    {
     "name": "stdin",
     "output_type": "stream",
     "text": [
      "Enter your choice to update list (0, 1 or 2) 5\n"
     ]
    },
    {
     "name": "stdout",
     "output_type": "stream",
     "text": [
      "Please enter valid choice!\n"
     ]
    },
    {
     "name": "stdin",
     "output_type": "stream",
     "text": [
      "Enter your choice to update list (0, 1 or 2) 2\n",
      "Please Enter a string you want to replace at position 2 Karan\n"
     ]
    },
    {
     "name": "stdout",
     "output_type": "stream",
     "text": [
      "Here's the current list\n",
      "[0, 1, 'Karan']\n"
     ]
    },
    {
     "name": "stdin",
     "output_type": "stream",
     "text": [
      "Enter a choice whether you still want to play or not? Y or N N\n"
     ]
    }
   ],
   "source": [
    "gameon = True\n",
    "\n",
    "while gameon:\n",
    "    game_list = [0,1,2]\n",
    "\n",
    "    display_game(game_list)\n",
    "\n",
    "    position = player_choice()\n",
    "\n",
    "    game_list = replacement_choice(game_list, position)\n",
    "\n",
    "    display_game(game_list)\n",
    "\n",
    "    gameon = gameon_choice()"
   ]
  },
  {
   "cell_type": "code",
   "execution_count": null,
   "id": "4a4abbb3-4f7c-4147-8934-4c9e5d0bd57c",
   "metadata": {},
   "outputs": [],
   "source": []
  }
 ],
 "metadata": {
  "kernelspec": {
   "display_name": "Python 3 (ipykernel)",
   "language": "python",
   "name": "python3"
  },
  "language_info": {
   "codemirror_mode": {
    "name": "ipython",
    "version": 3
   },
   "file_extension": ".py",
   "mimetype": "text/x-python",
   "name": "python",
   "nbconvert_exporter": "python",
   "pygments_lexer": "ipython3",
   "version": "3.12.7"
  }
 },
 "nbformat": 4,
 "nbformat_minor": 5
}
