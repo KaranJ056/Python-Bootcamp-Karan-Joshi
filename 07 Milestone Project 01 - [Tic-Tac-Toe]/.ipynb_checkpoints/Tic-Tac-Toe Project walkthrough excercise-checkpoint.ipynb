{
 "cells": [
  {
   "cell_type": "code",
   "execution_count": 4,
   "id": "fe61086b-9080-4273-83f1-b0d7f2318cba",
   "metadata": {},
   "outputs": [
    {
     "name": "stdout",
     "output_type": "stream",
     "text": [
      "['1', '2', '3']\n",
      "['4', '5', '6']\n",
      "['7', '8', '9']\n"
     ]
    }
   ],
   "source": [
    "mylist1 = ['1','2','3']\n",
    "mylist2 = ['4','5','6']\n",
    "mylist3 = ['7','8','9']\n",
    "\n",
    "game_board = [mylist1, mylist2, mylist3]\n",
    "\n",
    "for lst in game_board:\n",
    "    print(lst)"
   ]
  },
  {
   "cell_type": "code",
   "execution_count": 6,
   "id": "e00c1318-6ddb-4fae-8a0e-ca515d18c93d",
   "metadata": {},
   "outputs": [
    {
     "name": "stdin",
     "output_type": "stream",
     "text": [
      "Enter your choice of position :  2\n"
     ]
    }
   ],
   "source": [
    "# user input\n",
    "result = int(input(\"Enter your choice of position : \"))"
   ]
  },
  {
   "cell_type": "code",
   "execution_count": 7,
   "id": "9b554cfc-4fed-47b5-b875-a8dfd82e7bcf",
   "metadata": {},
   "outputs": [
    {
     "data": {
      "text/plain": [
       "2"
      ]
     },
     "execution_count": 7,
     "metadata": {},
     "output_type": "execute_result"
    }
   ],
   "source": [
    "result"
   ]
  },
  {
   "cell_type": "code",
   "execution_count": null,
   "id": "259cfa5b-f8d1-4395-b43f-e990af11570a",
   "metadata": {},
   "outputs": [],
   "source": [
    "# ## NOTE : Don't run out input cel twice it'll stuck in loop or deadlock\n",
    "#           And only way to make out of it is restarting of kernel"
   ]
  }
 ],
 "metadata": {
  "kernelspec": {
   "display_name": "Python 3 (ipykernel)",
   "language": "python",
   "name": "python3"
  },
  "language_info": {
   "codemirror_mode": {
    "name": "ipython",
    "version": 3
   },
   "file_extension": ".py",
   "mimetype": "text/x-python",
   "name": "python",
   "nbconvert_exporter": "python",
   "pygments_lexer": "ipython3",
   "version": "3.12.7"
  }
 },
 "nbformat": 4,
 "nbformat_minor": 5
}
