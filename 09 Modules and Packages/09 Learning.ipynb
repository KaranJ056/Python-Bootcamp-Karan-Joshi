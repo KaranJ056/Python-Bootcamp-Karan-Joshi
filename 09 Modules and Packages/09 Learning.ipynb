{
 "cells": [
  {
   "cell_type": "raw",
   "id": "9bdbaa9d-6659-48da-a9fe-74cf68440557",
   "metadata": {},
   "source": [
    "PyPI with pip install\n",
    "\n",
    "PyPI is a repository for open-source third party Python packages"
   ]
  },
  {
   "cell_type": "code",
   "execution_count": 1,
   "id": "f27990dc-fd28-4ece-a4c3-3c5d893fbd46",
   "metadata": {},
   "outputs": [],
   "source": [
    "## refer myprogram.py for understanding more"
   ]
  },
  {
   "cell_type": "raw",
   "id": "f37667d0-5e4b-4103-8405-ebcd8d7ebd0d",
   "metadata": {},
   "source": [
    "# __name__ and __main__\n",
    "\n",
    "Sometimes when you are importing from a module, you would like to know whether\n",
    "a modules function is being used as an import, or if you are using the original\n",
    ".py file of that module. In this case we can use the:\n",
    "\n",
    "      if __name__ == \"__main__\":"
   ]
  },
  {
   "cell_type": "raw",
   "id": "4de0a593-9a3b-4f95-9bcf-671a7c413575",
   "metadata": {},
   "source": [
    "__all__ attribute in packages\n",
    "The __all__ attribute is a list defined inside a module or package, which controls what gets exposed when the from package import * syntax is used.\n",
    "\n",
    "\n",
    "The __init__.py file is an essential part of Python packages. Its primary role is to mark a directory as a Python package and to initialize the package when it is imported."
   ]
  },
  {
   "cell_type": "code",
   "execution_count": null,
   "id": "31d528ed-dd78-46e6-bd05-8b8998395bcb",
   "metadata": {},
   "outputs": [],
   "source": []
  }
 ],
 "metadata": {
  "kernelspec": {
   "display_name": "Python 3 (ipykernel)",
   "language": "python",
   "name": "python3"
  },
  "language_info": {
   "codemirror_mode": {
    "name": "ipython",
    "version": 3
   },
   "file_extension": ".py",
   "mimetype": "text/x-python",
   "name": "python",
   "nbconvert_exporter": "python",
   "pygments_lexer": "ipython3",
   "version": "3.12.7"
  }
 },
 "nbformat": 4,
 "nbformat_minor": 5
}
