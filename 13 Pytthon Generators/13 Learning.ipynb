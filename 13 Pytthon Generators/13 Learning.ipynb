{
 "cells": [
  {
   "cell_type": "markdown",
   "id": "17a057e5-0c74-4db8-a0c9-efb92c236137",
   "metadata": {},
   "source": [
    "## Python Genrators\n",
    "\n",
    "### Python genrators are functions that allow us to write a function that returns a value and then later resume where it left off.\n",
    "### Main difference b/w normal function and genrator is genrator make use of yield statement in it"
   ]
  },
  {
   "cell_type": "code",
   "execution_count": 3,
   "id": "d3fb3d51-c85c-4776-b903-a65d0f53f8cc",
   "metadata": {},
   "outputs": [
    {
     "data": {
      "text/plain": [
       "[0, 1, 8, 27, 64, 125, 216, 343, 512, 729]"
      ]
     },
     "execution_count": 3,
     "metadata": {},
     "output_type": "execute_result"
    }
   ],
   "source": [
    "# example:\n",
    "\n",
    "def create_cubes(n):\n",
    "    return [num**3 for num in range(n)]\n",
    "\n",
    "create_cubes(10)\n",
    "\n",
    "## above holds lot memory for larger input and not efficient if we don't actually want list of cubes but only latest num cube"
   ]
  },
  {
   "cell_type": "code",
   "execution_count": 4,
   "id": "55c54a0c-dec6-4238-a80f-a844bfc4736e",
   "metadata": {},
   "outputs": [],
   "source": [
    "# do following instead\n",
    "\n",
    "def create_cubes(n):\n",
    "    for x in range(n):\n",
    "        yield x**3"
   ]
  },
  {
   "cell_type": "code",
   "execution_count": 6,
   "id": "3bc491e7-91d5-4e31-b1ee-4ad13d4c2029",
   "metadata": {},
   "outputs": [
    {
     "data": {
      "text/plain": [
       "<generator object create_cubes at 0x0000029DEB0D6F60>"
      ]
     },
     "execution_count": 6,
     "metadata": {},
     "output_type": "execute_result"
    }
   ],
   "source": [
    "create_cubes(3)"
   ]
  },
  {
   "cell_type": "code",
   "execution_count": 10,
   "id": "835e75bf-057f-440d-973d-d7285e02ead9",
   "metadata": {},
   "outputs": [
    {
     "name": "stdout",
     "output_type": "stream",
     "text": [
      "<generator object create_cubes at 0x0000029DEB2069B0>\n"
     ]
    }
   ],
   "source": [
    "print(create_cubes(10))"
   ]
  },
  {
   "cell_type": "code",
   "execution_count": 11,
   "id": "d609de63-1c30-4e1e-9317-eadf87607c74",
   "metadata": {},
   "outputs": [
    {
     "name": "stdout",
     "output_type": "stream",
     "text": [
      "[0, 1, 8, 27, 64, 125, 216, 343, 512, 729]\n"
     ]
    }
   ],
   "source": [
    "print(list(create_cubes(10)))"
   ]
  },
  {
   "cell_type": "code",
   "execution_count": 13,
   "id": "2c66897e-7ce1-49b1-aaa1-87d0a0e6b981",
   "metadata": {},
   "outputs": [
    {
     "name": "stdout",
     "output_type": "stream",
     "text": [
      "<generator object get_fibon at 0x0000029DEBA2D9A0>\n"
     ]
    }
   ],
   "source": [
    "def get_fibon(n):\n",
    "    a, b = 1, 1\n",
    "    for num in range(n):\n",
    "        yield a\n",
    "        a, b = b, a+b\n",
    "\n",
    "print(get_fibon(10))"
   ]
  },
  {
   "cell_type": "code",
   "execution_count": 15,
   "id": "1a20df55-2cff-4547-b858-13891bc23260",
   "metadata": {},
   "outputs": [
    {
     "name": "stdout",
     "output_type": "stream",
     "text": [
      "[1, 1, 2, 3, 5, 8, 13, 21, 34, 55]\n"
     ]
    }
   ],
   "source": [
    "print(list(get_fibon(10)))"
   ]
  },
  {
   "cell_type": "code",
   "execution_count": 22,
   "id": "943e2479-5c2d-4cb1-bc21-09ed67b4d2f5",
   "metadata": {},
   "outputs": [
    {
     "data": {
      "text/plain": [
       "<generator object simple_gen at 0x0000029DEBB0A810>"
      ]
     },
     "execution_count": 22,
     "metadata": {},
     "output_type": "execute_result"
    }
   ],
   "source": [
    "# next and iter in generators\n",
    "\n",
    "def simple_gen(n):\n",
    "    for i in range(n):\n",
    "        yield i\n",
    "\n",
    "g = simple_gen(3)\n",
    "\n",
    "g"
   ]
  },
  {
   "cell_type": "code",
   "execution_count": 23,
   "id": "4ba6bac0-c3e7-4093-87c5-9c4dbdcb4fb6",
   "metadata": {},
   "outputs": [
    {
     "data": {
      "text/plain": [
       "0"
      ]
     },
     "execution_count": 23,
     "metadata": {},
     "output_type": "execute_result"
    }
   ],
   "source": [
    "next(g)"
   ]
  },
  {
   "cell_type": "code",
   "execution_count": 24,
   "id": "1063664e-70ae-497d-a97d-c23696146bec",
   "metadata": {},
   "outputs": [
    {
     "data": {
      "text/plain": [
       "1"
      ]
     },
     "execution_count": 24,
     "metadata": {},
     "output_type": "execute_result"
    }
   ],
   "source": [
    "next(g)"
   ]
  },
  {
   "cell_type": "code",
   "execution_count": 25,
   "id": "a2782b00-f7f1-4074-86d0-caa538c8f65f",
   "metadata": {},
   "outputs": [
    {
     "data": {
      "text/plain": [
       "2"
      ]
     },
     "execution_count": 25,
     "metadata": {},
     "output_type": "execute_result"
    }
   ],
   "source": [
    "next(g)"
   ]
  },
  {
   "cell_type": "code",
   "execution_count": 37,
   "id": "1d2e961c-aeba-467b-9c47-0de56d9bc61e",
   "metadata": {},
   "outputs": [
    {
     "name": "stdout",
     "output_type": "stream",
     "text": [
      "K\n",
      "a\n",
      "r\n",
      "a\n",
      "n\n"
     ]
    }
   ],
   "source": [
    "# iter in Python\n",
    "\n",
    "s = \"Karan\"\n",
    "for letter in s:\n",
    "    print(letter)"
   ]
  },
  {
   "cell_type": "code",
   "execution_count": 38,
   "id": "357492bc-e831-4dde-9daa-8c214f0e98a2",
   "metadata": {},
   "outputs": [
    {
     "data": {
      "text/plain": [
       "<str_ascii_iterator at 0x29deaf237f0>"
      ]
     },
     "execution_count": 38,
     "metadata": {},
     "output_type": "execute_result"
    }
   ],
   "source": [
    "# instead we can do following\n",
    "\n",
    "s_iter = iter(s)\n",
    "\n",
    "s_iter"
   ]
  },
  {
   "cell_type": "code",
   "execution_count": 39,
   "id": "6244fd61-cbf7-4b4c-a924-7917991a6923",
   "metadata": {},
   "outputs": [
    {
     "data": {
      "text/plain": [
       "'K'"
      ]
     },
     "execution_count": 39,
     "metadata": {},
     "output_type": "execute_result"
    }
   ],
   "source": [
    "next(s_iter)"
   ]
  },
  {
   "cell_type": "code",
   "execution_count": 40,
   "id": "5a4e6591-c861-4864-bef8-0be7d743c7e8",
   "metadata": {},
   "outputs": [
    {
     "data": {
      "text/plain": [
       "'a'"
      ]
     },
     "execution_count": 40,
     "metadata": {},
     "output_type": "execute_result"
    }
   ],
   "source": [
    "next(s_iter)"
   ]
  },
  {
   "cell_type": "code",
   "execution_count": 41,
   "id": "d4083ea1-79b1-427a-aefa-eaf1c6a24699",
   "metadata": {},
   "outputs": [
    {
     "data": {
      "text/plain": [
       "'r'"
      ]
     },
     "execution_count": 41,
     "metadata": {},
     "output_type": "execute_result"
    }
   ],
   "source": [
    "next(s_iter)"
   ]
  },
  {
   "cell_type": "code",
   "execution_count": 42,
   "id": "64e51a0b-69bb-412a-b544-f02da21b212d",
   "metadata": {},
   "outputs": [
    {
     "data": {
      "text/plain": [
       "'a'"
      ]
     },
     "execution_count": 42,
     "metadata": {},
     "output_type": "execute_result"
    }
   ],
   "source": [
    "next(s_iter)"
   ]
  },
  {
   "cell_type": "code",
   "execution_count": 43,
   "id": "ce64ff4d-df68-496e-8eda-6195bb159445",
   "metadata": {},
   "outputs": [
    {
     "data": {
      "text/plain": [
       "'n'"
      ]
     },
     "execution_count": 43,
     "metadata": {},
     "output_type": "execute_result"
    }
   ],
   "source": [
    "next(s_iter)"
   ]
  },
  {
   "cell_type": "markdown",
   "id": "941d8ca1-a0bb-49ae-a485-5c131ee6d07a",
   "metadata": {},
   "source": [
    "### Generator Comprehensions\n",
    "\n",
    "A generator comprehension is a concise way to create a generator in Python, similar to list comprehensions but with a key difference: a generator comprehension returns a generator object, not a complete list. This makes it more memory efficient, especially when dealing with large data or infinite sequences.\n",
    "\n",
    "Syntax of Generator Comprehension:\n",
    "The syntax for a generator comprehension is similar to a list comprehension but with parentheses () instead of square brackets [].\n",
    "<code>\n",
    "( expression for item in iterable if condition )\n",
    "<code>\n",
    "\n",
    "#### Key Differences from List Comprehension: <br>\n",
    "List comprehension creates and stores the entire list in memory at once. <br>\n",
    "Generator comprehension creates a generator object that generates items one by one, when requested, without storing the entire sequence in memory.\n",
    "\n",
    "#### Why Use Generator Comprehension? <br>\n",
    "Memory Efficient: It does not store all the values in memory at once. Instead, it generates values one by one as needed. <br>\n",
    "Lazy Evaluation: Values are produced only when they are requested (e.g., using next() or a for loop). <br>\n",
    "Useful for Large Data: Ideal for situations where you’re working with large datasets or streams of data and don’t want to store everything in memory. <br>"
   ]
  },
  {
   "cell_type": "code",
   "execution_count": null,
   "id": "cce49635-21e2-4652-af5e-2aa4d6dfdc2f",
   "metadata": {},
   "outputs": [],
   "source": []
  }
 ],
 "metadata": {
  "kernelspec": {
   "display_name": "Python 3 (ipykernel)",
   "language": "python",
   "name": "python3"
  },
  "language_info": {
   "codemirror_mode": {
    "name": "ipython",
    "version": 3
   },
   "file_extension": ".py",
   "mimetype": "text/x-python",
   "name": "python",
   "nbconvert_exporter": "python",
   "pygments_lexer": "ipython3",
   "version": "3.12.7"
  }
 },
 "nbformat": 4,
 "nbformat_minor": 5
}
