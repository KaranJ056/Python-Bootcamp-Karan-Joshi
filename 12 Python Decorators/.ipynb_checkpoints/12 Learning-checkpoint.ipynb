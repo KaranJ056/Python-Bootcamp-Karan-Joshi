{
 "cells": [
  {
   "cell_type": "markdown",
   "id": "d8443cbf",
   "metadata": {},
   "source": [
    "## Decorators in Python\n",
    "\n",
    "Decorators are functions that take another functions as arguments and returns a function.\n",
    "\n",
    "We can think of decorators as a functions that extend the behavior of a function\n",
    "w/o modifying the base function.\n",
    "\n",
    "Example:\n",
    "    <code>\n",
    "    @add_sprinkles\n",
    "    get_ice_cream('Vanilla')\n",
    "    <code>\n",
    "\n",
    "To undersatand it in better way, we can think decorators as toll booth that are present on the highway.\n",
    "Every car have to pass through it. Some car has high toll some has low toll.\n",
    "As this in Pytjon if we want to add functionality in our function instead of doing it in every function manually,\n",
    "We can use Decorators for that use."
   ]
  },
  {
   "cell_type": "code",
   "execution_count": 2,
   "id": "36514f98",
   "metadata": {},
   "outputs": [
    {
     "name": "stdout",
     "output_type": "stream",
     "text": [
      "Do something before function call/run\n",
      "Function being excuted\n",
      "Do something after function call/run\n"
     ]
    }
   ],
   "source": [
    "# Example:\n",
    "\n",
    "def my_decorator(func):\n",
    "    def wrapper(*args, **kwargs):\n",
    "        print(f\"Do something before function call/run\")\n",
    "        func(*args, **kwargs)\n",
    "        print(f\"Do something after function call/run\")\n",
    "    return wrapper\n",
    "\n",
    "@my_decorator\n",
    "def my_func():\n",
    "    print(f\"Function being excuted\")\n",
    "\n",
    "my_func()"
   ]
  },
  {
   "cell_type": "code",
   "execution_count": 13,
   "id": "a2853112-876c-46d8-9689-36500235c1f4",
   "metadata": {},
   "outputs": [],
   "source": [
    "# we can do passing, executing and returning a function from the other function\n",
    "\n",
    "# returning a function from function\n",
    "def hello(name='Karan'):\n",
    "    print(f\"Hello function is being executed\")\n",
    "\n",
    "    def greet():\n",
    "        print(f\"\\t This is greet() inside of hello!\")\n",
    "        \n",
    "    def welcome():\n",
    "        print(f\"\\t This is welcome() inside of hello!\")\n",
    "\n",
    "    print(f\"I am going to return a function\")\n",
    "\n",
    "    if name == \"Karan\":\n",
    "        return greet\n",
    "    else:\n",
    "        return welcome"
   ]
  },
  {
   "cell_type": "code",
   "execution_count": 14,
   "id": "c69e09c9-b5e4-4480-8a96-4993bbc71925",
   "metadata": {},
   "outputs": [
    {
     "name": "stdout",
     "output_type": "stream",
     "text": [
      "Hello function is being executed\n",
      "I am going to return a function\n"
     ]
    }
   ],
   "source": [
    "my_new_func = hello('Karan')"
   ]
  },
  {
   "cell_type": "code",
   "execution_count": 15,
   "id": "f622b333-86f0-43b9-943c-a8d7be29bc52",
   "metadata": {},
   "outputs": [
    {
     "data": {
      "text/plain": [
       "<function __main__.hello.<locals>.greet()>"
      ]
     },
     "execution_count": 15,
     "metadata": {},
     "output_type": "execute_result"
    }
   ],
   "source": [
    "my_new_func"
   ]
  },
  {
   "cell_type": "code",
   "execution_count": 16,
   "id": "aa50cf52-0f80-456c-8514-494028db6c65",
   "metadata": {},
   "outputs": [
    {
     "name": "stdout",
     "output_type": "stream",
     "text": [
      "\t This is greet() inside of hello!\n"
     ]
    }
   ],
   "source": [
    "my_new_func()"
   ]
  },
  {
   "cell_type": "code",
   "execution_count": null,
   "id": "a9cb19f4-4de1-409d-bb9f-a0d32298c778",
   "metadata": {},
   "outputs": [],
   "source": []
  }
 ],
 "metadata": {
  "kernelspec": {
   "display_name": "Python 3 (ipykernel)",
   "language": "python",
   "name": "python3"
  },
  "language_info": {
   "codemirror_mode": {
    "name": "ipython",
    "version": 3
   },
   "file_extension": ".py",
   "mimetype": "text/x-python",
   "name": "python",
   "nbconvert_exporter": "python",
   "pygments_lexer": "ipython3",
   "version": "3.12.7"
  }
 },
 "nbformat": 4,
 "nbformat_minor": 5
}
