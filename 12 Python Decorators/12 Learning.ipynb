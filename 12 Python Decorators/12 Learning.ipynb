{
 "cells": [
  {
   "cell_type": "markdown",
   "id": "d8443cbf",
   "metadata": {},
   "source": [
    "## Decorators in Python\n",
    "\n",
    "Decorators are functions that take another functions as arguments and returns a function.\n",
    "\n",
    "We can think of decorators as a functions that extend the behavior of a function\n",
    "w/o modifying the base function.\n",
    "\n",
    "Example:\n",
    "    <code>\n",
    "    @add_sprinkles\n",
    "    get_ice_cream('Vanilla')\n",
    "    <code>\n",
    "\n",
    "To undersatand it in better way, we can think decorators as toll booth that are present on the highway.\n",
    "Every car have to pass through it. Some car has high toll some has low toll.\n",
    "As this in Pytjon if we want to add functionality in our function instead of doing it in every function manually,\n",
    "We can use Decorators for that use."
   ]
  },
  {
   "cell_type": "code",
   "execution_count": 2,
   "id": "36514f98",
   "metadata": {},
   "outputs": [
    {
     "name": "stdout",
     "output_type": "stream",
     "text": [
      "Do something before function call/run\n",
      "Function being excuted\n",
      "Do something after function call/run\n"
     ]
    }
   ],
   "source": [
    "# Example:\n",
    "\n",
    "def my_decorator(func):\n",
    "    def wrapper(*args, **kwargs):\n",
    "        print(f\"Do something before function call/run\")\n",
    "        func(*args, **kwargs)\n",
    "        print(f\"Do something after function call/run\")\n",
    "    return wrapper\n",
    "\n",
    "@my_decorator\n",
    "def my_func():\n",
    "    print(f\"Function being excuted\")\n",
    "\n",
    "my_func()"
   ]
  },
  {
   "cell_type": "code",
   "execution_count": 17,
   "id": "a2853112-876c-46d8-9689-36500235c1f4",
   "metadata": {},
   "outputs": [],
   "source": [
    "# we can do passing, executing and returning a function from the other function\n",
    "\n",
    "# returning a function from function\n",
    "def hello(name='Karan'):\n",
    "    print(f\"Hello function is being executed\")\n",
    "\n",
    "    def greet():\n",
    "        print(f\"\\t This is greet() inside of hello!\")\n",
    "        \n",
    "    def welcome():\n",
    "        print(f\"\\t This is welcome() inside of hello!\")\n",
    "\n",
    "    print(f\"I am going to return a function\")\n",
    "\n",
    "    if name == \"Karan\":\n",
    "        return greet\n",
    "    else:\n",
    "        return welcome"
   ]
  },
  {
   "cell_type": "code",
   "execution_count": 18,
   "id": "c69e09c9-b5e4-4480-8a96-4993bbc71925",
   "metadata": {},
   "outputs": [
    {
     "name": "stdout",
     "output_type": "stream",
     "text": [
      "Hello function is being executed\n",
      "I am going to return a function\n"
     ]
    }
   ],
   "source": [
    "my_new_func = hello('Karan')"
   ]
  },
  {
   "cell_type": "code",
   "execution_count": 19,
   "id": "f622b333-86f0-43b9-943c-a8d7be29bc52",
   "metadata": {},
   "outputs": [
    {
     "data": {
      "text/plain": [
       "<function __main__.hello.<locals>.greet()>"
      ]
     },
     "execution_count": 19,
     "metadata": {},
     "output_type": "execute_result"
    }
   ],
   "source": [
    "my_new_func"
   ]
  },
  {
   "cell_type": "code",
   "execution_count": 20,
   "id": "aa50cf52-0f80-456c-8514-494028db6c65",
   "metadata": {},
   "outputs": [
    {
     "name": "stdout",
     "output_type": "stream",
     "text": [
      "\t This is greet() inside of hello!\n"
     ]
    }
   ],
   "source": [
    "my_new_func()"
   ]
  },
  {
   "cell_type": "raw",
   "id": "f3d0f7a2-d551-435e-bc2b-a7ccb23c9ad1",
   "metadata": {},
   "source": [
    "This decorators are mainly used in web frameworks to point to other page in wesite or do some necessary things before function execution.\n",
    "Like we want the user to be logged in before accessing any functionality of a web page."
   ]
  },
  {
   "cell_type": "markdown",
   "id": "1327611e-4879-473f-b83b-c093e23b1ea1",
   "metadata": {},
   "source": [
    "## Excercise:\n",
    "\n",
    "### Timing Function Execution\n",
    "Write a decorator to measure time that function take to execute\n",
    "\n",
    "### Debugging Function Calls\n",
    "Create a decorator to print the function name and values of arguments every time function is called\n",
    "\n",
    "### Cache Return Values\n",
    "Iplement a decorator that caches the return values of a function, so that when it's called again with same args, the cached value can be returned w/o re-executing the function"
   ]
  },
  {
   "cell_type": "code",
   "execution_count": 26,
   "id": "0a993a1f-2504-4690-b7b6-d1214780a3af",
   "metadata": {},
   "outputs": [
    {
     "name": "stdout",
     "output_type": "stream",
     "text": [
      "Executed\n",
      "function executed in 4.0009236335754395 seconds of  time\n"
     ]
    }
   ],
   "source": [
    "# Sol-1\n",
    "import time\n",
    "\n",
    "def timer(func):\n",
    "    def wrapper(*args, **kwargs):\n",
    "        start = time.time()\n",
    "        func()\n",
    "        end = time.time()\n",
    "        print(f\"function executed in {end-start} seconds of  time\")\n",
    "    return wrapper\n",
    "\n",
    "@timer\n",
    "def my_func():\n",
    "    time.sleep(4)\n",
    "    print(f\"Executed\")\n",
    "\n",
    "my_func()"
   ]
  },
  {
   "cell_type": "code",
   "execution_count": 30,
   "id": "4269e0bf-aed5-46d0-98f2-39d41a18b234",
   "metadata": {},
   "outputs": [
    {
     "name": "stdout",
     "output_type": "stream",
     "text": [
      "greet is called/ran\n",
      "\n",
      "With Args:\n",
      "['Karan']\n",
      "\n",
      "With Kwargs:\n",
      "[('greeting', 'Hello')]\n",
      "\n",
      "Hello, Karan\n",
      "greet has executed\n"
     ]
    }
   ],
   "source": [
    "# sol_2\n",
    "\n",
    "def print_name_and_values(func):\n",
    "    def wrapper(*args, **kwargs):\n",
    "        print(f\"{func.__name__} is called/ran\")\n",
    "        print(f\"\\nWith Args:\")\n",
    "        print(f\"{[str(arg) for arg in args]}\")\n",
    "        print(f\"\\nWith Kwargs:\")\n",
    "        print(f\"{[(k, v) for k, v in kwargs.items()]}\")\n",
    "        func(*args, **kwargs)\n",
    "        print(f\"{func.__name__} has executed\")\n",
    "    return wrapper\n",
    "\n",
    "@print_name_and_values\n",
    "def greet(name, greeting=\"Hello\"):\n",
    "    print(f\"\\n{greeting}, {name}\")\n",
    "\n",
    "greet(\"Karan\", greeting=\"Hello\")"
   ]
  },
  {
   "cell_type": "code",
   "execution_count": null,
   "id": "a759c2ba-31d6-4807-ab9c-2c8d0ab6a2e0",
   "metadata": {},
   "outputs": [],
   "source": []
  }
 ],
 "metadata": {
  "kernelspec": {
   "display_name": "Python 3 (ipykernel)",
   "language": "python",
   "name": "python3"
  },
  "language_info": {
   "codemirror_mode": {
    "name": "ipython",
    "version": 3
   },
   "file_extension": ".py",
   "mimetype": "text/x-python",
   "name": "python",
   "nbconvert_exporter": "python",
   "pygments_lexer": "ipython3",
   "version": "3.12.7"
  }
 },
 "nbformat": 4,
 "nbformat_minor": 5
}
